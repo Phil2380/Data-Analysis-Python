{
 "cells": [
  {
   "cell_type": "code",
   "execution_count": 34,
   "id": "1a21e836",
   "metadata": {},
   "outputs": [],
   "source": [
    "import pandas as pd\n",
    "from datetime import date\n",
    "import numpy as np\n",
    "import matplotlib.pyplot as plt"
   ]
  },
  {
   "cell_type": "markdown",
   "id": "085d1bef",
   "metadata": {},
   "source": [
    "# BOOKSHOP"
   ]
  },
  {
   "cell_type": "markdown",
   "id": "2fabf93d",
   "metadata": {},
   "source": [
    "#### Création dataframes à partir des fichier csv"
   ]
  },
  {
   "cell_type": "code",
   "execution_count": 129,
   "id": "d9839ad6",
   "metadata": {},
   "outputs": [],
   "source": [
    "customers=pd.read_csv('customers.csv')\n",
    "products=pd.read_csv('products.csv')\n",
    "transactions=pd.read_csv('transactions.csv')"
   ]
  },
  {
   "cell_type": "markdown",
   "id": "b2a560d4",
   "metadata": {},
   "source": [
    "## Cleaning and preparing"
   ]
  },
  {
   "cell_type": "markdown",
   "id": "6c688cc4",
   "metadata": {},
   "source": [
    "### Dataframe customers"
   ]
  },
  {
   "cell_type": "code",
   "execution_count": 130,
   "id": "7d3b4788",
   "metadata": {},
   "outputs": [
    {
     "data": {
      "text/html": [
       "<div>\n",
       "<style scoped>\n",
       "    .dataframe tbody tr th:only-of-type {\n",
       "        vertical-align: middle;\n",
       "    }\n",
       "\n",
       "    .dataframe tbody tr th {\n",
       "        vertical-align: top;\n",
       "    }\n",
       "\n",
       "    .dataframe thead th {\n",
       "        text-align: right;\n",
       "    }\n",
       "</style>\n",
       "<table border=\"1\" class=\"dataframe\">\n",
       "  <thead>\n",
       "    <tr style=\"text-align: right;\">\n",
       "      <th></th>\n",
       "      <th>client_id</th>\n",
       "      <th>sex</th>\n",
       "      <th>birth</th>\n",
       "    </tr>\n",
       "  </thead>\n",
       "  <tbody>\n",
       "    <tr>\n",
       "      <th>0</th>\n",
       "      <td>c_4410</td>\n",
       "      <td>f</td>\n",
       "      <td>1967</td>\n",
       "    </tr>\n",
       "    <tr>\n",
       "      <th>1</th>\n",
       "      <td>c_7839</td>\n",
       "      <td>f</td>\n",
       "      <td>1975</td>\n",
       "    </tr>\n",
       "    <tr>\n",
       "      <th>2</th>\n",
       "      <td>c_1699</td>\n",
       "      <td>f</td>\n",
       "      <td>1984</td>\n",
       "    </tr>\n",
       "    <tr>\n",
       "      <th>3</th>\n",
       "      <td>c_5961</td>\n",
       "      <td>f</td>\n",
       "      <td>1962</td>\n",
       "    </tr>\n",
       "    <tr>\n",
       "      <th>4</th>\n",
       "      <td>c_5320</td>\n",
       "      <td>m</td>\n",
       "      <td>1943</td>\n",
       "    </tr>\n",
       "    <tr>\n",
       "      <th>...</th>\n",
       "      <td>...</td>\n",
       "      <td>...</td>\n",
       "      <td>...</td>\n",
       "    </tr>\n",
       "    <tr>\n",
       "      <th>8618</th>\n",
       "      <td>c_7920</td>\n",
       "      <td>m</td>\n",
       "      <td>1956</td>\n",
       "    </tr>\n",
       "    <tr>\n",
       "      <th>8619</th>\n",
       "      <td>c_7403</td>\n",
       "      <td>f</td>\n",
       "      <td>1970</td>\n",
       "    </tr>\n",
       "    <tr>\n",
       "      <th>8620</th>\n",
       "      <td>c_5119</td>\n",
       "      <td>m</td>\n",
       "      <td>1974</td>\n",
       "    </tr>\n",
       "    <tr>\n",
       "      <th>8621</th>\n",
       "      <td>c_5643</td>\n",
       "      <td>f</td>\n",
       "      <td>1968</td>\n",
       "    </tr>\n",
       "    <tr>\n",
       "      <th>8622</th>\n",
       "      <td>c_84</td>\n",
       "      <td>f</td>\n",
       "      <td>1982</td>\n",
       "    </tr>\n",
       "  </tbody>\n",
       "</table>\n",
       "<p>8623 rows × 3 columns</p>\n",
       "</div>"
      ],
      "text/plain": [
       "     client_id sex  birth\n",
       "0       c_4410   f   1967\n",
       "1       c_7839   f   1975\n",
       "2       c_1699   f   1984\n",
       "3       c_5961   f   1962\n",
       "4       c_5320   m   1943\n",
       "...        ...  ..    ...\n",
       "8618    c_7920   m   1956\n",
       "8619    c_7403   f   1970\n",
       "8620    c_5119   m   1974\n",
       "8621    c_5643   f   1968\n",
       "8622      c_84   f   1982\n",
       "\n",
       "[8623 rows x 3 columns]"
      ]
     },
     "execution_count": 130,
     "metadata": {},
     "output_type": "execute_result"
    }
   ],
   "source": [
    "customers"
   ]
  },
  {
   "cell_type": "markdown",
   "id": "4af998c4",
   "metadata": {},
   "source": [
    "#### Column types"
   ]
  },
  {
   "cell_type": "code",
   "execution_count": 131,
   "id": "7b9e4915",
   "metadata": {},
   "outputs": [
    {
     "data": {
      "text/plain": [
       "client_id    object\n",
       "sex          object\n",
       "birth         int64\n",
       "dtype: object"
      ]
     },
     "execution_count": 131,
     "metadata": {},
     "output_type": "execute_result"
    }
   ],
   "source": [
    "customers.dtypes"
   ]
  },
  {
   "cell_type": "markdown",
   "id": "ec35ef5f",
   "metadata": {},
   "source": [
    "#### Duplicates"
   ]
  },
  {
   "cell_type": "code",
   "execution_count": 132,
   "id": "271039ef",
   "metadata": {},
   "outputs": [
    {
     "data": {
      "text/plain": [
       "0"
      ]
     },
     "execution_count": 132,
     "metadata": {},
     "output_type": "execute_result"
    }
   ],
   "source": [
    "customers.duplicated().sum()"
   ]
  },
  {
   "cell_type": "markdown",
   "id": "122ed2ae",
   "metadata": {},
   "source": [
    "#### Nulls"
   ]
  },
  {
   "cell_type": "code",
   "execution_count": 133,
   "id": "a6566868",
   "metadata": {},
   "outputs": [
    {
     "data": {
      "text/plain": [
       "client_id    False\n",
       "sex          False\n",
       "birth        False\n",
       "dtype: bool"
      ]
     },
     "execution_count": 133,
     "metadata": {},
     "output_type": "execute_result"
    }
   ],
   "source": [
    "customers.isnull ().any()"
   ]
  },
  {
   "cell_type": "markdown",
   "id": "ea4c43dc",
   "metadata": {},
   "source": [
    "#### Checking values in sex column"
   ]
  },
  {
   "cell_type": "code",
   "execution_count": 134,
   "id": "63468d49",
   "metadata": {},
   "outputs": [
    {
     "data": {
      "text/plain": [
       "array(['f', 'm'], dtype=object)"
      ]
     },
     "execution_count": 134,
     "metadata": {},
     "output_type": "execute_result"
    }
   ],
   "source": [
    "customers['sex'].unique()  "
   ]
  },
  {
   "cell_type": "markdown",
   "id": "3f6579d5",
   "metadata": {},
   "source": [
    "#### Checking if no extrems values in birth column"
   ]
  },
  {
   "cell_type": "code",
   "execution_count": 135,
   "id": "e681385d",
   "metadata": {},
   "outputs": [
    {
     "data": {
      "text/plain": [
       "count    8623.000000\n",
       "mean     1978.280877\n",
       "std        16.919535\n",
       "min      1929.000000\n",
       "25%      1966.000000\n",
       "50%      1979.000000\n",
       "75%      1992.000000\n",
       "max      2004.000000\n",
       "Name: birth, dtype: float64"
      ]
     },
     "execution_count": 135,
     "metadata": {},
     "output_type": "execute_result"
    }
   ],
   "source": [
    "customers['birth'].describe()"
   ]
  },
  {
   "cell_type": "markdown",
   "id": "2c4f7c0f",
   "metadata": {},
   "source": [
    "#### Adding age column"
   ]
  },
  {
   "cell_type": "code",
   "execution_count": 136,
   "id": "2279d9db",
   "metadata": {},
   "outputs": [
    {
     "data": {
      "text/html": [
       "<div>\n",
       "<style scoped>\n",
       "    .dataframe tbody tr th:only-of-type {\n",
       "        vertical-align: middle;\n",
       "    }\n",
       "\n",
       "    .dataframe tbody tr th {\n",
       "        vertical-align: top;\n",
       "    }\n",
       "\n",
       "    .dataframe thead th {\n",
       "        text-align: right;\n",
       "    }\n",
       "</style>\n",
       "<table border=\"1\" class=\"dataframe\">\n",
       "  <thead>\n",
       "    <tr style=\"text-align: right;\">\n",
       "      <th></th>\n",
       "      <th>client_id</th>\n",
       "      <th>sex</th>\n",
       "      <th>birth</th>\n",
       "      <th>age</th>\n",
       "    </tr>\n",
       "  </thead>\n",
       "  <tbody>\n",
       "    <tr>\n",
       "      <th>0</th>\n",
       "      <td>c_4410</td>\n",
       "      <td>f</td>\n",
       "      <td>1967</td>\n",
       "      <td>56</td>\n",
       "    </tr>\n",
       "    <tr>\n",
       "      <th>1</th>\n",
       "      <td>c_7839</td>\n",
       "      <td>f</td>\n",
       "      <td>1975</td>\n",
       "      <td>48</td>\n",
       "    </tr>\n",
       "    <tr>\n",
       "      <th>2</th>\n",
       "      <td>c_1699</td>\n",
       "      <td>f</td>\n",
       "      <td>1984</td>\n",
       "      <td>39</td>\n",
       "    </tr>\n",
       "    <tr>\n",
       "      <th>3</th>\n",
       "      <td>c_5961</td>\n",
       "      <td>f</td>\n",
       "      <td>1962</td>\n",
       "      <td>61</td>\n",
       "    </tr>\n",
       "    <tr>\n",
       "      <th>4</th>\n",
       "      <td>c_5320</td>\n",
       "      <td>m</td>\n",
       "      <td>1943</td>\n",
       "      <td>80</td>\n",
       "    </tr>\n",
       "    <tr>\n",
       "      <th>...</th>\n",
       "      <td>...</td>\n",
       "      <td>...</td>\n",
       "      <td>...</td>\n",
       "      <td>...</td>\n",
       "    </tr>\n",
       "    <tr>\n",
       "      <th>8618</th>\n",
       "      <td>c_7920</td>\n",
       "      <td>m</td>\n",
       "      <td>1956</td>\n",
       "      <td>67</td>\n",
       "    </tr>\n",
       "    <tr>\n",
       "      <th>8619</th>\n",
       "      <td>c_7403</td>\n",
       "      <td>f</td>\n",
       "      <td>1970</td>\n",
       "      <td>53</td>\n",
       "    </tr>\n",
       "    <tr>\n",
       "      <th>8620</th>\n",
       "      <td>c_5119</td>\n",
       "      <td>m</td>\n",
       "      <td>1974</td>\n",
       "      <td>49</td>\n",
       "    </tr>\n",
       "    <tr>\n",
       "      <th>8621</th>\n",
       "      <td>c_5643</td>\n",
       "      <td>f</td>\n",
       "      <td>1968</td>\n",
       "      <td>55</td>\n",
       "    </tr>\n",
       "    <tr>\n",
       "      <th>8622</th>\n",
       "      <td>c_84</td>\n",
       "      <td>f</td>\n",
       "      <td>1982</td>\n",
       "      <td>41</td>\n",
       "    </tr>\n",
       "  </tbody>\n",
       "</table>\n",
       "<p>8623 rows × 4 columns</p>\n",
       "</div>"
      ],
      "text/plain": [
       "     client_id sex  birth  age\n",
       "0       c_4410   f   1967   56\n",
       "1       c_7839   f   1975   48\n",
       "2       c_1699   f   1984   39\n",
       "3       c_5961   f   1962   61\n",
       "4       c_5320   m   1943   80\n",
       "...        ...  ..    ...  ...\n",
       "8618    c_7920   m   1956   67\n",
       "8619    c_7403   f   1970   53\n",
       "8620    c_5119   m   1974   49\n",
       "8621    c_5643   f   1968   55\n",
       "8622      c_84   f   1982   41\n",
       "\n",
       "[8623 rows x 4 columns]"
      ]
     },
     "execution_count": 136,
     "metadata": {},
     "output_type": "execute_result"
    }
   ],
   "source": [
    "customers['age']=date.today().year-customers['birth']\n",
    "customers"
   ]
  },
  {
   "cell_type": "markdown",
   "id": "92b62f97",
   "metadata": {},
   "source": [
    "### Dataframe products"
   ]
  },
  {
   "cell_type": "code",
   "execution_count": 137,
   "id": "38f199d1",
   "metadata": {},
   "outputs": [
    {
     "data": {
      "text/html": [
       "<div>\n",
       "<style scoped>\n",
       "    .dataframe tbody tr th:only-of-type {\n",
       "        vertical-align: middle;\n",
       "    }\n",
       "\n",
       "    .dataframe tbody tr th {\n",
       "        vertical-align: top;\n",
       "    }\n",
       "\n",
       "    .dataframe thead th {\n",
       "        text-align: right;\n",
       "    }\n",
       "</style>\n",
       "<table border=\"1\" class=\"dataframe\">\n",
       "  <thead>\n",
       "    <tr style=\"text-align: right;\">\n",
       "      <th></th>\n",
       "      <th>id_prod</th>\n",
       "      <th>price</th>\n",
       "      <th>categ</th>\n",
       "    </tr>\n",
       "  </thead>\n",
       "  <tbody>\n",
       "    <tr>\n",
       "      <th>0</th>\n",
       "      <td>0_1421</td>\n",
       "      <td>19.99</td>\n",
       "      <td>0</td>\n",
       "    </tr>\n",
       "    <tr>\n",
       "      <th>1</th>\n",
       "      <td>0_1368</td>\n",
       "      <td>5.13</td>\n",
       "      <td>0</td>\n",
       "    </tr>\n",
       "    <tr>\n",
       "      <th>2</th>\n",
       "      <td>0_731</td>\n",
       "      <td>17.99</td>\n",
       "      <td>0</td>\n",
       "    </tr>\n",
       "    <tr>\n",
       "      <th>3</th>\n",
       "      <td>1_587</td>\n",
       "      <td>4.99</td>\n",
       "      <td>1</td>\n",
       "    </tr>\n",
       "    <tr>\n",
       "      <th>4</th>\n",
       "      <td>0_1507</td>\n",
       "      <td>3.99</td>\n",
       "      <td>0</td>\n",
       "    </tr>\n",
       "    <tr>\n",
       "      <th>...</th>\n",
       "      <td>...</td>\n",
       "      <td>...</td>\n",
       "      <td>...</td>\n",
       "    </tr>\n",
       "    <tr>\n",
       "      <th>3282</th>\n",
       "      <td>2_23</td>\n",
       "      <td>115.99</td>\n",
       "      <td>2</td>\n",
       "    </tr>\n",
       "    <tr>\n",
       "      <th>3283</th>\n",
       "      <td>0_146</td>\n",
       "      <td>17.14</td>\n",
       "      <td>0</td>\n",
       "    </tr>\n",
       "    <tr>\n",
       "      <th>3284</th>\n",
       "      <td>0_802</td>\n",
       "      <td>11.22</td>\n",
       "      <td>0</td>\n",
       "    </tr>\n",
       "    <tr>\n",
       "      <th>3285</th>\n",
       "      <td>1_140</td>\n",
       "      <td>38.56</td>\n",
       "      <td>1</td>\n",
       "    </tr>\n",
       "    <tr>\n",
       "      <th>3286</th>\n",
       "      <td>0_1920</td>\n",
       "      <td>25.16</td>\n",
       "      <td>0</td>\n",
       "    </tr>\n",
       "  </tbody>\n",
       "</table>\n",
       "<p>3287 rows × 3 columns</p>\n",
       "</div>"
      ],
      "text/plain": [
       "     id_prod   price  categ\n",
       "0     0_1421   19.99      0\n",
       "1     0_1368    5.13      0\n",
       "2      0_731   17.99      0\n",
       "3      1_587    4.99      1\n",
       "4     0_1507    3.99      0\n",
       "...      ...     ...    ...\n",
       "3282    2_23  115.99      2\n",
       "3283   0_146   17.14      0\n",
       "3284   0_802   11.22      0\n",
       "3285   1_140   38.56      1\n",
       "3286  0_1920   25.16      0\n",
       "\n",
       "[3287 rows x 3 columns]"
      ]
     },
     "execution_count": 137,
     "metadata": {},
     "output_type": "execute_result"
    }
   ],
   "source": [
    "products"
   ]
  },
  {
   "cell_type": "markdown",
   "id": "4ff8d262",
   "metadata": {},
   "source": [
    "#### Column types"
   ]
  },
  {
   "cell_type": "code",
   "execution_count": 138,
   "id": "0931a556",
   "metadata": {},
   "outputs": [
    {
     "data": {
      "text/plain": [
       "id_prod     object\n",
       "price      float64\n",
       "categ        int64\n",
       "dtype: object"
      ]
     },
     "execution_count": 138,
     "metadata": {},
     "output_type": "execute_result"
    }
   ],
   "source": [
    "products.dtypes"
   ]
  },
  {
   "cell_type": "markdown",
   "id": "43bb2037",
   "metadata": {},
   "source": [
    "#### Duplicates"
   ]
  },
  {
   "cell_type": "code",
   "execution_count": 139,
   "id": "65cbd132",
   "metadata": {},
   "outputs": [
    {
     "data": {
      "text/plain": [
       "0"
      ]
     },
     "execution_count": 139,
     "metadata": {},
     "output_type": "execute_result"
    }
   ],
   "source": [
    "products.duplicated().sum()"
   ]
  },
  {
   "cell_type": "markdown",
   "id": "f7e8ea9a",
   "metadata": {},
   "source": [
    "#### Nulls"
   ]
  },
  {
   "cell_type": "code",
   "execution_count": 140,
   "id": "9a07c808",
   "metadata": {},
   "outputs": [
    {
     "data": {
      "text/plain": [
       "id_prod    False\n",
       "price      False\n",
       "categ      False\n",
       "dtype: bool"
      ]
     },
     "execution_count": 140,
     "metadata": {},
     "output_type": "execute_result"
    }
   ],
   "source": [
    "products.isnull ().any()"
   ]
  },
  {
   "cell_type": "markdown",
   "id": "2e8d7dec",
   "metadata": {},
   "source": [
    "#### Price column describe"
   ]
  },
  {
   "cell_type": "code",
   "execution_count": 141,
   "id": "2debd475",
   "metadata": {},
   "outputs": [
    {
     "data": {
      "text/plain": [
       "count    3287.000000\n",
       "mean       21.856641\n",
       "std        29.847908\n",
       "min        -1.000000\n",
       "25%         6.990000\n",
       "50%        13.060000\n",
       "75%        22.990000\n",
       "max       300.000000\n",
       "Name: price, dtype: float64"
      ]
     },
     "execution_count": 141,
     "metadata": {},
     "output_type": "execute_result"
    }
   ],
   "source": [
    "products['price'].describe()"
   ]
  },
  {
   "cell_type": "markdown",
   "id": "a98c5d1d",
   "metadata": {},
   "source": [
    "#### The minimum price is below 0. Let's check the product(s) with negative value "
   ]
  },
  {
   "cell_type": "code",
   "execution_count": 142,
   "id": "0a4ba99c",
   "metadata": {
    "scrolled": true
   },
   "outputs": [
    {
     "data": {
      "text/html": [
       "<div>\n",
       "<style scoped>\n",
       "    .dataframe tbody tr th:only-of-type {\n",
       "        vertical-align: middle;\n",
       "    }\n",
       "\n",
       "    .dataframe tbody tr th {\n",
       "        vertical-align: top;\n",
       "    }\n",
       "\n",
       "    .dataframe thead th {\n",
       "        text-align: right;\n",
       "    }\n",
       "</style>\n",
       "<table border=\"1\" class=\"dataframe\">\n",
       "  <thead>\n",
       "    <tr style=\"text-align: right;\">\n",
       "      <th></th>\n",
       "      <th>id_prod</th>\n",
       "      <th>price</th>\n",
       "      <th>categ</th>\n",
       "    </tr>\n",
       "  </thead>\n",
       "  <tbody>\n",
       "    <tr>\n",
       "      <th>731</th>\n",
       "      <td>T_0</td>\n",
       "      <td>-1.0</td>\n",
       "      <td>0</td>\n",
       "    </tr>\n",
       "  </tbody>\n",
       "</table>\n",
       "</div>"
      ],
      "text/plain": [
       "    id_prod  price  categ\n",
       "731     T_0   -1.0      0"
      ]
     },
     "execution_count": 142,
     "metadata": {},
     "output_type": "execute_result"
    }
   ],
   "source": [
    "mask=products['price']<=0\n",
    "products.loc[mask]"
   ]
  },
  {
   "cell_type": "markdown",
   "id": "e6c7e6ab",
   "metadata": {},
   "source": [
    "#### Deleting this line"
   ]
  },
  {
   "cell_type": "code",
   "execution_count": 143,
   "id": "5bb44a42",
   "metadata": {},
   "outputs": [
    {
     "data": {
      "text/html": [
       "<div>\n",
       "<style scoped>\n",
       "    .dataframe tbody tr th:only-of-type {\n",
       "        vertical-align: middle;\n",
       "    }\n",
       "\n",
       "    .dataframe tbody tr th {\n",
       "        vertical-align: top;\n",
       "    }\n",
       "\n",
       "    .dataframe thead th {\n",
       "        text-align: right;\n",
       "    }\n",
       "</style>\n",
       "<table border=\"1\" class=\"dataframe\">\n",
       "  <thead>\n",
       "    <tr style=\"text-align: right;\">\n",
       "      <th></th>\n",
       "      <th>id_prod</th>\n",
       "      <th>price</th>\n",
       "      <th>categ</th>\n",
       "    </tr>\n",
       "  </thead>\n",
       "  <tbody>\n",
       "  </tbody>\n",
       "</table>\n",
       "</div>"
      ],
      "text/plain": [
       "Empty DataFrame\n",
       "Columns: [id_prod, price, categ]\n",
       "Index: []"
      ]
     },
     "execution_count": 143,
     "metadata": {},
     "output_type": "execute_result"
    }
   ],
   "source": [
    "products.drop(products.loc[mask].index,inplace=True)\n",
    "\n",
    "#Checking\n",
    "products.loc[mask]"
   ]
  },
  {
   "cell_type": "markdown",
   "id": "cbe07e01",
   "metadata": {},
   "source": [
    "#### Checking uniique values in 'categ' column"
   ]
  },
  {
   "cell_type": "code",
   "execution_count": 144,
   "id": "cbefbcf7",
   "metadata": {},
   "outputs": [
    {
     "data": {
      "text/plain": [
       "array([0, 1, 2], dtype=int64)"
      ]
     },
     "execution_count": 144,
     "metadata": {},
     "output_type": "execute_result"
    }
   ],
   "source": [
    "products['categ'].unique()  "
   ]
  },
  {
   "cell_type": "markdown",
   "id": "514cb07f",
   "metadata": {},
   "source": [
    "### Dataframe transactions"
   ]
  },
  {
   "cell_type": "code",
   "execution_count": 145,
   "id": "2f216361",
   "metadata": {},
   "outputs": [
    {
     "data": {
      "text/html": [
       "<div>\n",
       "<style scoped>\n",
       "    .dataframe tbody tr th:only-of-type {\n",
       "        vertical-align: middle;\n",
       "    }\n",
       "\n",
       "    .dataframe tbody tr th {\n",
       "        vertical-align: top;\n",
       "    }\n",
       "\n",
       "    .dataframe thead th {\n",
       "        text-align: right;\n",
       "    }\n",
       "</style>\n",
       "<table border=\"1\" class=\"dataframe\">\n",
       "  <thead>\n",
       "    <tr style=\"text-align: right;\">\n",
       "      <th></th>\n",
       "      <th>id_prod</th>\n",
       "      <th>date</th>\n",
       "      <th>session_id</th>\n",
       "      <th>client_id</th>\n",
       "    </tr>\n",
       "  </thead>\n",
       "  <tbody>\n",
       "    <tr>\n",
       "      <th>0</th>\n",
       "      <td>0_1518</td>\n",
       "      <td>2022-05-20 13:21:29.043970</td>\n",
       "      <td>s_211425</td>\n",
       "      <td>c_103</td>\n",
       "    </tr>\n",
       "    <tr>\n",
       "      <th>1</th>\n",
       "      <td>1_251</td>\n",
       "      <td>2022-02-02 07:55:19.149409</td>\n",
       "      <td>s_158752</td>\n",
       "      <td>c_8534</td>\n",
       "    </tr>\n",
       "    <tr>\n",
       "      <th>2</th>\n",
       "      <td>0_1277</td>\n",
       "      <td>2022-06-18 15:44:33.155329</td>\n",
       "      <td>s_225667</td>\n",
       "      <td>c_6714</td>\n",
       "    </tr>\n",
       "    <tr>\n",
       "      <th>3</th>\n",
       "      <td>2_209</td>\n",
       "      <td>2021-06-24 04:19:29.835891</td>\n",
       "      <td>s_52962</td>\n",
       "      <td>c_6941</td>\n",
       "    </tr>\n",
       "    <tr>\n",
       "      <th>4</th>\n",
       "      <td>0_1509</td>\n",
       "      <td>2023-01-11 08:22:08.194479</td>\n",
       "      <td>s_325227</td>\n",
       "      <td>c_4232</td>\n",
       "    </tr>\n",
       "    <tr>\n",
       "      <th>...</th>\n",
       "      <td>...</td>\n",
       "      <td>...</td>\n",
       "      <td>...</td>\n",
       "      <td>...</td>\n",
       "    </tr>\n",
       "    <tr>\n",
       "      <th>679527</th>\n",
       "      <td>0_1551</td>\n",
       "      <td>2022-01-15 13:05:06.246925</td>\n",
       "      <td>s_150195</td>\n",
       "      <td>c_8489</td>\n",
       "    </tr>\n",
       "    <tr>\n",
       "      <th>679528</th>\n",
       "      <td>1_639</td>\n",
       "      <td>2022-03-19 16:03:23.429229</td>\n",
       "      <td>s_181434</td>\n",
       "      <td>c_4370</td>\n",
       "    </tr>\n",
       "    <tr>\n",
       "      <th>679529</th>\n",
       "      <td>0_1425</td>\n",
       "      <td>2022-12-20 04:33:37.584749</td>\n",
       "      <td>s_314704</td>\n",
       "      <td>c_304</td>\n",
       "    </tr>\n",
       "    <tr>\n",
       "      <th>679530</th>\n",
       "      <td>0_1994</td>\n",
       "      <td>2021-07-16 20:36:35.350579</td>\n",
       "      <td>s_63204</td>\n",
       "      <td>c_2227</td>\n",
       "    </tr>\n",
       "    <tr>\n",
       "      <th>679531</th>\n",
       "      <td>1_523</td>\n",
       "      <td>2022-09-28 01:12:01.973763</td>\n",
       "      <td>s_274568</td>\n",
       "      <td>c_3873</td>\n",
       "    </tr>\n",
       "  </tbody>\n",
       "</table>\n",
       "<p>679532 rows × 4 columns</p>\n",
       "</div>"
      ],
      "text/plain": [
       "       id_prod                        date session_id client_id\n",
       "0       0_1518  2022-05-20 13:21:29.043970   s_211425     c_103\n",
       "1        1_251  2022-02-02 07:55:19.149409   s_158752    c_8534\n",
       "2       0_1277  2022-06-18 15:44:33.155329   s_225667    c_6714\n",
       "3        2_209  2021-06-24 04:19:29.835891    s_52962    c_6941\n",
       "4       0_1509  2023-01-11 08:22:08.194479   s_325227    c_4232\n",
       "...        ...                         ...        ...       ...\n",
       "679527  0_1551  2022-01-15 13:05:06.246925   s_150195    c_8489\n",
       "679528   1_639  2022-03-19 16:03:23.429229   s_181434    c_4370\n",
       "679529  0_1425  2022-12-20 04:33:37.584749   s_314704     c_304\n",
       "679530  0_1994  2021-07-16 20:36:35.350579    s_63204    c_2227\n",
       "679531   1_523  2022-09-28 01:12:01.973763   s_274568    c_3873\n",
       "\n",
       "[679532 rows x 4 columns]"
      ]
     },
     "execution_count": 145,
     "metadata": {},
     "output_type": "execute_result"
    }
   ],
   "source": [
    "transactions"
   ]
  },
  {
   "cell_type": "markdown",
   "id": "1775a138",
   "metadata": {},
   "source": [
    "#### Columns types"
   ]
  },
  {
   "cell_type": "code",
   "execution_count": 146,
   "id": "8ccdc67f",
   "metadata": {},
   "outputs": [
    {
     "data": {
      "text/plain": [
       "id_prod       object\n",
       "date          object\n",
       "session_id    object\n",
       "client_id     object\n",
       "dtype: object"
      ]
     },
     "execution_count": 146,
     "metadata": {},
     "output_type": "execute_result"
    }
   ],
   "source": [
    "transactions.dtypes"
   ]
  },
  {
   "cell_type": "markdown",
   "id": "1f973ba8",
   "metadata": {},
   "source": [
    "#### The 'date' column need to have his type changed into date/time type"
   ]
  },
  {
   "cell_type": "markdown",
   "id": "8fc57da1",
   "metadata": {},
   "source": [
    "##### After trying it, ValueError: time data test_2021-03-01 02:30:02.237419 doesn't match format specified. Let's have a look "
   ]
  },
  {
   "cell_type": "code",
   "execution_count": 147,
   "id": "0984cae5",
   "metadata": {},
   "outputs": [
    {
     "data": {
      "text/html": [
       "<div>\n",
       "<style scoped>\n",
       "    .dataframe tbody tr th:only-of-type {\n",
       "        vertical-align: middle;\n",
       "    }\n",
       "\n",
       "    .dataframe tbody tr th {\n",
       "        vertical-align: top;\n",
       "    }\n",
       "\n",
       "    .dataframe thead th {\n",
       "        text-align: right;\n",
       "    }\n",
       "</style>\n",
       "<table border=\"1\" class=\"dataframe\">\n",
       "  <thead>\n",
       "    <tr style=\"text-align: right;\">\n",
       "      <th></th>\n",
       "      <th>id_prod</th>\n",
       "      <th>date</th>\n",
       "      <th>session_id</th>\n",
       "      <th>client_id</th>\n",
       "    </tr>\n",
       "  </thead>\n",
       "  <tbody>\n",
       "    <tr>\n",
       "      <th>3019</th>\n",
       "      <td>T_0</td>\n",
       "      <td>test_2021-03-01 02:30:02.237419</td>\n",
       "      <td>s_0</td>\n",
       "      <td>ct_0</td>\n",
       "    </tr>\n",
       "    <tr>\n",
       "      <th>5138</th>\n",
       "      <td>T_0</td>\n",
       "      <td>test_2021-03-01 02:30:02.237425</td>\n",
       "      <td>s_0</td>\n",
       "      <td>ct_0</td>\n",
       "    </tr>\n",
       "    <tr>\n",
       "      <th>9668</th>\n",
       "      <td>T_0</td>\n",
       "      <td>test_2021-03-01 02:30:02.237437</td>\n",
       "      <td>s_0</td>\n",
       "      <td>ct_1</td>\n",
       "    </tr>\n",
       "    <tr>\n",
       "      <th>10728</th>\n",
       "      <td>T_0</td>\n",
       "      <td>test_2021-03-01 02:30:02.237436</td>\n",
       "      <td>s_0</td>\n",
       "      <td>ct_0</td>\n",
       "    </tr>\n",
       "    <tr>\n",
       "      <th>15292</th>\n",
       "      <td>T_0</td>\n",
       "      <td>test_2021-03-01 02:30:02.237430</td>\n",
       "      <td>s_0</td>\n",
       "      <td>ct_0</td>\n",
       "    </tr>\n",
       "    <tr>\n",
       "      <th>...</th>\n",
       "      <td>...</td>\n",
       "      <td>...</td>\n",
       "      <td>...</td>\n",
       "      <td>...</td>\n",
       "    </tr>\n",
       "    <tr>\n",
       "      <th>657830</th>\n",
       "      <td>T_0</td>\n",
       "      <td>test_2021-03-01 02:30:02.237417</td>\n",
       "      <td>s_0</td>\n",
       "      <td>ct_0</td>\n",
       "    </tr>\n",
       "    <tr>\n",
       "      <th>662081</th>\n",
       "      <td>T_0</td>\n",
       "      <td>test_2021-03-01 02:30:02.237427</td>\n",
       "      <td>s_0</td>\n",
       "      <td>ct_1</td>\n",
       "    </tr>\n",
       "    <tr>\n",
       "      <th>670680</th>\n",
       "      <td>T_0</td>\n",
       "      <td>test_2021-03-01 02:30:02.237449</td>\n",
       "      <td>s_0</td>\n",
       "      <td>ct_1</td>\n",
       "    </tr>\n",
       "    <tr>\n",
       "      <th>671647</th>\n",
       "      <td>T_0</td>\n",
       "      <td>test_2021-03-01 02:30:02.237424</td>\n",
       "      <td>s_0</td>\n",
       "      <td>ct_1</td>\n",
       "    </tr>\n",
       "    <tr>\n",
       "      <th>679180</th>\n",
       "      <td>T_0</td>\n",
       "      <td>test_2021-03-01 02:30:02.237425</td>\n",
       "      <td>s_0</td>\n",
       "      <td>ct_1</td>\n",
       "    </tr>\n",
       "  </tbody>\n",
       "</table>\n",
       "<p>200 rows × 4 columns</p>\n",
       "</div>"
      ],
      "text/plain": [
       "       id_prod                             date session_id client_id\n",
       "3019       T_0  test_2021-03-01 02:30:02.237419        s_0      ct_0\n",
       "5138       T_0  test_2021-03-01 02:30:02.237425        s_0      ct_0\n",
       "9668       T_0  test_2021-03-01 02:30:02.237437        s_0      ct_1\n",
       "10728      T_0  test_2021-03-01 02:30:02.237436        s_0      ct_0\n",
       "15292      T_0  test_2021-03-01 02:30:02.237430        s_0      ct_0\n",
       "...        ...                              ...        ...       ...\n",
       "657830     T_0  test_2021-03-01 02:30:02.237417        s_0      ct_0\n",
       "662081     T_0  test_2021-03-01 02:30:02.237427        s_0      ct_1\n",
       "670680     T_0  test_2021-03-01 02:30:02.237449        s_0      ct_1\n",
       "671647     T_0  test_2021-03-01 02:30:02.237424        s_0      ct_1\n",
       "679180     T_0  test_2021-03-01 02:30:02.237425        s_0      ct_1\n",
       "\n",
       "[200 rows x 4 columns]"
      ]
     },
     "execution_count": 147,
     "metadata": {},
     "output_type": "execute_result"
    }
   ],
   "source": [
    "transactions[transactions['date'].str.contains('test')]"
   ]
  },
  {
   "cell_type": "markdown",
   "id": "b50afce0",
   "metadata": {},
   "source": [
    "##### Deleting those rows"
   ]
  },
  {
   "cell_type": "code",
   "execution_count": 148,
   "id": "516991cb",
   "metadata": {},
   "outputs": [
    {
     "data": {
      "text/html": [
       "<div>\n",
       "<style scoped>\n",
       "    .dataframe tbody tr th:only-of-type {\n",
       "        vertical-align: middle;\n",
       "    }\n",
       "\n",
       "    .dataframe tbody tr th {\n",
       "        vertical-align: top;\n",
       "    }\n",
       "\n",
       "    .dataframe thead th {\n",
       "        text-align: right;\n",
       "    }\n",
       "</style>\n",
       "<table border=\"1\" class=\"dataframe\">\n",
       "  <thead>\n",
       "    <tr style=\"text-align: right;\">\n",
       "      <th></th>\n",
       "      <th>id_prod</th>\n",
       "      <th>date</th>\n",
       "      <th>session_id</th>\n",
       "      <th>client_id</th>\n",
       "    </tr>\n",
       "  </thead>\n",
       "  <tbody>\n",
       "  </tbody>\n",
       "</table>\n",
       "</div>"
      ],
      "text/plain": [
       "Empty DataFrame\n",
       "Columns: [id_prod, date, session_id, client_id]\n",
       "Index: []"
      ]
     },
     "execution_count": 148,
     "metadata": {},
     "output_type": "execute_result"
    }
   ],
   "source": [
    "transactions.drop(transactions[transactions['date'].str.contains('test')].index,inplace=True)\n",
    "\n",
    "#Test\n",
    "transactions[transactions['date'].str.contains('test')]"
   ]
  },
  {
   "cell_type": "markdown",
   "id": "24e0b951",
   "metadata": {},
   "source": [
    "##### Formatating the 'date column:"
   ]
  },
  {
   "cell_type": "code",
   "execution_count": 149,
   "id": "2a55c322",
   "metadata": {},
   "outputs": [],
   "source": [
    "transactions['date']=pd.to_datetime(transactions['date'],format='%Y-%m-%d')"
   ]
  },
  {
   "cell_type": "code",
   "execution_count": 150,
   "id": "6a1ad93a",
   "metadata": {
    "scrolled": true
   },
   "outputs": [
    {
     "data": {
      "text/plain": [
       "id_prod               object\n",
       "date          datetime64[ns]\n",
       "session_id            object\n",
       "client_id             object\n",
       "dtype: object"
      ]
     },
     "execution_count": 150,
     "metadata": {},
     "output_type": "execute_result"
    }
   ],
   "source": [
    "transactions.dtypes"
   ]
  },
  {
   "cell_type": "markdown",
   "id": "bf3c4e70",
   "metadata": {},
   "source": [
    "#### Duplicates"
   ]
  },
  {
   "cell_type": "code",
   "execution_count": 151,
   "id": "41e91dc2",
   "metadata": {},
   "outputs": [
    {
     "data": {
      "text/plain": [
       "0"
      ]
     },
     "execution_count": 151,
     "metadata": {},
     "output_type": "execute_result"
    }
   ],
   "source": [
    "transactions.duplicated().sum()"
   ]
  },
  {
   "cell_type": "markdown",
   "id": "20d9e583",
   "metadata": {},
   "source": [
    "##### Nulls"
   ]
  },
  {
   "cell_type": "code",
   "execution_count": 113,
   "id": "0c3051b2",
   "metadata": {},
   "outputs": [
    {
     "data": {
      "text/plain": [
       "id_prod       False\n",
       "date          False\n",
       "session_id    False\n",
       "client_id     False\n",
       "dtype: bool"
      ]
     },
     "execution_count": 113,
     "metadata": {},
     "output_type": "execute_result"
    }
   ],
   "source": [
    "transactions.isnull().any()"
   ]
  },
  {
   "cell_type": "markdown",
   "id": "2febbec2",
   "metadata": {},
   "source": [
    "## Checking if each transaction has products and clients linked"
   ]
  },
  {
   "cell_type": "markdown",
   "id": "c908d2c6",
   "metadata": {},
   "source": [
    "#### Merge of dataframes Transactions et products dans dataframe transac_prod"
   ]
  },
  {
   "cell_type": "code",
   "execution_count": 152,
   "id": "9cc19c19",
   "metadata": {
    "scrolled": false
   },
   "outputs": [
    {
     "data": {
      "text/html": [
       "<div>\n",
       "<style scoped>\n",
       "    .dataframe tbody tr th:only-of-type {\n",
       "        vertical-align: middle;\n",
       "    }\n",
       "\n",
       "    .dataframe tbody tr th {\n",
       "        vertical-align: top;\n",
       "    }\n",
       "\n",
       "    .dataframe thead th {\n",
       "        text-align: right;\n",
       "    }\n",
       "</style>\n",
       "<table border=\"1\" class=\"dataframe\">\n",
       "  <thead>\n",
       "    <tr style=\"text-align: right;\">\n",
       "      <th></th>\n",
       "      <th>id_prod</th>\n",
       "      <th>date</th>\n",
       "      <th>session_id</th>\n",
       "      <th>client_id</th>\n",
       "      <th>price</th>\n",
       "      <th>categ</th>\n",
       "    </tr>\n",
       "  </thead>\n",
       "  <tbody>\n",
       "    <tr>\n",
       "      <th>0</th>\n",
       "      <td>0_1518</td>\n",
       "      <td>2022-05-20 13:21:29.043970</td>\n",
       "      <td>s_211425</td>\n",
       "      <td>c_103</td>\n",
       "      <td>4.18</td>\n",
       "      <td>0.0</td>\n",
       "    </tr>\n",
       "    <tr>\n",
       "      <th>1</th>\n",
       "      <td>1_251</td>\n",
       "      <td>2022-02-02 07:55:19.149409</td>\n",
       "      <td>s_158752</td>\n",
       "      <td>c_8534</td>\n",
       "      <td>15.99</td>\n",
       "      <td>1.0</td>\n",
       "    </tr>\n",
       "    <tr>\n",
       "      <th>2</th>\n",
       "      <td>0_1277</td>\n",
       "      <td>2022-06-18 15:44:33.155329</td>\n",
       "      <td>s_225667</td>\n",
       "      <td>c_6714</td>\n",
       "      <td>7.99</td>\n",
       "      <td>0.0</td>\n",
       "    </tr>\n",
       "    <tr>\n",
       "      <th>3</th>\n",
       "      <td>2_209</td>\n",
       "      <td>2021-06-24 04:19:29.835891</td>\n",
       "      <td>s_52962</td>\n",
       "      <td>c_6941</td>\n",
       "      <td>69.99</td>\n",
       "      <td>2.0</td>\n",
       "    </tr>\n",
       "    <tr>\n",
       "      <th>4</th>\n",
       "      <td>0_1509</td>\n",
       "      <td>2023-01-11 08:22:08.194479</td>\n",
       "      <td>s_325227</td>\n",
       "      <td>c_4232</td>\n",
       "      <td>4.99</td>\n",
       "      <td>0.0</td>\n",
       "    </tr>\n",
       "    <tr>\n",
       "      <th>...</th>\n",
       "      <td>...</td>\n",
       "      <td>...</td>\n",
       "      <td>...</td>\n",
       "      <td>...</td>\n",
       "      <td>...</td>\n",
       "      <td>...</td>\n",
       "    </tr>\n",
       "    <tr>\n",
       "      <th>679327</th>\n",
       "      <td>0_1551</td>\n",
       "      <td>2022-01-15 13:05:06.246925</td>\n",
       "      <td>s_150195</td>\n",
       "      <td>c_8489</td>\n",
       "      <td>12.99</td>\n",
       "      <td>0.0</td>\n",
       "    </tr>\n",
       "    <tr>\n",
       "      <th>679328</th>\n",
       "      <td>1_639</td>\n",
       "      <td>2022-03-19 16:03:23.429229</td>\n",
       "      <td>s_181434</td>\n",
       "      <td>c_4370</td>\n",
       "      <td>10.99</td>\n",
       "      <td>1.0</td>\n",
       "    </tr>\n",
       "    <tr>\n",
       "      <th>679329</th>\n",
       "      <td>0_1425</td>\n",
       "      <td>2022-12-20 04:33:37.584749</td>\n",
       "      <td>s_314704</td>\n",
       "      <td>c_304</td>\n",
       "      <td>12.99</td>\n",
       "      <td>0.0</td>\n",
       "    </tr>\n",
       "    <tr>\n",
       "      <th>679330</th>\n",
       "      <td>0_1994</td>\n",
       "      <td>2021-07-16 20:36:35.350579</td>\n",
       "      <td>s_63204</td>\n",
       "      <td>c_2227</td>\n",
       "      <td>4.98</td>\n",
       "      <td>0.0</td>\n",
       "    </tr>\n",
       "    <tr>\n",
       "      <th>679331</th>\n",
       "      <td>1_523</td>\n",
       "      <td>2022-09-28 01:12:01.973763</td>\n",
       "      <td>s_274568</td>\n",
       "      <td>c_3873</td>\n",
       "      <td>23.99</td>\n",
       "      <td>1.0</td>\n",
       "    </tr>\n",
       "  </tbody>\n",
       "</table>\n",
       "<p>679332 rows × 6 columns</p>\n",
       "</div>"
      ],
      "text/plain": [
       "       id_prod                       date session_id client_id  price  categ\n",
       "0       0_1518 2022-05-20 13:21:29.043970   s_211425     c_103   4.18    0.0\n",
       "1        1_251 2022-02-02 07:55:19.149409   s_158752    c_8534  15.99    1.0\n",
       "2       0_1277 2022-06-18 15:44:33.155329   s_225667    c_6714   7.99    0.0\n",
       "3        2_209 2021-06-24 04:19:29.835891    s_52962    c_6941  69.99    2.0\n",
       "4       0_1509 2023-01-11 08:22:08.194479   s_325227    c_4232   4.99    0.0\n",
       "...        ...                        ...        ...       ...    ...    ...\n",
       "679327  0_1551 2022-01-15 13:05:06.246925   s_150195    c_8489  12.99    0.0\n",
       "679328   1_639 2022-03-19 16:03:23.429229   s_181434    c_4370  10.99    1.0\n",
       "679329  0_1425 2022-12-20 04:33:37.584749   s_314704     c_304  12.99    0.0\n",
       "679330  0_1994 2021-07-16 20:36:35.350579    s_63204    c_2227   4.98    0.0\n",
       "679331   1_523 2022-09-28 01:12:01.973763   s_274568    c_3873  23.99    1.0\n",
       "\n",
       "[679332 rows x 6 columns]"
      ]
     },
     "execution_count": 152,
     "metadata": {},
     "output_type": "execute_result"
    }
   ],
   "source": [
    "transac_prod=pd.merge(transactions,products, on='id_prod',how='left')\n",
    "transac_prod"
   ]
  },
  {
   "cell_type": "code",
   "execution_count": 156,
   "id": "775b79ca",
   "metadata": {},
   "outputs": [],
   "source": [
    "transa_prod_cust=pd.merge(transac_prod,customers, on='client_id',how='left')"
   ]
  },
  {
   "cell_type": "code",
   "execution_count": 157,
   "id": "dcf95bd2",
   "metadata": {},
   "outputs": [
    {
     "data": {
      "text/html": [
       "<div>\n",
       "<style scoped>\n",
       "    .dataframe tbody tr th:only-of-type {\n",
       "        vertical-align: middle;\n",
       "    }\n",
       "\n",
       "    .dataframe tbody tr th {\n",
       "        vertical-align: top;\n",
       "    }\n",
       "\n",
       "    .dataframe thead th {\n",
       "        text-align: right;\n",
       "    }\n",
       "</style>\n",
       "<table border=\"1\" class=\"dataframe\">\n",
       "  <thead>\n",
       "    <tr style=\"text-align: right;\">\n",
       "      <th></th>\n",
       "      <th>id_prod</th>\n",
       "      <th>date</th>\n",
       "      <th>session_id</th>\n",
       "      <th>client_id</th>\n",
       "      <th>price</th>\n",
       "      <th>categ</th>\n",
       "      <th>sex</th>\n",
       "      <th>birth</th>\n",
       "      <th>age</th>\n",
       "    </tr>\n",
       "  </thead>\n",
       "  <tbody>\n",
       "    <tr>\n",
       "      <th>0</th>\n",
       "      <td>0_1518</td>\n",
       "      <td>2022-05-20 13:21:29.043970</td>\n",
       "      <td>s_211425</td>\n",
       "      <td>c_103</td>\n",
       "      <td>4.18</td>\n",
       "      <td>0.0</td>\n",
       "      <td>f</td>\n",
       "      <td>1986</td>\n",
       "      <td>37</td>\n",
       "    </tr>\n",
       "    <tr>\n",
       "      <th>1</th>\n",
       "      <td>1_251</td>\n",
       "      <td>2022-02-02 07:55:19.149409</td>\n",
       "      <td>s_158752</td>\n",
       "      <td>c_8534</td>\n",
       "      <td>15.99</td>\n",
       "      <td>1.0</td>\n",
       "      <td>m</td>\n",
       "      <td>1988</td>\n",
       "      <td>35</td>\n",
       "    </tr>\n",
       "    <tr>\n",
       "      <th>2</th>\n",
       "      <td>0_1277</td>\n",
       "      <td>2022-06-18 15:44:33.155329</td>\n",
       "      <td>s_225667</td>\n",
       "      <td>c_6714</td>\n",
       "      <td>7.99</td>\n",
       "      <td>0.0</td>\n",
       "      <td>f</td>\n",
       "      <td>1968</td>\n",
       "      <td>55</td>\n",
       "    </tr>\n",
       "    <tr>\n",
       "      <th>3</th>\n",
       "      <td>2_209</td>\n",
       "      <td>2021-06-24 04:19:29.835891</td>\n",
       "      <td>s_52962</td>\n",
       "      <td>c_6941</td>\n",
       "      <td>69.99</td>\n",
       "      <td>2.0</td>\n",
       "      <td>m</td>\n",
       "      <td>2000</td>\n",
       "      <td>23</td>\n",
       "    </tr>\n",
       "    <tr>\n",
       "      <th>4</th>\n",
       "      <td>0_1509</td>\n",
       "      <td>2023-01-11 08:22:08.194479</td>\n",
       "      <td>s_325227</td>\n",
       "      <td>c_4232</td>\n",
       "      <td>4.99</td>\n",
       "      <td>0.0</td>\n",
       "      <td>m</td>\n",
       "      <td>1980</td>\n",
       "      <td>43</td>\n",
       "    </tr>\n",
       "    <tr>\n",
       "      <th>...</th>\n",
       "      <td>...</td>\n",
       "      <td>...</td>\n",
       "      <td>...</td>\n",
       "      <td>...</td>\n",
       "      <td>...</td>\n",
       "      <td>...</td>\n",
       "      <td>...</td>\n",
       "      <td>...</td>\n",
       "      <td>...</td>\n",
       "    </tr>\n",
       "    <tr>\n",
       "      <th>679327</th>\n",
       "      <td>0_1551</td>\n",
       "      <td>2022-01-15 13:05:06.246925</td>\n",
       "      <td>s_150195</td>\n",
       "      <td>c_8489</td>\n",
       "      <td>12.99</td>\n",
       "      <td>0.0</td>\n",
       "      <td>f</td>\n",
       "      <td>1951</td>\n",
       "      <td>72</td>\n",
       "    </tr>\n",
       "    <tr>\n",
       "      <th>679328</th>\n",
       "      <td>1_639</td>\n",
       "      <td>2022-03-19 16:03:23.429229</td>\n",
       "      <td>s_181434</td>\n",
       "      <td>c_4370</td>\n",
       "      <td>10.99</td>\n",
       "      <td>1.0</td>\n",
       "      <td>f</td>\n",
       "      <td>1977</td>\n",
       "      <td>46</td>\n",
       "    </tr>\n",
       "    <tr>\n",
       "      <th>679329</th>\n",
       "      <td>0_1425</td>\n",
       "      <td>2022-12-20 04:33:37.584749</td>\n",
       "      <td>s_314704</td>\n",
       "      <td>c_304</td>\n",
       "      <td>12.99</td>\n",
       "      <td>0.0</td>\n",
       "      <td>f</td>\n",
       "      <td>1988</td>\n",
       "      <td>35</td>\n",
       "    </tr>\n",
       "    <tr>\n",
       "      <th>679330</th>\n",
       "      <td>0_1994</td>\n",
       "      <td>2021-07-16 20:36:35.350579</td>\n",
       "      <td>s_63204</td>\n",
       "      <td>c_2227</td>\n",
       "      <td>4.98</td>\n",
       "      <td>0.0</td>\n",
       "      <td>m</td>\n",
       "      <td>1986</td>\n",
       "      <td>37</td>\n",
       "    </tr>\n",
       "    <tr>\n",
       "      <th>679331</th>\n",
       "      <td>1_523</td>\n",
       "      <td>2022-09-28 01:12:01.973763</td>\n",
       "      <td>s_274568</td>\n",
       "      <td>c_3873</td>\n",
       "      <td>23.99</td>\n",
       "      <td>1.0</td>\n",
       "      <td>m</td>\n",
       "      <td>1995</td>\n",
       "      <td>28</td>\n",
       "    </tr>\n",
       "  </tbody>\n",
       "</table>\n",
       "<p>679332 rows × 9 columns</p>\n",
       "</div>"
      ],
      "text/plain": [
       "       id_prod                       date session_id client_id  price  categ  \\\n",
       "0       0_1518 2022-05-20 13:21:29.043970   s_211425     c_103   4.18    0.0   \n",
       "1        1_251 2022-02-02 07:55:19.149409   s_158752    c_8534  15.99    1.0   \n",
       "2       0_1277 2022-06-18 15:44:33.155329   s_225667    c_6714   7.99    0.0   \n",
       "3        2_209 2021-06-24 04:19:29.835891    s_52962    c_6941  69.99    2.0   \n",
       "4       0_1509 2023-01-11 08:22:08.194479   s_325227    c_4232   4.99    0.0   \n",
       "...        ...                        ...        ...       ...    ...    ...   \n",
       "679327  0_1551 2022-01-15 13:05:06.246925   s_150195    c_8489  12.99    0.0   \n",
       "679328   1_639 2022-03-19 16:03:23.429229   s_181434    c_4370  10.99    1.0   \n",
       "679329  0_1425 2022-12-20 04:33:37.584749   s_314704     c_304  12.99    0.0   \n",
       "679330  0_1994 2021-07-16 20:36:35.350579    s_63204    c_2227   4.98    0.0   \n",
       "679331   1_523 2022-09-28 01:12:01.973763   s_274568    c_3873  23.99    1.0   \n",
       "\n",
       "       sex  birth  age  \n",
       "0        f   1986   37  \n",
       "1        m   1988   35  \n",
       "2        f   1968   55  \n",
       "3        m   2000   23  \n",
       "4        m   1980   43  \n",
       "...     ..    ...  ...  \n",
       "679327   f   1951   72  \n",
       "679328   f   1977   46  \n",
       "679329   f   1988   35  \n",
       "679330   m   1986   37  \n",
       "679331   m   1995   28  \n",
       "\n",
       "[679332 rows x 9 columns]"
      ]
     },
     "execution_count": 157,
     "metadata": {},
     "output_type": "execute_result"
    }
   ],
   "source": [
    "transa_prod_cust"
   ]
  },
  {
   "cell_type": "markdown",
   "id": "2724fa7a",
   "metadata": {},
   "source": [
    "##### Nulls"
   ]
  },
  {
   "cell_type": "code",
   "execution_count": 158,
   "id": "5ca460f6",
   "metadata": {
    "scrolled": true
   },
   "outputs": [
    {
     "data": {
      "text/plain": [
       "id_prod       False\n",
       "date          False\n",
       "session_id    False\n",
       "client_id     False\n",
       "price          True\n",
       "categ          True\n",
       "sex           False\n",
       "birth         False\n",
       "age           False\n",
       "dtype: bool"
      ]
     },
     "execution_count": 158,
     "metadata": {},
     "output_type": "execute_result"
    }
   ],
   "source": [
    "transa_prod_cust.isnull().any()"
   ]
  },
  {
   "cell_type": "markdown",
   "id": "12ca722f",
   "metadata": {},
   "source": [
    "#### Display of transactions with no products prices and categories"
   ]
  },
  {
   "cell_type": "code",
   "execution_count": 160,
   "id": "19490fed",
   "metadata": {
    "scrolled": false
   },
   "outputs": [
    {
     "data": {
      "text/html": [
       "<div>\n",
       "<style scoped>\n",
       "    .dataframe tbody tr th:only-of-type {\n",
       "        vertical-align: middle;\n",
       "    }\n",
       "\n",
       "    .dataframe tbody tr th {\n",
       "        vertical-align: top;\n",
       "    }\n",
       "\n",
       "    .dataframe thead th {\n",
       "        text-align: right;\n",
       "    }\n",
       "</style>\n",
       "<table border=\"1\" class=\"dataframe\">\n",
       "  <thead>\n",
       "    <tr style=\"text-align: right;\">\n",
       "      <th></th>\n",
       "      <th>id_prod</th>\n",
       "      <th>date</th>\n",
       "      <th>session_id</th>\n",
       "      <th>client_id</th>\n",
       "      <th>price</th>\n",
       "      <th>categ</th>\n",
       "      <th>sex</th>\n",
       "      <th>birth</th>\n",
       "      <th>age</th>\n",
       "    </tr>\n",
       "  </thead>\n",
       "  <tbody>\n",
       "    <tr>\n",
       "      <th>2633</th>\n",
       "      <td>0_2245</td>\n",
       "      <td>2022-09-23 07:22:38.636773</td>\n",
       "      <td>s_272266</td>\n",
       "      <td>c_4746</td>\n",
       "      <td>NaN</td>\n",
       "      <td>NaN</td>\n",
       "      <td>m</td>\n",
       "      <td>1940</td>\n",
       "      <td>83</td>\n",
       "    </tr>\n",
       "    <tr>\n",
       "      <th>10103</th>\n",
       "      <td>0_2245</td>\n",
       "      <td>2022-07-23 09:24:14.133889</td>\n",
       "      <td>s_242482</td>\n",
       "      <td>c_6713</td>\n",
       "      <td>NaN</td>\n",
       "      <td>NaN</td>\n",
       "      <td>f</td>\n",
       "      <td>1963</td>\n",
       "      <td>60</td>\n",
       "    </tr>\n",
       "    <tr>\n",
       "      <th>11723</th>\n",
       "      <td>0_2245</td>\n",
       "      <td>2022-12-03 03:26:35.696673</td>\n",
       "      <td>s_306338</td>\n",
       "      <td>c_5108</td>\n",
       "      <td>NaN</td>\n",
       "      <td>NaN</td>\n",
       "      <td>m</td>\n",
       "      <td>1978</td>\n",
       "      <td>45</td>\n",
       "    </tr>\n",
       "    <tr>\n",
       "      <th>15670</th>\n",
       "      <td>0_2245</td>\n",
       "      <td>2021-08-16 11:33:25.481411</td>\n",
       "      <td>s_76493</td>\n",
       "      <td>c_1391</td>\n",
       "      <td>NaN</td>\n",
       "      <td>NaN</td>\n",
       "      <td>m</td>\n",
       "      <td>1991</td>\n",
       "      <td>32</td>\n",
       "    </tr>\n",
       "    <tr>\n",
       "      <th>16372</th>\n",
       "      <td>0_2245</td>\n",
       "      <td>2022-07-16 05:53:01.627491</td>\n",
       "      <td>s_239078</td>\n",
       "      <td>c_7954</td>\n",
       "      <td>NaN</td>\n",
       "      <td>NaN</td>\n",
       "      <td>m</td>\n",
       "      <td>1973</td>\n",
       "      <td>50</td>\n",
       "    </tr>\n",
       "    <tr>\n",
       "      <th>...</th>\n",
       "      <td>...</td>\n",
       "      <td>...</td>\n",
       "      <td>...</td>\n",
       "      <td>...</td>\n",
       "      <td>...</td>\n",
       "      <td>...</td>\n",
       "      <td>...</td>\n",
       "      <td>...</td>\n",
       "      <td>...</td>\n",
       "    </tr>\n",
       "    <tr>\n",
       "      <th>669533</th>\n",
       "      <td>0_2245</td>\n",
       "      <td>2021-08-25 09:06:03.504061</td>\n",
       "      <td>s_80395</td>\n",
       "      <td>c_131</td>\n",
       "      <td>NaN</td>\n",
       "      <td>NaN</td>\n",
       "      <td>m</td>\n",
       "      <td>1981</td>\n",
       "      <td>42</td>\n",
       "    </tr>\n",
       "    <tr>\n",
       "      <th>670484</th>\n",
       "      <td>0_2245</td>\n",
       "      <td>2022-03-06 19:59:19.462288</td>\n",
       "      <td>s_175311</td>\n",
       "      <td>c_4167</td>\n",
       "      <td>NaN</td>\n",
       "      <td>NaN</td>\n",
       "      <td>f</td>\n",
       "      <td>1979</td>\n",
       "      <td>44</td>\n",
       "    </tr>\n",
       "    <tr>\n",
       "      <th>671088</th>\n",
       "      <td>0_2245</td>\n",
       "      <td>2022-05-16 11:35:20.319501</td>\n",
       "      <td>s_209381</td>\n",
       "      <td>c_4453</td>\n",
       "      <td>NaN</td>\n",
       "      <td>NaN</td>\n",
       "      <td>m</td>\n",
       "      <td>1981</td>\n",
       "      <td>42</td>\n",
       "    </tr>\n",
       "    <tr>\n",
       "      <th>675480</th>\n",
       "      <td>0_2245</td>\n",
       "      <td>2022-02-11 09:05:43.952857</td>\n",
       "      <td>s_163405</td>\n",
       "      <td>c_1098</td>\n",
       "      <td>NaN</td>\n",
       "      <td>NaN</td>\n",
       "      <td>m</td>\n",
       "      <td>1986</td>\n",
       "      <td>37</td>\n",
       "    </tr>\n",
       "    <tr>\n",
       "      <th>677797</th>\n",
       "      <td>0_2245</td>\n",
       "      <td>2021-12-14 22:34:54.589921</td>\n",
       "      <td>s_134446</td>\n",
       "      <td>c_4854</td>\n",
       "      <td>NaN</td>\n",
       "      <td>NaN</td>\n",
       "      <td>m</td>\n",
       "      <td>1968</td>\n",
       "      <td>55</td>\n",
       "    </tr>\n",
       "  </tbody>\n",
       "</table>\n",
       "<p>221 rows × 9 columns</p>\n",
       "</div>"
      ],
      "text/plain": [
       "       id_prod                       date session_id client_id  price  categ  \\\n",
       "2633    0_2245 2022-09-23 07:22:38.636773   s_272266    c_4746    NaN    NaN   \n",
       "10103   0_2245 2022-07-23 09:24:14.133889   s_242482    c_6713    NaN    NaN   \n",
       "11723   0_2245 2022-12-03 03:26:35.696673   s_306338    c_5108    NaN    NaN   \n",
       "15670   0_2245 2021-08-16 11:33:25.481411    s_76493    c_1391    NaN    NaN   \n",
       "16372   0_2245 2022-07-16 05:53:01.627491   s_239078    c_7954    NaN    NaN   \n",
       "...        ...                        ...        ...       ...    ...    ...   \n",
       "669533  0_2245 2021-08-25 09:06:03.504061    s_80395     c_131    NaN    NaN   \n",
       "670484  0_2245 2022-03-06 19:59:19.462288   s_175311    c_4167    NaN    NaN   \n",
       "671088  0_2245 2022-05-16 11:35:20.319501   s_209381    c_4453    NaN    NaN   \n",
       "675480  0_2245 2022-02-11 09:05:43.952857   s_163405    c_1098    NaN    NaN   \n",
       "677797  0_2245 2021-12-14 22:34:54.589921   s_134446    c_4854    NaN    NaN   \n",
       "\n",
       "       sex  birth  age  \n",
       "2633     m   1940   83  \n",
       "10103    f   1963   60  \n",
       "11723    m   1978   45  \n",
       "15670    m   1991   32  \n",
       "16372    m   1973   50  \n",
       "...     ..    ...  ...  \n",
       "669533   m   1981   42  \n",
       "670484   f   1979   44  \n",
       "671088   m   1981   42  \n",
       "675480   m   1986   37  \n",
       "677797   m   1968   55  \n",
       "\n",
       "[221 rows x 9 columns]"
      ]
     },
     "execution_count": 160,
     "metadata": {},
     "output_type": "execute_result"
    }
   ],
   "source": [
    "transa_prod_cust[pd.isnull(transa_prod_cust['price'])]"
   ]
  },
  {
   "cell_type": "markdown",
   "id": "7c4d3ecb",
   "metadata": {},
   "source": [
    "#### Replacing the missing values"
   ]
  },
  {
   "cell_type": "code",
   "execution_count": 161,
   "id": "54c1706c",
   "metadata": {},
   "outputs": [],
   "source": [
    "#Calculation of average price ofr each category\n",
    "prix_categ=transa_prod_cust.groupby('categ')['price'].mean()"
   ]
  },
  {
   "cell_type": "code",
   "execution_count": 162,
   "id": "f3a1be98",
   "metadata": {},
   "outputs": [],
   "source": [
    "#Getting the indexes of the rows with missing values\n",
    "index_rows_noprice=transa_prod_cust[pd.isnull(transa_prod_cust['price'])].index"
   ]
  },
  {
   "cell_type": "code",
   "execution_count": 163,
   "id": "9c3e780c",
   "metadata": {},
   "outputs": [],
   "source": [
    "#Loop to replace the missing value (the first character of the 'id_prod' corresponds to the category product)\n",
    "for i in index_rows_noprice:\n",
    "    if transa_prod_cust.loc[i,'id_prod'][:1]=='0':            \n",
    "        transa_prod_cust.loc[i,'price']=prix_categ[0]\n",
    "        transa_prod_cust.loc[i,'categ']=0\n",
    "    elif transa_prod_cust.loc[i,'id_prod'][:1]=='1':\n",
    "        transa_prod_cust.loc[i,'price']=prix_categ[1]\n",
    "        transa_prod_cust.loc[i,'categ']=1\n",
    "    else:\n",
    "        transa_prod_cust.loc[i,'price']=prix_categ[2]\n",
    "        transa_prod_cust.loc[i,'categ']=2\n",
    "           "
   ]
  },
  {
   "cell_type": "markdown",
   "id": "063a34df",
   "metadata": {},
   "source": [
    "#### Checking"
   ]
  },
  {
   "cell_type": "code",
   "execution_count": 164,
   "id": "8069ca4c",
   "metadata": {
    "scrolled": true
   },
   "outputs": [
    {
     "data": {
      "text/plain": [
       "id_prod       False\n",
       "date          False\n",
       "session_id    False\n",
       "client_id     False\n",
       "price         False\n",
       "categ         False\n",
       "sex           False\n",
       "birth         False\n",
       "age           False\n",
       "dtype: bool"
      ]
     },
     "execution_count": 164,
     "metadata": {},
     "output_type": "execute_result"
    }
   ],
   "source": [
    "transa_prod_cust.isnull().any()"
   ]
  },
  {
   "cell_type": "code",
   "execution_count": 165,
   "id": "f62ee1be",
   "metadata": {
    "scrolled": true
   },
   "outputs": [
    {
     "data": {
      "text/plain": [
       "id_prod                           0_2245\n",
       "date          2021-12-14 22:34:54.589921\n",
       "session_id                      s_134446\n",
       "client_id                         c_4854\n",
       "price                          10.638188\n",
       "categ                                0.0\n",
       "sex                                    m\n",
       "birth                               1968\n",
       "age                                   55\n",
       "Name: 677797, dtype: object"
      ]
     },
     "execution_count": 165,
     "metadata": {},
     "output_type": "execute_result"
    }
   ],
   "source": [
    "transa_prod_cust.loc[677797]"
   ]
  },
  {
   "cell_type": "markdown",
   "id": "a736eade",
   "metadata": {},
   "source": [
    "#### Export"
   ]
  },
  {
   "cell_type": "code",
   "execution_count": 166,
   "id": "2d24bc2c",
   "metadata": {},
   "outputs": [],
   "source": [
    "transa_prod_cust.to_csv('Bookshop_cleaned.csv', index=False)"
   ]
  },
  {
   "cell_type": "code",
   "execution_count": null,
   "id": "56f0b007",
   "metadata": {},
   "outputs": [],
   "source": []
  }
 ],
 "metadata": {
  "kernelspec": {
   "display_name": "Python 3 (ipykernel)",
   "language": "python",
   "name": "python3"
  },
  "language_info": {
   "codemirror_mode": {
    "name": "ipython",
    "version": 3
   },
   "file_extension": ".py",
   "mimetype": "text/x-python",
   "name": "python",
   "nbconvert_exporter": "python",
   "pygments_lexer": "ipython3",
   "version": "3.9.7"
  }
 },
 "nbformat": 4,
 "nbformat_minor": 5
}
