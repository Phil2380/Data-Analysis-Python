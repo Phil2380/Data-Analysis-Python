{
 "cells": [
  {
   "cell_type": "markdown",
   "id": "f4774c9f",
   "metadata": {},
   "source": [
    "# PROJET9: Finding new market for exporting chicken\n",
    "## Exploratory analysis part2 (PCA, Clustering)"
   ]
  },
  {
   "cell_type": "markdown",
   "id": "c1c4a1fe",
   "metadata": {},
   "source": [
    "#### Import librairies"
   ]
  },
  {
   "cell_type": "code",
   "execution_count": 176,
   "id": "4221c480",
   "metadata": {},
   "outputs": [],
   "source": [
    "import import_ipynb\n",
    "import pandas as pd\n",
    "import matplotlib.pyplot as plt\n",
    "import numpy as np\n",
    "from sklearn.preprocessing import StandardScaler\n",
    "from sklearn.decomposition import PCA\n",
    "from sklearn.cluster import KMeans\n",
    "import seaborn as sns"
   ]
  },
  {
   "cell_type": "markdown",
   "id": "d524a87e",
   "metadata": {},
   "source": [
    "#### Data import"
   ]
  },
  {
   "cell_type": "code",
   "execution_count": 349,
   "id": "277a0cac",
   "metadata": {},
   "outputs": [],
   "source": [
    "Chicken_2017=pd.read_csv('Chicken2017.csv')"
   ]
  },
  {
   "cell_type": "code",
   "execution_count": 350,
   "id": "e2275923",
   "metadata": {
    "scrolled": true
   },
   "outputs": [
    {
     "data": {
      "text/html": [
       "<div>\n",
       "<style scoped>\n",
       "    .dataframe tbody tr th:only-of-type {\n",
       "        vertical-align: middle;\n",
       "    }\n",
       "\n",
       "    .dataframe tbody tr th {\n",
       "        vertical-align: top;\n",
       "    }\n",
       "\n",
       "    .dataframe thead th {\n",
       "        text-align: right;\n",
       "    }\n",
       "</style>\n",
       "<table border=\"1\" class=\"dataframe\">\n",
       "  <thead>\n",
       "    <tr style=\"text-align: right;\">\n",
       "      <th></th>\n",
       "      <th>Zone</th>\n",
       "      <th>Disponibilité alimentaire (Kcal/personne/jour)</th>\n",
       "      <th>Disponibilité alimentaire en quantité (kg/personne/an)</th>\n",
       "      <th>Disponibilité intérieure</th>\n",
       "      <th>Exportations - Quantité</th>\n",
       "      <th>Importations - Quantité</th>\n",
       "      <th>Production</th>\n",
       "      <th>Variation de stock</th>\n",
       "      <th>Population</th>\n",
       "    </tr>\n",
       "  </thead>\n",
       "  <tbody>\n",
       "    <tr>\n",
       "      <th>0</th>\n",
       "      <td>Afrique du Sud</td>\n",
       "      <td>143.0</td>\n",
       "      <td>35.69</td>\n",
       "      <td>2118.0</td>\n",
       "      <td>63.0</td>\n",
       "      <td>514.0</td>\n",
       "      <td>1667.0</td>\n",
       "      <td>-0.0</td>\n",
       "      <td>57009.756</td>\n",
       "    </tr>\n",
       "    <tr>\n",
       "      <th>1</th>\n",
       "      <td>Albanie</td>\n",
       "      <td>85.0</td>\n",
       "      <td>16.36</td>\n",
       "      <td>47.0</td>\n",
       "      <td>0.0</td>\n",
       "      <td>38.0</td>\n",
       "      <td>13.0</td>\n",
       "      <td>4.0</td>\n",
       "      <td>2884.169</td>\n",
       "    </tr>\n",
       "    <tr>\n",
       "      <th>2</th>\n",
       "      <td>Algérie</td>\n",
       "      <td>22.0</td>\n",
       "      <td>6.38</td>\n",
       "      <td>277.0</td>\n",
       "      <td>0.0</td>\n",
       "      <td>2.0</td>\n",
       "      <td>275.0</td>\n",
       "      <td>0.0</td>\n",
       "      <td>41389.189</td>\n",
       "    </tr>\n",
       "    <tr>\n",
       "      <th>3</th>\n",
       "      <td>Allemagne</td>\n",
       "      <td>71.0</td>\n",
       "      <td>19.47</td>\n",
       "      <td>1739.0</td>\n",
       "      <td>646.0</td>\n",
       "      <td>842.0</td>\n",
       "      <td>1514.0</td>\n",
       "      <td>-29.0</td>\n",
       "      <td>82658.409</td>\n",
       "    </tr>\n",
       "    <tr>\n",
       "      <th>4</th>\n",
       "      <td>Angola</td>\n",
       "      <td>35.0</td>\n",
       "      <td>10.56</td>\n",
       "      <td>319.0</td>\n",
       "      <td>0.0</td>\n",
       "      <td>277.0</td>\n",
       "      <td>42.0</td>\n",
       "      <td>-0.0</td>\n",
       "      <td>29816.766</td>\n",
       "    </tr>\n",
       "    <tr>\n",
       "      <th>5</th>\n",
       "      <td>Antigua-et-Barbuda</td>\n",
       "      <td>233.0</td>\n",
       "      <td>54.10</td>\n",
       "      <td>7.0</td>\n",
       "      <td>0.0</td>\n",
       "      <td>7.0</td>\n",
       "      <td>0.0</td>\n",
       "      <td>0.0</td>\n",
       "      <td>95.426</td>\n",
       "    </tr>\n",
       "    <tr>\n",
       "      <th>6</th>\n",
       "      <td>Arabie saoudite</td>\n",
       "      <td>151.0</td>\n",
       "      <td>43.36</td>\n",
       "      <td>1435.0</td>\n",
       "      <td>10.0</td>\n",
       "      <td>722.0</td>\n",
       "      <td>616.0</td>\n",
       "      <td>-108.0</td>\n",
       "      <td>33101.179</td>\n",
       "    </tr>\n",
       "    <tr>\n",
       "      <th>7</th>\n",
       "      <td>Argentine</td>\n",
       "      <td>182.0</td>\n",
       "      <td>42.24</td>\n",
       "      <td>1962.0</td>\n",
       "      <td>207.0</td>\n",
       "      <td>8.0</td>\n",
       "      <td>2161.0</td>\n",
       "      <td>0.0</td>\n",
       "      <td>43937.140</td>\n",
       "    </tr>\n",
       "    <tr>\n",
       "      <th>8</th>\n",
       "      <td>Arménie</td>\n",
       "      <td>54.0</td>\n",
       "      <td>16.06</td>\n",
       "      <td>47.0</td>\n",
       "      <td>0.0</td>\n",
       "      <td>35.0</td>\n",
       "      <td>11.0</td>\n",
       "      <td>-2.0</td>\n",
       "      <td>2944.791</td>\n",
       "    </tr>\n",
       "    <tr>\n",
       "      <th>9</th>\n",
       "      <td>Australie</td>\n",
       "      <td>192.0</td>\n",
       "      <td>47.65</td>\n",
       "      <td>1171.0</td>\n",
       "      <td>42.0</td>\n",
       "      <td>16.0</td>\n",
       "      <td>1269.0</td>\n",
       "      <td>71.0</td>\n",
       "      <td>24584.620</td>\n",
       "    </tr>\n",
       "  </tbody>\n",
       "</table>\n",
       "</div>"
      ],
      "text/plain": [
       "                 Zone  Disponibilité alimentaire (Kcal/personne/jour)  \\\n",
       "0      Afrique du Sud                                           143.0   \n",
       "1             Albanie                                            85.0   \n",
       "2             Algérie                                            22.0   \n",
       "3           Allemagne                                            71.0   \n",
       "4              Angola                                            35.0   \n",
       "5  Antigua-et-Barbuda                                           233.0   \n",
       "6     Arabie saoudite                                           151.0   \n",
       "7           Argentine                                           182.0   \n",
       "8             Arménie                                            54.0   \n",
       "9           Australie                                           192.0   \n",
       "\n",
       "   Disponibilité alimentaire en quantité (kg/personne/an)  \\\n",
       "0                                              35.69        \n",
       "1                                              16.36        \n",
       "2                                               6.38        \n",
       "3                                              19.47        \n",
       "4                                              10.56        \n",
       "5                                              54.10        \n",
       "6                                              43.36        \n",
       "7                                              42.24        \n",
       "8                                              16.06        \n",
       "9                                              47.65        \n",
       "\n",
       "   Disponibilité intérieure  Exportations - Quantité  Importations - Quantité  \\\n",
       "0                    2118.0                     63.0                    514.0   \n",
       "1                      47.0                      0.0                     38.0   \n",
       "2                     277.0                      0.0                      2.0   \n",
       "3                    1739.0                    646.0                    842.0   \n",
       "4                     319.0                      0.0                    277.0   \n",
       "5                       7.0                      0.0                      7.0   \n",
       "6                    1435.0                     10.0                    722.0   \n",
       "7                    1962.0                    207.0                      8.0   \n",
       "8                      47.0                      0.0                     35.0   \n",
       "9                    1171.0                     42.0                     16.0   \n",
       "\n",
       "   Production  Variation de stock  Population  \n",
       "0      1667.0                -0.0   57009.756  \n",
       "1        13.0                 4.0    2884.169  \n",
       "2       275.0                 0.0   41389.189  \n",
       "3      1514.0               -29.0   82658.409  \n",
       "4        42.0                -0.0   29816.766  \n",
       "5         0.0                 0.0      95.426  \n",
       "6       616.0              -108.0   33101.179  \n",
       "7      2161.0                 0.0   43937.140  \n",
       "8        11.0                -2.0    2944.791  \n",
       "9      1269.0                71.0   24584.620  "
      ]
     },
     "execution_count": 350,
     "metadata": {},
     "output_type": "execute_result"
    }
   ],
   "source": [
    "Chicken_2017.head(10)"
   ]
  },
  {
   "cell_type": "markdown",
   "id": "63255444",
   "metadata": {},
   "source": [
    "### Before performing a PCA, I check the correlation between the variables"
   ]
  },
  {
   "cell_type": "code",
   "execution_count": 351,
   "id": "c803376a",
   "metadata": {},
   "outputs": [],
   "source": [
    "corr=Chicken_2017.corr()"
   ]
  },
  {
   "cell_type": "code",
   "execution_count": 352,
   "id": "b71303ed",
   "metadata": {
    "scrolled": false
   },
   "outputs": [
    {
     "data": {
      "text/plain": [
       "<AxesSubplot:>"
      ]
     },
     "execution_count": 352,
     "metadata": {},
     "output_type": "execute_result"
    },
    {
     "data": {
      "image/png": "[encoded data removed]",
      "text/plain": [
       "<Figure size 432x288 with 2 Axes>"
      ]
     },
     "metadata": {
      "needs_background": "light"
     },
     "output_type": "display_data"
    }
   ],
   "source": [
    "sns.heatmap(corr, annot=True, cmap='coolwarm', cbar=True)"
   ]
  },
  {
   "cell_type": "markdown",
   "id": "8adb149b",
   "metadata": {},
   "source": [
    "#### We have 2 pairs of variables very correlated. \"Production\" with \"Disponibilité intérieur\" and \"Disponibilité alimentaire en quantité (kg/personne/an)\" with \"Disponibilité alimentaire (Kcal/personne/jour)\". Therefore I will only use one of each for the rest of the analysis. I will keep \"production\" and \"Disponibilité alimentaire en quantité (kg/personne/an)\". "
   ]
  },
  {
   "cell_type": "code",
   "execution_count": 353,
   "id": "5f510024",
   "metadata": {
    "scrolled": true
   },
   "outputs": [
    {
     "data": {
      "text/html": [
       "<div>\n",
       "<style scoped>\n",
       "    .dataframe tbody tr th:only-of-type {\n",
       "        vertical-align: middle;\n",
       "    }\n",
       "\n",
       "    .dataframe tbody tr th {\n",
       "        vertical-align: top;\n",
       "    }\n",
       "\n",
       "    .dataframe thead th {\n",
       "        text-align: right;\n",
       "    }\n",
       "</style>\n",
       "<table border=\"1\" class=\"dataframe\">\n",
       "  <thead>\n",
       "    <tr style=\"text-align: right;\">\n",
       "      <th></th>\n",
       "      <th>Zone</th>\n",
       "      <th>Disponibilité alimentaire en quantité (kg/personne/an)</th>\n",
       "      <th>Exportations - Quantité</th>\n",
       "      <th>Importations - Quantité</th>\n",
       "      <th>Production</th>\n",
       "      <th>Variation de stock</th>\n",
       "      <th>Population</th>\n",
       "    </tr>\n",
       "  </thead>\n",
       "  <tbody>\n",
       "    <tr>\n",
       "      <th>0</th>\n",
       "      <td>Afrique du Sud</td>\n",
       "      <td>35.69</td>\n",
       "      <td>63.0</td>\n",
       "      <td>514.0</td>\n",
       "      <td>1667.0</td>\n",
       "      <td>-0.0</td>\n",
       "      <td>57009.756</td>\n",
       "    </tr>\n",
       "    <tr>\n",
       "      <th>1</th>\n",
       "      <td>Albanie</td>\n",
       "      <td>16.36</td>\n",
       "      <td>0.0</td>\n",
       "      <td>38.0</td>\n",
       "      <td>13.0</td>\n",
       "      <td>4.0</td>\n",
       "      <td>2884.169</td>\n",
       "    </tr>\n",
       "    <tr>\n",
       "      <th>2</th>\n",
       "      <td>Algérie</td>\n",
       "      <td>6.38</td>\n",
       "      <td>0.0</td>\n",
       "      <td>2.0</td>\n",
       "      <td>275.0</td>\n",
       "      <td>0.0</td>\n",
       "      <td>41389.189</td>\n",
       "    </tr>\n",
       "    <tr>\n",
       "      <th>3</th>\n",
       "      <td>Allemagne</td>\n",
       "      <td>19.47</td>\n",
       "      <td>646.0</td>\n",
       "      <td>842.0</td>\n",
       "      <td>1514.0</td>\n",
       "      <td>-29.0</td>\n",
       "      <td>82658.409</td>\n",
       "    </tr>\n",
       "    <tr>\n",
       "      <th>4</th>\n",
       "      <td>Angola</td>\n",
       "      <td>10.56</td>\n",
       "      <td>0.0</td>\n",
       "      <td>277.0</td>\n",
       "      <td>42.0</td>\n",
       "      <td>-0.0</td>\n",
       "      <td>29816.766</td>\n",
       "    </tr>\n",
       "    <tr>\n",
       "      <th>...</th>\n",
       "      <td>...</td>\n",
       "      <td>...</td>\n",
       "      <td>...</td>\n",
       "      <td>...</td>\n",
       "      <td>...</td>\n",
       "      <td>...</td>\n",
       "      <td>...</td>\n",
       "    </tr>\n",
       "    <tr>\n",
       "      <th>129</th>\n",
       "      <td>Égypte</td>\n",
       "      <td>12.96</td>\n",
       "      <td>1.0</td>\n",
       "      <td>110.0</td>\n",
       "      <td>1118.0</td>\n",
       "      <td>-23.0</td>\n",
       "      <td>96442.591</td>\n",
       "    </tr>\n",
       "    <tr>\n",
       "      <th>130</th>\n",
       "      <td>Émirats arabes unis</td>\n",
       "      <td>43.47</td>\n",
       "      <td>94.0</td>\n",
       "      <td>433.0</td>\n",
       "      <td>48.0</td>\n",
       "      <td>-26.0</td>\n",
       "      <td>9487.203</td>\n",
       "    </tr>\n",
       "    <tr>\n",
       "      <th>131</th>\n",
       "      <td>Équateur</td>\n",
       "      <td>19.31</td>\n",
       "      <td>0.0</td>\n",
       "      <td>0.0</td>\n",
       "      <td>340.0</td>\n",
       "      <td>-1.0</td>\n",
       "      <td>16785.361</td>\n",
       "    </tr>\n",
       "    <tr>\n",
       "      <th>132</th>\n",
       "      <td>États-Unis d'Amérique</td>\n",
       "      <td>55.68</td>\n",
       "      <td>3692.0</td>\n",
       "      <td>123.0</td>\n",
       "      <td>21914.0</td>\n",
       "      <td>80.0</td>\n",
       "      <td>325084.756</td>\n",
       "    </tr>\n",
       "    <tr>\n",
       "      <th>133</th>\n",
       "      <td>Îles Salomon</td>\n",
       "      <td>4.45</td>\n",
       "      <td>0.0</td>\n",
       "      <td>6.0</td>\n",
       "      <td>0.0</td>\n",
       "      <td>3.0</td>\n",
       "      <td>636.039</td>\n",
       "    </tr>\n",
       "  </tbody>\n",
       "</table>\n",
       "<p>134 rows × 7 columns</p>\n",
       "</div>"
      ],
      "text/plain": [
       "                      Zone  \\\n",
       "0           Afrique du Sud   \n",
       "1                  Albanie   \n",
       "2                  Algérie   \n",
       "3                Allemagne   \n",
       "4                   Angola   \n",
       "..                     ...   \n",
       "129                 Égypte   \n",
       "130    Émirats arabes unis   \n",
       "131               Équateur   \n",
       "132  États-Unis d'Amérique   \n",
       "133           Îles Salomon   \n",
       "\n",
       "     Disponibilité alimentaire en quantité (kg/personne/an)  \\\n",
       "0                                                35.69        \n",
       "1                                                16.36        \n",
       "2                                                 6.38        \n",
       "3                                                19.47        \n",
       "4                                                10.56        \n",
       "..                                                 ...        \n",
       "129                                              12.96        \n",
       "130                                              43.47        \n",
       "131                                              19.31        \n",
       "132                                              55.68        \n",
       "133                                               4.45        \n",
       "\n",
       "     Exportations - Quantité  Importations - Quantité  Production  \\\n",
       "0                       63.0                    514.0      1667.0   \n",
       "1                        0.0                     38.0        13.0   \n",
       "2                        0.0                      2.0       275.0   \n",
       "3                      646.0                    842.0      1514.0   \n",
       "4                        0.0                    277.0        42.0   \n",
       "..                       ...                      ...         ...   \n",
       "129                      1.0                    110.0      1118.0   \n",
       "130                     94.0                    433.0        48.0   \n",
       "131                      0.0                      0.0       340.0   \n",
       "132                   3692.0                    123.0     21914.0   \n",
       "133                      0.0                      6.0         0.0   \n",
       "\n",
       "     Variation de stock  Population  \n",
       "0                  -0.0   57009.756  \n",
       "1                   4.0    2884.169  \n",
       "2                   0.0   41389.189  \n",
       "3                 -29.0   82658.409  \n",
       "4                  -0.0   29816.766  \n",
       "..                  ...         ...  \n",
       "129               -23.0   96442.591  \n",
       "130               -26.0    9487.203  \n",
       "131                -1.0   16785.361  \n",
       "132                80.0  325084.756  \n",
       "133                 3.0     636.039  \n",
       "\n",
       "[134 rows x 7 columns]"
      ]
     },
     "execution_count": 353,
     "metadata": {},
     "output_type": "execute_result"
    }
   ],
   "source": [
    "Chicken_2017=Chicken_2017.drop(['Disponibilité intérieure','Disponibilité alimentaire (Kcal/personne/jour)'],axis=1)\n",
    "Chicken_2017"
   ]
  },
  {
   "cell_type": "code",
   "execution_count": 354,
   "id": "62c5a137",
   "metadata": {},
   "outputs": [],
   "source": [
    "#Setting the countries as index\n",
    "Chicken_2017.set_index('Zone',inplace=True)"
   ]
  },
  {
   "cell_type": "markdown",
   "id": "a98edca1",
   "metadata": {},
   "source": [
    "## Now Let's perform a PCA to reduce the dimentionality to then visualize first the relationships between the variables and thoses 2 PCs. Finally plot the countries with the PC coordonates and analyse which area of the graph would be the more suitable for exporting. "
   ]
  },
  {
   "cell_type": "markdown",
   "id": "7cb00bc8",
   "metadata": {},
   "source": [
    "## PCA"
   ]
  },
  {
   "cell_type": "markdown",
   "id": "e55aebb3",
   "metadata": {},
   "source": [
    "### Data Standardization"
   ]
  },
  {
   "cell_type": "markdown",
   "id": "8be0512d",
   "metadata": {},
   "source": [
    "#### Splitting the dataset in variables between our quantitative data, index and column names"
   ]
  },
  {
   "cell_type": "code",
   "execution_count": 355,
   "id": "d68dcf52",
   "metadata": {},
   "outputs": [],
   "source": [
    "#Datas\n",
    "x=Chicken_2017.values"
   ]
  },
  {
   "cell_type": "code",
   "execution_count": 357,
   "id": "32e94343",
   "metadata": {},
   "outputs": [
    {
     "data": {
      "text/plain": [
       "numpy.ndarray"
      ]
     },
     "execution_count": 357,
     "metadata": {},
     "output_type": "execute_result"
    }
   ],
   "source": [
    "type(x)"
   ]
  },
  {
   "cell_type": "code",
   "execution_count": 358,
   "id": "51204598",
   "metadata": {},
   "outputs": [
    {
     "data": {
      "text/plain": [
       "Index(['Afrique du Sud', 'Albanie', 'Algérie', 'Allemagne', 'Angola',\n",
       "       'Antigua-et-Barbuda', 'Arabie saoudite', 'Argentine', 'Arménie',\n",
       "       'Australie',\n",
       "       ...\n",
       "       'Uruguay', 'Venezuela (République bolivarienne du)', 'Viet Nam',\n",
       "       'Yémen', 'Zambie', 'Égypte', 'Émirats arabes unis', 'Équateur',\n",
       "       'États-Unis d'Amérique', 'Îles Salomon'],\n",
       "      dtype='object', name='Zone', length=134)"
      ]
     },
     "execution_count": 358,
     "metadata": {},
     "output_type": "execute_result"
    }
   ],
   "source": [
    "countries=Chicken_2017.index\n",
    "countries"
   ]
  },
  {
   "cell_type": "code",
   "execution_count": 359,
   "id": "ecc8ea1c",
   "metadata": {
    "scrolled": true
   },
   "outputs": [
    {
     "data": {
      "text/plain": [
       "Index(['Disponibilité alimentaire en quantité (kg/personne/an)',\n",
       "       'Exportations - Quantité', 'Importations - Quantité', 'Production',\n",
       "       'Variation de stock', 'Population'],\n",
       "      dtype='object')"
      ]
     },
     "execution_count": 359,
     "metadata": {},
     "output_type": "execute_result"
    }
   ],
   "source": [
    "col=Chicken_2017.columns\n",
    "col"
   ]
  },
  {
   "cell_type": "markdown",
   "id": "9a2a69cf",
   "metadata": {},
   "source": [
    "#### Standardization (z score)"
   ]
  },
  {
   "cell_type": "code",
   "execution_count": 360,
   "id": "80457e1f",
   "metadata": {},
   "outputs": [],
   "source": [
    "#Initialising the object StandardScaler\n",
    "stand=StandardScaler()"
   ]
  },
  {
   "cell_type": "code",
   "execution_count": 361,
   "id": "9d4b2f1d",
   "metadata": {},
   "outputs": [],
   "source": [
    "#Method fit_transform to standarize the datas\n",
    "stand_x=stand.fit_transform(x)"
   ]
  },
  {
   "cell_type": "code",
   "execution_count": 363,
   "id": "3bcc2ea1",
   "metadata": {},
   "outputs": [
    {
     "data": {
      "text/html": [
       "<div>\n",
       "<style scoped>\n",
       "    .dataframe tbody tr th:only-of-type {\n",
       "        vertical-align: middle;\n",
       "    }\n",
       "\n",
       "    .dataframe tbody tr th {\n",
       "        vertical-align: top;\n",
       "    }\n",
       "\n",
       "    .dataframe thead th {\n",
       "        text-align: right;\n",
       "    }\n",
       "</style>\n",
       "<table border=\"1\" class=\"dataframe\">\n",
       "  <thead>\n",
       "    <tr style=\"text-align: right;\">\n",
       "      <th></th>\n",
       "      <th>Disponibilité alimentaire en quantité (kg/personne/an)</th>\n",
       "      <th>Exportations - Quantité</th>\n",
       "      <th>Importations - Quantité</th>\n",
       "      <th>Production</th>\n",
       "      <th>Variation de stock</th>\n",
       "      <th>Population</th>\n",
       "    </tr>\n",
       "    <tr>\n",
       "      <th>Zone</th>\n",
       "      <th></th>\n",
       "      <th></th>\n",
       "      <th></th>\n",
       "      <th></th>\n",
       "      <th></th>\n",
       "      <th></th>\n",
       "    </tr>\n",
       "  </thead>\n",
       "  <tbody>\n",
       "    <tr>\n",
       "      <th>Afrique du Sud</th>\n",
       "      <td>0.892940</td>\n",
       "      <td>-0.136597</td>\n",
       "      <td>1.990769</td>\n",
       "      <td>0.280981</td>\n",
       "      <td>-0.199216</td>\n",
       "      <td>0.042476</td>\n",
       "    </tr>\n",
       "    <tr>\n",
       "      <th>Albanie</th>\n",
       "      <td>-0.421378</td>\n",
       "      <td>-0.259247</td>\n",
       "      <td>-0.341778</td>\n",
       "      <td>-0.317074</td>\n",
       "      <td>-0.151632</td>\n",
       "      <td>-0.273115</td>\n",
       "    </tr>\n",
       "    <tr>\n",
       "      <th>Algérie</th>\n",
       "      <td>-1.099955</td>\n",
       "      <td>-0.259247</td>\n",
       "      <td>-0.518189</td>\n",
       "      <td>-0.222340</td>\n",
       "      <td>-0.199216</td>\n",
       "      <td>-0.048604</td>\n",
       "    </tr>\n",
       "    <tr>\n",
       "      <th>Allemagne</th>\n",
       "      <td>-0.209918</td>\n",
       "      <td>0.998398</td>\n",
       "      <td>3.598070</td>\n",
       "      <td>0.225659</td>\n",
       "      <td>-0.544205</td>\n",
       "      <td>0.192025</td>\n",
       "    </tr>\n",
       "    <tr>\n",
       "      <th>Angola</th>\n",
       "      <td>-0.815741</td>\n",
       "      <td>-0.259247</td>\n",
       "      <td>0.829395</td>\n",
       "      <td>-0.306589</td>\n",
       "      <td>-0.199216</td>\n",
       "      <td>-0.116079</td>\n",
       "    </tr>\n",
       "    <tr>\n",
       "      <th>...</th>\n",
       "      <td>...</td>\n",
       "      <td>...</td>\n",
       "      <td>...</td>\n",
       "      <td>...</td>\n",
       "      <td>...</td>\n",
       "      <td>...</td>\n",
       "    </tr>\n",
       "    <tr>\n",
       "      <th>Égypte</th>\n",
       "      <td>-0.652557</td>\n",
       "      <td>-0.257300</td>\n",
       "      <td>0.011044</td>\n",
       "      <td>0.082473</td>\n",
       "      <td>-0.472828</td>\n",
       "      <td>0.272397</td>\n",
       "    </tr>\n",
       "    <tr>\n",
       "      <th>Émirats arabes unis</th>\n",
       "      <td>1.421930</td>\n",
       "      <td>-0.076246</td>\n",
       "      <td>1.593844</td>\n",
       "      <td>-0.304419</td>\n",
       "      <td>-0.508517</td>\n",
       "      <td>-0.234615</td>\n",
       "    </tr>\n",
       "    <tr>\n",
       "      <th>Équateur</th>\n",
       "      <td>-0.220797</td>\n",
       "      <td>-0.259247</td>\n",
       "      <td>-0.527990</td>\n",
       "      <td>-0.198837</td>\n",
       "      <td>-0.211113</td>\n",
       "      <td>-0.192061</td>\n",
       "    </tr>\n",
       "    <tr>\n",
       "      <th>États-Unis d'Amérique</th>\n",
       "      <td>2.252133</td>\n",
       "      <td>6.928408</td>\n",
       "      <td>0.074748</td>\n",
       "      <td>7.601918</td>\n",
       "      <td>0.752477</td>\n",
       "      <td>1.605543</td>\n",
       "    </tr>\n",
       "    <tr>\n",
       "      <th>Îles Salomon</th>\n",
       "      <td>-1.231183</td>\n",
       "      <td>-0.259247</td>\n",
       "      <td>-0.498588</td>\n",
       "      <td>-0.321775</td>\n",
       "      <td>-0.163528</td>\n",
       "      <td>-0.286223</td>\n",
       "    </tr>\n",
       "  </tbody>\n",
       "</table>\n",
       "<p>134 rows × 6 columns</p>\n",
       "</div>"
      ],
      "text/plain": [
       "                       Disponibilité alimentaire en quantité (kg/personne/an)  \\\n",
       "Zone                                                                            \n",
       "Afrique du Sud                                                  0.892940        \n",
       "Albanie                                                        -0.421378        \n",
       "Algérie                                                        -1.099955        \n",
       "Allemagne                                                      -0.209918        \n",
       "Angola                                                         -0.815741        \n",
       "...                                                                  ...        \n",
       "Égypte                                                         -0.652557        \n",
       "Émirats arabes unis                                             1.421930        \n",
       "Équateur                                                       -0.220797        \n",
       "États-Unis d'Amérique                                           2.252133        \n",
       "Îles Salomon                                                   -1.231183        \n",
       "\n",
       "                       Exportations - Quantité  Importations - Quantité  \\\n",
       "Zone                                                                      \n",
       "Afrique du Sud                       -0.136597                 1.990769   \n",
       "Albanie                              -0.259247                -0.341778   \n",
       "Algérie                              -0.259247                -0.518189   \n",
       "Allemagne                             0.998398                 3.598070   \n",
       "Angola                               -0.259247                 0.829395   \n",
       "...                                        ...                      ...   \n",
       "Égypte                               -0.257300                 0.011044   \n",
       "Émirats arabes unis                  -0.076246                 1.593844   \n",
       "Équateur                             -0.259247                -0.527990   \n",
       "États-Unis d'Amérique                 6.928408                 0.074748   \n",
       "Îles Salomon                         -0.259247                -0.498588   \n",
       "\n",
       "                       Production  Variation de stock  Population  \n",
       "Zone                                                               \n",
       "Afrique du Sud           0.280981           -0.199216    0.042476  \n",
       "Albanie                 -0.317074           -0.151632   -0.273115  \n",
       "Algérie                 -0.222340           -0.199216   -0.048604  \n",
       "Allemagne                0.225659           -0.544205    0.192025  \n",
       "Angola                  -0.306589           -0.199216   -0.116079  \n",
       "...                           ...                 ...         ...  \n",
       "Égypte                   0.082473           -0.472828    0.272397  \n",
       "Émirats arabes unis     -0.304419           -0.508517   -0.234615  \n",
       "Équateur                -0.198837           -0.211113   -0.192061  \n",
       "États-Unis d'Amérique    7.601918            0.752477    1.605543  \n",
       "Îles Salomon            -0.321775           -0.163528   -0.286223  \n",
       "\n",
       "[134 rows x 6 columns]"
      ]
     },
     "execution_count": 363,
     "metadata": {},
     "output_type": "execute_result"
    }
   ],
   "source": [
    "#Back to DataFrame format\n",
    "df_T_chicken=pd.DataFrame(stand_x,columns=col,index=countries)\n",
    "df_T_chicken"
   ]
  },
  {
   "cell_type": "code",
   "execution_count": 364,
   "id": "12069500",
   "metadata": {},
   "outputs": [
    {
     "data": {
      "text/html": [
       "<div>\n",
       "<style scoped>\n",
       "    .dataframe tbody tr th:only-of-type {\n",
       "        vertical-align: middle;\n",
       "    }\n",
       "\n",
       "    .dataframe tbody tr th {\n",
       "        vertical-align: top;\n",
       "    }\n",
       "\n",
       "    .dataframe thead th {\n",
       "        text-align: right;\n",
       "    }\n",
       "</style>\n",
       "<table border=\"1\" class=\"dataframe\">\n",
       "  <thead>\n",
       "    <tr style=\"text-align: right;\">\n",
       "      <th></th>\n",
       "      <th>Disponibilité alimentaire en quantité (kg/personne/an)</th>\n",
       "      <th>Exportations - Quantité</th>\n",
       "      <th>Importations - Quantité</th>\n",
       "      <th>Production</th>\n",
       "      <th>Variation de stock</th>\n",
       "      <th>Population</th>\n",
       "    </tr>\n",
       "  </thead>\n",
       "  <tbody>\n",
       "    <tr>\n",
       "      <th>count</th>\n",
       "      <td>134.00</td>\n",
       "      <td>134.00</td>\n",
       "      <td>134.00</td>\n",
       "      <td>134.00</td>\n",
       "      <td>134.00</td>\n",
       "      <td>134.00</td>\n",
       "    </tr>\n",
       "    <tr>\n",
       "      <th>mean</th>\n",
       "      <td>-0.00</td>\n",
       "      <td>-0.00</td>\n",
       "      <td>-0.00</td>\n",
       "      <td>-0.00</td>\n",
       "      <td>-0.00</td>\n",
       "      <td>0.00</td>\n",
       "    </tr>\n",
       "    <tr>\n",
       "      <th>std</th>\n",
       "      <td>1.00</td>\n",
       "      <td>1.00</td>\n",
       "      <td>1.00</td>\n",
       "      <td>1.00</td>\n",
       "      <td>1.00</td>\n",
       "      <td>1.00</td>\n",
       "    </tr>\n",
       "    <tr>\n",
       "      <th>min</th>\n",
       "      <td>-1.50</td>\n",
       "      <td>-0.26</td>\n",
       "      <td>-0.53</td>\n",
       "      <td>-0.32</td>\n",
       "      <td>-1.61</td>\n",
       "      <td>-0.29</td>\n",
       "    </tr>\n",
       "    <tr>\n",
       "      <th>25%</th>\n",
       "      <td>-0.70</td>\n",
       "      <td>-0.26</td>\n",
       "      <td>-0.51</td>\n",
       "      <td>-0.31</td>\n",
       "      <td>-0.20</td>\n",
       "      <td>-0.27</td>\n",
       "    </tr>\n",
       "    <tr>\n",
       "      <th>50%</th>\n",
       "      <td>-0.15</td>\n",
       "      <td>-0.25</td>\n",
       "      <td>-0.42</td>\n",
       "      <td>-0.28</td>\n",
       "      <td>-0.20</td>\n",
       "      <td>-0.23</td>\n",
       "    </tr>\n",
       "    <tr>\n",
       "      <th>75%</th>\n",
       "      <td>0.57</td>\n",
       "      <td>-0.19</td>\n",
       "      <td>0.01</td>\n",
       "      <td>-0.09</td>\n",
       "      <td>-0.07</td>\n",
       "      <td>-0.09</td>\n",
       "    </tr>\n",
       "    <tr>\n",
       "      <th>max</th>\n",
       "      <td>3.05</td>\n",
       "      <td>7.96</td>\n",
       "      <td>4.71</td>\n",
       "      <td>7.60</td>\n",
       "      <td>10.02</td>\n",
       "      <td>8.00</td>\n",
       "    </tr>\n",
       "  </tbody>\n",
       "</table>\n",
       "</div>"
      ],
      "text/plain": [
       "       Disponibilité alimentaire en quantité (kg/personne/an)  \\\n",
       "count                                             134.00        \n",
       "mean                                               -0.00        \n",
       "std                                                 1.00        \n",
       "min                                                -1.50        \n",
       "25%                                                -0.70        \n",
       "50%                                                -0.15        \n",
       "75%                                                 0.57        \n",
       "max                                                 3.05        \n",
       "\n",
       "       Exportations - Quantité  Importations - Quantité  Production  \\\n",
       "count                   134.00                   134.00      134.00   \n",
       "mean                     -0.00                    -0.00       -0.00   \n",
       "std                       1.00                     1.00        1.00   \n",
       "min                      -0.26                    -0.53       -0.32   \n",
       "25%                      -0.26                    -0.51       -0.31   \n",
       "50%                      -0.25                    -0.42       -0.28   \n",
       "75%                      -0.19                     0.01       -0.09   \n",
       "max                       7.96                     4.71        7.60   \n",
       "\n",
       "       Variation de stock  Population  \n",
       "count              134.00      134.00  \n",
       "mean                -0.00        0.00  \n",
       "std                  1.00        1.00  \n",
       "min                 -1.61       -0.29  \n",
       "25%                 -0.20       -0.27  \n",
       "50%                 -0.20       -0.23  \n",
       "75%                 -0.07       -0.09  \n",
       "max                 10.02        8.00  "
      ]
     },
     "execution_count": 364,
     "metadata": {},
     "output_type": "execute_result"
    }
   ],
   "source": [
    "# Checking if the mean is equal to 0 and the std to 1\n",
    "df_T_chicken.describe().round(2)"
   ]
  },
  {
   "cell_type": "markdown",
   "id": "33fe494e",
   "metadata": {},
   "source": [
    "### Calcul of Principal components"
   ]
  },
  {
   "cell_type": "code",
   "execution_count": 365,
   "id": "a6e3f44d",
   "metadata": {},
   "outputs": [],
   "source": [
    "#Initialising the object PCA with the 6 first components\n",
    "pca = PCA(n_components=6)"
   ]
  },
  {
   "cell_type": "code",
   "execution_count": 366,
   "id": "cb7ab209",
   "metadata": {},
   "outputs": [],
   "source": [
    "#Computing of the principal components\n",
    "pca=pca.fit(df_T_chicken)"
   ]
  },
  {
   "cell_type": "markdown",
   "id": "ed9cea96",
   "metadata": {},
   "source": [
    "#### Visualisation of the explained of variance for each components"
   ]
  },
  {
   "cell_type": "code",
   "execution_count": 367,
   "id": "86781af7",
   "metadata": {},
   "outputs": [
    {
     "data": {
      "text/plain": [
       "array([0.369076  , 0.21866716, 0.18001414, 0.12508509, 0.09148062,\n",
       "       0.01567698])"
      ]
     },
     "execution_count": 367,
     "metadata": {},
     "output_type": "execute_result"
    }
   ],
   "source": [
    "pca.explained_variance_ratio_"
   ]
  },
  {
   "cell_type": "code",
   "execution_count": 368,
   "id": "92fc8ca7",
   "metadata": {},
   "outputs": [
    {
     "data": {
      "image/png": "[encoded data removed]",
      "text/plain": [
       "<Figure size 1008x504 with 1 Axes>"
      ]
     },
     "metadata": {
      "needs_background": "light"
     },
     "output_type": "display_data"
    }
   ],
   "source": [
    "variance = (pca.explained_variance_ratio_*100).round(2).cumsum()\n",
    "components=list(range(1,7))\n",
    "#Graph\n",
    "plt.figure(figsize=(14,7))\n",
    "plt.plot(components, variance)\n",
    "plt.xlabel(\"PC\")\n",
    "plt.ylabel(\"% of Variance\")\n",
    "plt.title(\"Variance explained\")\n",
    "plt.grid()\n",
    "plt.show()"
   ]
  },
  {
   "cell_type": "markdown",
   "id": "b060a640",
   "metadata": {},
   "source": [
    "#### The 2 first principal components represent less than 60% of the variation. I decide to use the third one too to get more than 75% of the variance"
   ]
  },
  {
   "cell_type": "code",
   "execution_count": 369,
   "id": "ddb6ff04",
   "metadata": {},
   "outputs": [],
   "source": [
    "pca = PCA(n_components=3)\n",
    "pca=pca.fit(df_T_chicken)"
   ]
  },
  {
   "cell_type": "markdown",
   "id": "ed70ab63",
   "metadata": {},
   "source": [
    "#### Let see now the coordonates of the 3 Eigen Vectors"
   ]
  },
  {
   "cell_type": "code",
   "execution_count": 370,
   "id": "2c33cee0",
   "metadata": {},
   "outputs": [],
   "source": [
    "df_pc=pd.DataFrame({\"V-PC1\":pca.components_[0],\"V-PC2\":pca.components_[1],\"V-PC3\":pca.components_[2]})"
   ]
  },
  {
   "cell_type": "code",
   "execution_count": 371,
   "id": "3ad641ba",
   "metadata": {
    "scrolled": true
   },
   "outputs": [
    {
     "data": {
      "text/html": [
       "<div>\n",
       "<style scoped>\n",
       "    .dataframe tbody tr th:only-of-type {\n",
       "        vertical-align: middle;\n",
       "    }\n",
       "\n",
       "    .dataframe tbody tr th {\n",
       "        vertical-align: top;\n",
       "    }\n",
       "\n",
       "    .dataframe thead th {\n",
       "        text-align: right;\n",
       "    }\n",
       "</style>\n",
       "<table border=\"1\" class=\"dataframe\">\n",
       "  <thead>\n",
       "    <tr style=\"text-align: right;\">\n",
       "      <th></th>\n",
       "      <th>V-PC1</th>\n",
       "      <th>V-PC2</th>\n",
       "      <th>V-PC3</th>\n",
       "    </tr>\n",
       "  </thead>\n",
       "  <tbody>\n",
       "    <tr>\n",
       "      <th>0</th>\n",
       "      <td>0.206603</td>\n",
       "      <td>0.387898</td>\n",
       "      <td>-0.676459</td>\n",
       "    </tr>\n",
       "    <tr>\n",
       "      <th>1</th>\n",
       "      <td>0.551736</td>\n",
       "      <td>0.000202</td>\n",
       "      <td>-0.283562</td>\n",
       "    </tr>\n",
       "    <tr>\n",
       "      <th>2</th>\n",
       "      <td>0.251788</td>\n",
       "      <td>0.517481</td>\n",
       "      <td>0.368934</td>\n",
       "    </tr>\n",
       "    <tr>\n",
       "      <th>3</th>\n",
       "      <td>0.637743</td>\n",
       "      <td>-0.153497</td>\n",
       "      <td>-0.012374</td>\n",
       "    </tr>\n",
       "    <tr>\n",
       "      <th>4</th>\n",
       "      <td>0.088144</td>\n",
       "      <td>0.629768</td>\n",
       "      <td>0.381513</td>\n",
       "    </tr>\n",
       "    <tr>\n",
       "      <th>5</th>\n",
       "      <td>0.418354</td>\n",
       "      <td>-0.401970</td>\n",
       "      <td>0.424474</td>\n",
       "    </tr>\n",
       "  </tbody>\n",
       "</table>\n",
       "</div>"
      ],
      "text/plain": [
       "      V-PC1     V-PC2     V-PC3\n",
       "0  0.206603  0.387898 -0.676459\n",
       "1  0.551736  0.000202 -0.283562\n",
       "2  0.251788  0.517481  0.368934\n",
       "3  0.637743 -0.153497 -0.012374\n",
       "4  0.088144  0.629768  0.381513\n",
       "5  0.418354 -0.401970  0.424474"
      ]
     },
     "execution_count": 371,
     "metadata": {},
     "output_type": "execute_result"
    }
   ],
   "source": [
    "df_pc"
   ]
  },
  {
   "cell_type": "markdown",
   "id": "d4d20ce9",
   "metadata": {},
   "source": [
    "#### Let see the weight of each variable for the 3 vectors"
   ]
  },
  {
   "cell_type": "code",
   "execution_count": 372,
   "id": "19bb9518",
   "metadata": {
    "scrolled": true
   },
   "outputs": [
    {
     "data": {
      "text/html": [
       "<div>\n",
       "<style scoped>\n",
       "    .dataframe tbody tr th:only-of-type {\n",
       "        vertical-align: middle;\n",
       "    }\n",
       "\n",
       "    .dataframe tbody tr th {\n",
       "        vertical-align: top;\n",
       "    }\n",
       "\n",
       "    .dataframe thead th {\n",
       "        text-align: right;\n",
       "    }\n",
       "</style>\n",
       "<table border=\"1\" class=\"dataframe\">\n",
       "  <thead>\n",
       "    <tr style=\"text-align: right;\">\n",
       "      <th></th>\n",
       "      <th>Disponibilité alimentaire en quantité (kg/personne/an)</th>\n",
       "      <th>Exportations - Quantité</th>\n",
       "      <th>Importations - Quantité</th>\n",
       "      <th>Production</th>\n",
       "      <th>Variation de stock</th>\n",
       "      <th>Population</th>\n",
       "    </tr>\n",
       "  </thead>\n",
       "  <tbody>\n",
       "    <tr>\n",
       "      <th>V-PC1</th>\n",
       "      <td>0.206603</td>\n",
       "      <td>0.551736</td>\n",
       "      <td>0.251788</td>\n",
       "      <td>0.637743</td>\n",
       "      <td>0.088144</td>\n",
       "      <td>0.418354</td>\n",
       "    </tr>\n",
       "    <tr>\n",
       "      <th>V-PC2</th>\n",
       "      <td>0.387898</td>\n",
       "      <td>0.000202</td>\n",
       "      <td>0.517481</td>\n",
       "      <td>-0.153497</td>\n",
       "      <td>0.629768</td>\n",
       "      <td>-0.401970</td>\n",
       "    </tr>\n",
       "    <tr>\n",
       "      <th>V-PC3</th>\n",
       "      <td>-0.676459</td>\n",
       "      <td>-0.283562</td>\n",
       "      <td>0.368934</td>\n",
       "      <td>-0.012374</td>\n",
       "      <td>0.381513</td>\n",
       "      <td>0.424474</td>\n",
       "    </tr>\n",
       "  </tbody>\n",
       "</table>\n",
       "</div>"
      ],
      "text/plain": [
       "       Disponibilité alimentaire en quantité (kg/personne/an)  \\\n",
       "V-PC1                                           0.206603        \n",
       "V-PC2                                           0.387898        \n",
       "V-PC3                                          -0.676459        \n",
       "\n",
       "       Exportations - Quantité  Importations - Quantité  Production  \\\n",
       "V-PC1                 0.551736                 0.251788    0.637743   \n",
       "V-PC2                 0.000202                 0.517481   -0.153497   \n",
       "V-PC3                -0.283562                 0.368934   -0.012374   \n",
       "\n",
       "       Variation de stock  Population  \n",
       "V-PC1            0.088144    0.418354  \n",
       "V-PC2            0.629768   -0.401970  \n",
       "V-PC3            0.381513    0.424474  "
      ]
     },
     "execution_count": 372,
     "metadata": {},
     "output_type": "execute_result"
    }
   ],
   "source": [
    "df_pc.index=col\n",
    "df_pc.transpose()"
   ]
  },
  {
   "cell_type": "markdown",
   "id": "bfe6b4e3",
   "metadata": {},
   "source": [
    "#### Circle of correlation:"
   ]
  },
  {
   "cell_type": "code",
   "execution_count": 373,
   "id": "a4c91a17",
   "metadata": {},
   "outputs": [],
   "source": [
    "#Let's write a function for it\n",
    "def cirCorr(EigenV,acp,N):\n",
    "    if N==0:\n",
    "        fig, ax = plt.subplots(figsize=(7, 7))\n",
    "        for i in range(0, EigenV.shape[0]):\n",
    "            ax.arrow(0,0,EigenV.iloc[i, 0],EigenV.iloc[i, 1], head_width=0.07,\n",
    "                     head_length=0.07, width=0.02)            \n",
    "\n",
    "            plt.text(EigenV.iloc[i, 0] + 0.05, EigenV.iloc[i, 1],EigenV.index[i])\n",
    "\n",
    "        # Horizontals and verticals lines\n",
    "        plt.plot([-1, 1], [0, 0], color='grey', ls='--')\n",
    "        plt.plot([0, 0], [-1, 1], color='grey', ls='--')\n",
    "\n",
    "\n",
    "        # % of the variance explained for each component\n",
    "        plt.xlabel('PC1 ' + str(100*acp.explained_variance_ratio_[0].round(2))+\"%\")\n",
    "        plt.ylabel('PC2 ' + str(100*acp.explained_variance_ratio_[1].round(2))+\"%\")\n",
    "\n",
    "        plt.title(\"Correlation circle (PC1 et PC2)\")\n",
    "    elif N==1:\n",
    "        fig, ax = plt.subplots(figsize=(7, 7))\n",
    "        for i in range(0, EigenV.shape[0]):\n",
    "            ax.arrow(0,0,EigenV.iloc[i, 0],EigenV.iloc[i, 2], head_width=0.07,\n",
    "                     head_length=0.07, width=0.02)            \n",
    "\n",
    "            plt.text(EigenV.iloc[i, 0] + 0.05, EigenV.iloc[i, 2],EigenV.index[i])\n",
    "\n",
    "        plt.plot([-1, 1], [0, 0], color='grey', ls='--')\n",
    "        plt.plot([0, 0], [-1, 1], color='grey', ls='--')\n",
    "\n",
    "\n",
    "        plt.xlabel('PC1 ' + str(100*acp.explained_variance_ratio_[0].round(2))+\"%\")\n",
    "        plt.ylabel('PC3 ' + str(100*acp.explained_variance_ratio_[2].round(2))+\"%\")\n",
    "\n",
    "        plt.title(\"Correlation circle (PC1 et PC3)\")\n",
    "   \n",
    "       #Circle\n",
    "    an = np.linspace(0, 2 * np.pi, 100)\n",
    "    plt.plot(np.cos(an), np.sin(an))  \n",
    "    plt.show()\n"
   ]
  },
  {
   "cell_type": "markdown",
   "id": "477470a6",
   "metadata": {},
   "source": [
    "Let see the circle with each principale components"
   ]
  },
  {
   "cell_type": "code",
   "execution_count": 374,
   "id": "d48c433a",
   "metadata": {},
   "outputs": [
    {
     "data": {
      "image/png": "[encoded data removed]",
      "text/plain": [
       "<Figure size 504x504 with 1 Axes>"
      ]
     },
     "metadata": {
      "needs_background": "light"
     },
     "output_type": "display_data"
    }
   ],
   "source": [
    "#PC1-PC2\n",
    "cirCorr(df_pc,pca,0)"
   ]
  },
  {
   "cell_type": "markdown",
   "id": "78ad6040",
   "metadata": {},
   "source": [
    "### Interpretation for the weight of the variables on PC1 and PC2\n",
    "#### \"Importations\" and \"Disponibilité alimentaire\" (\"food availibility\") are very correlated. They have a relatively low contribution on PC1 but a stronger positive one on PC2\n",
    "#### \"Production\" and \"Exportation\" on the other hand have a fairly strong positive contribution on CP1\n",
    "#### Population has a medium positive contribution on PC1 and medium negative on PC2\n",
    "## As we want to find countries to export, it would be interesting to target countries that have a low production, a low disponibilité alimentaire and the highest population. \n",
    "## Therefore the countries  that will appear on the lower left part of the graph"
   ]
  },
  {
   "cell_type": "code",
   "execution_count": 375,
   "id": "f68199ce",
   "metadata": {},
   "outputs": [
    {
     "data": {
      "image/png": "[encoded data removed]",
      "text/plain": [
       "<Figure size 504x504 with 1 Axes>"
      ]
     },
     "metadata": {
      "needs_background": "light"
     },
     "output_type": "display_data"
    }
   ],
   "source": [
    "#F1F3\n",
    "cirCorr(df_pc,pca,1)"
   ]
  },
  {
   "cell_type": "markdown",
   "id": "f7ea4d99",
   "metadata": {},
   "source": [
    "### Interpretation for the weight of the variables on PC3\n",
    "#### For PC3 the main added information would be the variable \"Disponibilité alimentaire\" that has a strong negative contribution on CP3.\n",
    "## On this graph we will then look for countries with negative coordonates on PC1 but positives on PC3 (opposite to high \"Disponibilité alimentaire\" and \"production\")"
   ]
  },
  {
   "cell_type": "markdown",
   "id": "9ea30bef",
   "metadata": {},
   "source": [
    "## Display of the countries with those 3 components "
   ]
  },
  {
   "cell_type": "markdown",
   "id": "e05cbd78",
   "metadata": {},
   "source": [
    "#### Calculation of the 3 principal components (linear combination)"
   ]
  },
  {
   "cell_type": "code",
   "execution_count": 376,
   "id": "bd4e9fe4",
   "metadata": {},
   "outputs": [],
   "source": [
    "PC = pca.transform(df_T_chicken)"
   ]
  },
  {
   "cell_type": "markdown",
   "id": "1de23aff",
   "metadata": {},
   "source": [
    "#### adding to the dataframe"
   ]
  },
  {
   "cell_type": "code",
   "execution_count": 378,
   "id": "05baa3e2",
   "metadata": {},
   "outputs": [],
   "source": [
    "# Coordonnées sur le 1er axe F1\n",
    "df_T_chicken['PC1']=PC[:,0]"
   ]
  },
  {
   "cell_type": "code",
   "execution_count": 379,
   "id": "8f446dd6",
   "metadata": {},
   "outputs": [],
   "source": [
    "# Coordonnées sur le 2ème axe F2\n",
    "df_T_chicken['PC2']=PC[:,1]"
   ]
  },
  {
   "cell_type": "code",
   "execution_count": 380,
   "id": "10bc282c",
   "metadata": {},
   "outputs": [
    {
     "data": {
      "text/html": [
       "<div>\n",
       "<style scoped>\n",
       "    .dataframe tbody tr th:only-of-type {\n",
       "        vertical-align: middle;\n",
       "    }\n",
       "\n",
       "    .dataframe tbody tr th {\n",
       "        vertical-align: top;\n",
       "    }\n",
       "\n",
       "    .dataframe thead th {\n",
       "        text-align: right;\n",
       "    }\n",
       "</style>\n",
       "<table border=\"1\" class=\"dataframe\">\n",
       "  <thead>\n",
       "    <tr style=\"text-align: right;\">\n",
       "      <th></th>\n",
       "      <th>Disponibilité alimentaire en quantité (kg/personne/an)</th>\n",
       "      <th>Exportations - Quantité</th>\n",
       "      <th>Importations - Quantité</th>\n",
       "      <th>Production</th>\n",
       "      <th>Variation de stock</th>\n",
       "      <th>Population</th>\n",
       "      <th>PC1</th>\n",
       "      <th>PC2</th>\n",
       "      <th>PC3</th>\n",
       "    </tr>\n",
       "    <tr>\n",
       "      <th>Zone</th>\n",
       "      <th></th>\n",
       "      <th></th>\n",
       "      <th></th>\n",
       "      <th></th>\n",
       "      <th></th>\n",
       "      <th></th>\n",
       "      <th></th>\n",
       "      <th></th>\n",
       "      <th></th>\n",
       "    </tr>\n",
       "  </thead>\n",
       "  <tbody>\n",
       "    <tr>\n",
       "      <th>Afrique du Sud</th>\n",
       "      <td>0.892940</td>\n",
       "      <td>-0.136597</td>\n",
       "      <td>1.990769</td>\n",
       "      <td>0.280981</td>\n",
       "      <td>-0.199216</td>\n",
       "      <td>0.042476</td>\n",
       "      <td>0.789773</td>\n",
       "      <td>1.190863</td>\n",
       "      <td>0.107708</td>\n",
       "    </tr>\n",
       "    <tr>\n",
       "      <th>Albanie</th>\n",
       "      <td>-0.421378</td>\n",
       "      <td>-0.259247</td>\n",
       "      <td>-0.341778</td>\n",
       "      <td>-0.317074</td>\n",
       "      <td>-0.151632</td>\n",
       "      <td>-0.273115</td>\n",
       "      <td>-0.645985</td>\n",
       "      <td>-0.277406</td>\n",
       "      <td>0.062608</td>\n",
       "    </tr>\n",
       "    <tr>\n",
       "      <th>Algérie</th>\n",
       "      <td>-1.099955</td>\n",
       "      <td>-0.259247</td>\n",
       "      <td>-0.518189</td>\n",
       "      <td>-0.222340</td>\n",
       "      <td>-0.199216</td>\n",
       "      <td>-0.048604</td>\n",
       "      <td>-0.680452</td>\n",
       "      <td>-0.766670</td>\n",
       "      <td>0.532526</td>\n",
       "    </tr>\n",
       "    <tr>\n",
       "      <th>Allemagne</th>\n",
       "      <td>-0.209918</td>\n",
       "      <td>0.998398</td>\n",
       "      <td>3.598070</td>\n",
       "      <td>0.225659</td>\n",
       "      <td>-0.544205</td>\n",
       "      <td>0.192025</td>\n",
       "      <td>1.589711</td>\n",
       "      <td>1.326158</td>\n",
       "      <td>1.057439</td>\n",
       "    </tr>\n",
       "    <tr>\n",
       "      <th>Angola</th>\n",
       "      <td>-0.815741</td>\n",
       "      <td>-0.259247</td>\n",
       "      <td>0.829395</td>\n",
       "      <td>-0.306589</td>\n",
       "      <td>-0.199216</td>\n",
       "      <td>-0.116079</td>\n",
       "      <td>-0.364385</td>\n",
       "      <td>0.080980</td>\n",
       "      <td>0.809838</td>\n",
       "    </tr>\n",
       "    <tr>\n",
       "      <th>...</th>\n",
       "      <td>...</td>\n",
       "      <td>...</td>\n",
       "      <td>...</td>\n",
       "      <td>...</td>\n",
       "      <td>...</td>\n",
       "      <td>...</td>\n",
       "      <td>...</td>\n",
       "      <td>...</td>\n",
       "      <td>...</td>\n",
       "    </tr>\n",
       "    <tr>\n",
       "      <th>Égypte</th>\n",
       "      <td>-0.652557</td>\n",
       "      <td>-0.257300</td>\n",
       "      <td>0.011044</td>\n",
       "      <td>0.082473</td>\n",
       "      <td>-0.472828</td>\n",
       "      <td>0.272397</td>\n",
       "      <td>-0.149123</td>\n",
       "      <td>-0.667389</td>\n",
       "      <td>0.452677</td>\n",
       "    </tr>\n",
       "    <tr>\n",
       "      <th>Émirats arabes unis</th>\n",
       "      <td>1.421930</td>\n",
       "      <td>-0.076246</td>\n",
       "      <td>1.593844</td>\n",
       "      <td>-0.304419</td>\n",
       "      <td>-0.508517</td>\n",
       "      <td>-0.234615</td>\n",
       "      <td>0.315902</td>\n",
       "      <td>1.197121</td>\n",
       "      <td>-0.642061</td>\n",
       "    </tr>\n",
       "    <tr>\n",
       "      <th>Équateur</th>\n",
       "      <td>-0.220797</td>\n",
       "      <td>-0.259247</td>\n",
       "      <td>-0.527990</td>\n",
       "      <td>-0.198837</td>\n",
       "      <td>-0.211113</td>\n",
       "      <td>-0.192061</td>\n",
       "      <td>-0.547359</td>\n",
       "      <td>-0.384152</td>\n",
       "      <td>-0.131528</td>\n",
       "    </tr>\n",
       "    <tr>\n",
       "      <th>États-Unis d'Amérique</th>\n",
       "      <td>2.252133</td>\n",
       "      <td>6.928408</td>\n",
       "      <td>0.074748</td>\n",
       "      <td>7.601918</td>\n",
       "      <td>0.752477</td>\n",
       "      <td>1.605543</td>\n",
       "      <td>9.892853</td>\n",
       "      <td>-0.424692</td>\n",
       "      <td>-2.586008</td>\n",
       "    </tr>\n",
       "    <tr>\n",
       "      <th>Îles Salomon</th>\n",
       "      <td>-1.231183</td>\n",
       "      <td>-0.259247</td>\n",
       "      <td>-0.498588</td>\n",
       "      <td>-0.321775</td>\n",
       "      <td>-0.163528</td>\n",
       "      <td>-0.286223</td>\n",
       "      <td>-0.862306</td>\n",
       "      <td>-0.674175</td>\n",
       "      <td>0.542510</td>\n",
       "    </tr>\n",
       "  </tbody>\n",
       "</table>\n",
       "<p>134 rows × 9 columns</p>\n",
       "</div>"
      ],
      "text/plain": [
       "                       Disponibilité alimentaire en quantité (kg/personne/an)  \\\n",
       "Zone                                                                            \n",
       "Afrique du Sud                                                  0.892940        \n",
       "Albanie                                                        -0.421378        \n",
       "Algérie                                                        -1.099955        \n",
       "Allemagne                                                      -0.209918        \n",
       "Angola                                                         -0.815741        \n",
       "...                                                                  ...        \n",
       "Égypte                                                         -0.652557        \n",
       "Émirats arabes unis                                             1.421930        \n",
       "Équateur                                                       -0.220797        \n",
       "États-Unis d'Amérique                                           2.252133        \n",
       "Îles Salomon                                                   -1.231183        \n",
       "\n",
       "                       Exportations - Quantité  Importations - Quantité  \\\n",
       "Zone                                                                      \n",
       "Afrique du Sud                       -0.136597                 1.990769   \n",
       "Albanie                              -0.259247                -0.341778   \n",
       "Algérie                              -0.259247                -0.518189   \n",
       "Allemagne                             0.998398                 3.598070   \n",
       "Angola                               -0.259247                 0.829395   \n",
       "...                                        ...                      ...   \n",
       "Égypte                               -0.257300                 0.011044   \n",
       "Émirats arabes unis                  -0.076246                 1.593844   \n",
       "Équateur                             -0.259247                -0.527990   \n",
       "États-Unis d'Amérique                 6.928408                 0.074748   \n",
       "Îles Salomon                         -0.259247                -0.498588   \n",
       "\n",
       "                       Production  Variation de stock  Population       PC1  \\\n",
       "Zone                                                                          \n",
       "Afrique du Sud           0.280981           -0.199216    0.042476  0.789773   \n",
       "Albanie                 -0.317074           -0.151632   -0.273115 -0.645985   \n",
       "Algérie                 -0.222340           -0.199216   -0.048604 -0.680452   \n",
       "Allemagne                0.225659           -0.544205    0.192025  1.589711   \n",
       "Angola                  -0.306589           -0.199216   -0.116079 -0.364385   \n",
       "...                           ...                 ...         ...       ...   \n",
       "Égypte                   0.082473           -0.472828    0.272397 -0.149123   \n",
       "Émirats arabes unis     -0.304419           -0.508517   -0.234615  0.315902   \n",
       "Équateur                -0.198837           -0.211113   -0.192061 -0.547359   \n",
       "États-Unis d'Amérique    7.601918            0.752477    1.605543  9.892853   \n",
       "Îles Salomon            -0.321775           -0.163528   -0.286223 -0.862306   \n",
       "\n",
       "                            PC2       PC3  \n",
       "Zone                                       \n",
       "Afrique du Sud         1.190863  0.107708  \n",
       "Albanie               -0.277406  0.062608  \n",
       "Algérie               -0.766670  0.532526  \n",
       "Allemagne              1.326158  1.057439  \n",
       "Angola                 0.080980  0.809838  \n",
       "...                         ...       ...  \n",
       "Égypte                -0.667389  0.452677  \n",
       "Émirats arabes unis    1.197121 -0.642061  \n",
       "Équateur              -0.384152 -0.131528  \n",
       "États-Unis d'Amérique -0.424692 -2.586008  \n",
       "Îles Salomon          -0.674175  0.542510  \n",
       "\n",
       "[134 rows x 9 columns]"
      ]
     },
     "execution_count": 380,
     "metadata": {},
     "output_type": "execute_result"
    }
   ],
   "source": [
    "df_T_chicken['PC3']=PC[:,2]\n",
    "df_T_chicken"
   ]
  },
  {
   "cell_type": "markdown",
   "id": "dc5a6353",
   "metadata": {},
   "source": [
    "#### Display on PC1 and PC2"
   ]
  },
  {
   "cell_type": "code",
   "execution_count": 381,
   "id": "020b7ed4",
   "metadata": {
    "scrolled": false
   },
   "outputs": [
    {
     "data": {
      "image/png": "[encoded data removed]",
      "text/plain": [
       "<Figure size 720x504 with 1 Axes>"
      ]
     },
     "metadata": {
      "needs_background": "light"
     },
     "output_type": "display_data"
    }
   ],
   "source": [
    "plt.figure(figsize=(10,7))\n",
    "sns.scatterplot(x=\"PC1\",\n",
    "                    y=\"PC2\",\n",
    "                    data=df_T_chicken,hue=\"Disponibilité alimentaire en quantité (kg/personne/an)\",palette=\"coolwarm\")\n",
    "plt.title(\"Countries on PC1 and PC2\")\n",
    "plt.show()"
   ]
  },
  {
   "cell_type": "markdown",
   "id": "e4ecc7f9",
   "metadata": {},
   "source": [
    "Let's diplay the same graph with the name of the outliers"
   ]
  },
  {
   "cell_type": "code",
   "execution_count": 383,
   "id": "96c77960",
   "metadata": {},
   "outputs": [
    {
     "data": {
      "image/png": "[encoded data removed]",
      "text/plain": [
       "<Figure size 720x504 with 1 Axes>"
      ]
     },
     "metadata": {
      "needs_background": "light"
     },
     "output_type": "display_data"
    }
   ],
   "source": [
    "plt.figure(figsize=(10,7))\n",
    "sns.scatterplot(x=\"PC1\",\n",
    "                    y=\"PC2\",\n",
    "                    data=df_T_chicken,hue=\"Disponibilité alimentaire en quantité (kg/personne/an)\",palette=\"coolwarm\")\n",
    "outliers=df_T_chicken[df_T_chicken.PC1>2]\n",
    "for name,row in outliers.iterrows():\n",
    "    plt.text(x=row.PC1+0.07,y=row.PC2,s=name)\n",
    "plt.title(\"Countries on PC1 and PC2\")\n",
    "plt.show()"
   ]
  },
  {
   "cell_type": "markdown",
   "id": "e2fc7e52",
   "metadata": {},
   "source": [
    "### As those countries are outliers with high production, I decide to remove them"
   ]
  },
  {
   "cell_type": "code",
   "execution_count": 385,
   "id": "d8dd2afe",
   "metadata": {},
   "outputs": [],
   "source": [
    "countries_to_remove=['Inde','Chine, continentale',\"États-Unis d'Amérique\",\"Japon\",\"Brésil\"]\n",
    "df_T_chicken = df_T_chicken.drop(countries_to_remove)"
   ]
  },
  {
   "cell_type": "code",
   "execution_count": 386,
   "id": "367da423",
   "metadata": {},
   "outputs": [
    {
     "data": {
      "text/plain": [
       "<AxesSubplot:xlabel='PC1', ylabel='PC2'>"
      ]
     },
     "execution_count": 386,
     "metadata": {},
     "output_type": "execute_result"
    },
    {
     "data": {
      "image/png": "[encoded data removed]",
      "text/plain": [
       "<Figure size 720x504 with 1 Axes>"
      ]
     },
     "metadata": {
      "needs_background": "light"
     },
     "output_type": "display_data"
    }
   ],
   "source": [
    "plt.figure(figsize=(10,7))\n",
    "sns.scatterplot(x=\"PC1\",\n",
    "                    y=\"PC2\",\n",
    "                    data=df_T_chicken,hue=\"Disponibilité alimentaire en quantité (kg/personne/an)\",palette=\"coolwarm\")"
   ]
  },
  {
   "cell_type": "markdown",
   "id": "ea47f7de",
   "metadata": {},
   "source": [
    " #### On PC1 and PC3"
   ]
  },
  {
   "cell_type": "code",
   "execution_count": 387,
   "id": "afb84082",
   "metadata": {
    "scrolled": false
   },
   "outputs": [
    {
     "data": {
      "image/png": "[encoded data removed]",
      "text/plain": [
       "<Figure size 1008x720 with 1 Axes>"
      ]
     },
     "metadata": {
      "needs_background": "light"
     },
     "output_type": "display_data"
    }
   ],
   "source": [
    "plt.figure(figsize=(14,10))\n",
    "sns.scatterplot(x=\"PC1\",\n",
    "                    y=\"PC3\",\n",
    "                    data=df_T_chicken,hue=\"Disponibilité alimentaire en quantité (kg/personne/an)\",palette=\"coolwarm\")\n",
    "plt.title(\"Countries on PC1 and PC3\")\n",
    "plt.show()"
   ]
  },
  {
   "cell_type": "markdown",
   "id": "10b83750",
   "metadata": {},
   "source": [
    "## Interprétation"
   ]
  },
  {
   "cell_type": "markdown",
   "id": "543c931a",
   "metadata": {},
   "source": [
    "## As we saw on the circles of correlations, on the first graph, we'll target the countries on the lower left part on the PC1PC2 graph the ones on upper left part on the PC1PC3 graph"
   ]
  },
  {
   "cell_type": "markdown",
   "id": "9ce25e86",
   "metadata": {},
   "source": [
    "##### Let' s identify the countries with kmeans methods"
   ]
  },
  {
   "cell_type": "markdown",
   "id": "d1bd4b86",
   "metadata": {},
   "source": [
    "## Kmeans with PC1 and PC2"
   ]
  },
  {
   "cell_type": "markdown",
   "id": "d769cfd5",
   "metadata": {},
   "source": [
    "#### Elbow method to find the number of clusters"
   ]
  },
  {
   "cell_type": "code",
   "execution_count": 388,
   "id": "174d2473",
   "metadata": {},
   "outputs": [],
   "source": [
    "def inertia_per_group(data,max_k):\n",
    "    inertie=[]\n",
    "    k_list=range(1,max_k)\n",
    "    for k in k_list:\n",
    "        kmean=KMeans(n_clusters=k) #instanciation of kmean object\n",
    "        kmean.fit(data) #fit the datas\n",
    "        inertie.append(kmean.inertia_) #add of the intertia (sum of squares within clusters )\n",
    "    \n",
    "    #Affichage\n",
    "    plt.figure(figsize=(10,5))\n",
    "    plt.plot(k_list,inertie)\n",
    "    plt.xlabel(\"Number of gropus\")\n",
    "    plt.ylabel(\"Total Sum of square within groups\")\n",
    "    plt.title(\"Inertia per number of group\")\n",
    "    plt.show()\n",
    "    "
   ]
  },
  {
   "cell_type": "code",
   "execution_count": 389,
   "id": "cfc3ed98",
   "metadata": {},
   "outputs": [
    {
     "name": "stderr",
     "output_type": "stream",
     "text": [
      "C:\\Users\\phild\\anaconda3\\lib\\site-packages\\sklearn\\cluster\\_kmeans.py:881: UserWarning: KMeans is known to have a memory leak on Windows with MKL, when there are less chunks than available threads. You can avoid it by setting the environment variable OMP_NUM_THREADS=1.\n",
      "  warnings.warn(\n"
     ]
    },
    {
     "data": {
      "image/png": "[encoded data removed]",
      "text/plain": [
       "<Figure size 720x360 with 1 Axes>"
      ]
     },
     "metadata": {
      "needs_background": "light"
     },
     "output_type": "display_data"
    }
   ],
   "source": [
    "inertia_per_group(df_T_chicken[['PC1','PC2']],10)"
   ]
  },
  {
   "cell_type": "markdown",
   "id": "0820ab1c",
   "metadata": {},
   "source": [
    "#### There is an elbow at 2 groups but the inertia is too high. I decide to go for 6 groups to restrain the number of target countries"
   ]
  },
  {
   "cell_type": "markdown",
   "id": "ca16fc26",
   "metadata": {},
   "source": [
    "#### Instanciation of kmean object for 6 clusters\n"
   ]
  },
  {
   "cell_type": "code",
   "execution_count": 390,
   "id": "0ced8d0f",
   "metadata": {},
   "outputs": [
    {
     "data": {
      "text/plain": [
       "KMeans(n_clusters=6)"
      ]
     },
     "execution_count": 390,
     "metadata": {},
     "output_type": "execute_result"
    }
   ],
   "source": [
    "kmean=KMeans(n_clusters=6)\n",
    "kmean.fit(df_T_chicken[['PC1','PC2']]) "
   ]
  },
  {
   "cell_type": "markdown",
   "id": "6182e7af",
   "metadata": {},
   "source": [
    "#### adding a column with the group numbers"
   ]
  },
  {
   "cell_type": "code",
   "execution_count": 391,
   "id": "7f3d7ea2",
   "metadata": {},
   "outputs": [
    {
     "data": {
      "text/html": [
       "<div>\n",
       "<style scoped>\n",
       "    .dataframe tbody tr th:only-of-type {\n",
       "        vertical-align: middle;\n",
       "    }\n",
       "\n",
       "    .dataframe tbody tr th {\n",
       "        vertical-align: top;\n",
       "    }\n",
       "\n",
       "    .dataframe thead th {\n",
       "        text-align: right;\n",
       "    }\n",
       "</style>\n",
       "<table border=\"1\" class=\"dataframe\">\n",
       "  <thead>\n",
       "    <tr style=\"text-align: right;\">\n",
       "      <th></th>\n",
       "      <th>Disponibilité alimentaire en quantité (kg/personne/an)</th>\n",
       "      <th>Exportations - Quantité</th>\n",
       "      <th>Importations - Quantité</th>\n",
       "      <th>Production</th>\n",
       "      <th>Variation de stock</th>\n",
       "      <th>Population</th>\n",
       "      <th>PC1</th>\n",
       "      <th>PC2</th>\n",
       "      <th>PC3</th>\n",
       "      <th>g_kmeans</th>\n",
       "    </tr>\n",
       "    <tr>\n",
       "      <th>Zone</th>\n",
       "      <th></th>\n",
       "      <th></th>\n",
       "      <th></th>\n",
       "      <th></th>\n",
       "      <th></th>\n",
       "      <th></th>\n",
       "      <th></th>\n",
       "      <th></th>\n",
       "      <th></th>\n",
       "      <th></th>\n",
       "    </tr>\n",
       "  </thead>\n",
       "  <tbody>\n",
       "    <tr>\n",
       "      <th>Afrique du Sud</th>\n",
       "      <td>0.892940</td>\n",
       "      <td>-0.136597</td>\n",
       "      <td>1.990769</td>\n",
       "      <td>0.280981</td>\n",
       "      <td>-0.199216</td>\n",
       "      <td>0.042476</td>\n",
       "      <td>0.789773</td>\n",
       "      <td>1.190863</td>\n",
       "      <td>0.107708</td>\n",
       "      <td>4</td>\n",
       "    </tr>\n",
       "    <tr>\n",
       "      <th>Albanie</th>\n",
       "      <td>-0.421378</td>\n",
       "      <td>-0.259247</td>\n",
       "      <td>-0.341778</td>\n",
       "      <td>-0.317074</td>\n",
       "      <td>-0.151632</td>\n",
       "      <td>-0.273115</td>\n",
       "      <td>-0.645985</td>\n",
       "      <td>-0.277406</td>\n",
       "      <td>0.062608</td>\n",
       "      <td>1</td>\n",
       "    </tr>\n",
       "    <tr>\n",
       "      <th>Algérie</th>\n",
       "      <td>-1.099955</td>\n",
       "      <td>-0.259247</td>\n",
       "      <td>-0.518189</td>\n",
       "      <td>-0.222340</td>\n",
       "      <td>-0.199216</td>\n",
       "      <td>-0.048604</td>\n",
       "      <td>-0.680452</td>\n",
       "      <td>-0.766670</td>\n",
       "      <td>0.532526</td>\n",
       "      <td>1</td>\n",
       "    </tr>\n",
       "    <tr>\n",
       "      <th>Allemagne</th>\n",
       "      <td>-0.209918</td>\n",
       "      <td>0.998398</td>\n",
       "      <td>3.598070</td>\n",
       "      <td>0.225659</td>\n",
       "      <td>-0.544205</td>\n",
       "      <td>0.192025</td>\n",
       "      <td>1.589711</td>\n",
       "      <td>1.326158</td>\n",
       "      <td>1.057439</td>\n",
       "      <td>5</td>\n",
       "    </tr>\n",
       "    <tr>\n",
       "      <th>Angola</th>\n",
       "      <td>-0.815741</td>\n",
       "      <td>-0.259247</td>\n",
       "      <td>0.829395</td>\n",
       "      <td>-0.306589</td>\n",
       "      <td>-0.199216</td>\n",
       "      <td>-0.116079</td>\n",
       "      <td>-0.364385</td>\n",
       "      <td>0.080980</td>\n",
       "      <td>0.809838</td>\n",
       "      <td>6</td>\n",
       "    </tr>\n",
       "    <tr>\n",
       "      <th>...</th>\n",
       "      <td>...</td>\n",
       "      <td>...</td>\n",
       "      <td>...</td>\n",
       "      <td>...</td>\n",
       "      <td>...</td>\n",
       "      <td>...</td>\n",
       "      <td>...</td>\n",
       "      <td>...</td>\n",
       "      <td>...</td>\n",
       "      <td>...</td>\n",
       "    </tr>\n",
       "    <tr>\n",
       "      <th>Zambie</th>\n",
       "      <td>-1.301216</td>\n",
       "      <td>-0.257300</td>\n",
       "      <td>-0.469186</td>\n",
       "      <td>-0.304057</td>\n",
       "      <td>-0.199216</td>\n",
       "      <td>-0.191663</td>\n",
       "      <td>-0.820585</td>\n",
       "      <td>-0.749331</td>\n",
       "      <td>0.626484</td>\n",
       "      <td>1</td>\n",
       "    </tr>\n",
       "    <tr>\n",
       "      <th>Égypte</th>\n",
       "      <td>-0.652557</td>\n",
       "      <td>-0.257300</td>\n",
       "      <td>0.011044</td>\n",
       "      <td>0.082473</td>\n",
       "      <td>-0.472828</td>\n",
       "      <td>0.272397</td>\n",
       "      <td>-0.149123</td>\n",
       "      <td>-0.667389</td>\n",
       "      <td>0.452677</td>\n",
       "      <td>3</td>\n",
       "    </tr>\n",
       "    <tr>\n",
       "      <th>Émirats arabes unis</th>\n",
       "      <td>1.421930</td>\n",
       "      <td>-0.076246</td>\n",
       "      <td>1.593844</td>\n",
       "      <td>-0.304419</td>\n",
       "      <td>-0.508517</td>\n",
       "      <td>-0.234615</td>\n",
       "      <td>0.315902</td>\n",
       "      <td>1.197121</td>\n",
       "      <td>-0.642061</td>\n",
       "      <td>4</td>\n",
       "    </tr>\n",
       "    <tr>\n",
       "      <th>Équateur</th>\n",
       "      <td>-0.220797</td>\n",
       "      <td>-0.259247</td>\n",
       "      <td>-0.527990</td>\n",
       "      <td>-0.198837</td>\n",
       "      <td>-0.211113</td>\n",
       "      <td>-0.192061</td>\n",
       "      <td>-0.547359</td>\n",
       "      <td>-0.384152</td>\n",
       "      <td>-0.131528</td>\n",
       "      <td>1</td>\n",
       "    </tr>\n",
       "    <tr>\n",
       "      <th>Îles Salomon</th>\n",
       "      <td>-1.231183</td>\n",
       "      <td>-0.259247</td>\n",
       "      <td>-0.498588</td>\n",
       "      <td>-0.321775</td>\n",
       "      <td>-0.163528</td>\n",
       "      <td>-0.286223</td>\n",
       "      <td>-0.862306</td>\n",
       "      <td>-0.674175</td>\n",
       "      <td>0.542510</td>\n",
       "      <td>1</td>\n",
       "    </tr>\n",
       "  </tbody>\n",
       "</table>\n",
       "<p>129 rows × 10 columns</p>\n",
       "</div>"
      ],
      "text/plain": [
       "                     Disponibilité alimentaire en quantité (kg/personne/an)  \\\n",
       "Zone                                                                          \n",
       "Afrique du Sud                                                0.892940        \n",
       "Albanie                                                      -0.421378        \n",
       "Algérie                                                      -1.099955        \n",
       "Allemagne                                                    -0.209918        \n",
       "Angola                                                       -0.815741        \n",
       "...                                                                ...        \n",
       "Zambie                                                       -1.301216        \n",
       "Égypte                                                       -0.652557        \n",
       "Émirats arabes unis                                           1.421930        \n",
       "Équateur                                                     -0.220797        \n",
       "Îles Salomon                                                 -1.231183        \n",
       "\n",
       "                     Exportations - Quantité  Importations - Quantité  \\\n",
       "Zone                                                                    \n",
       "Afrique du Sud                     -0.136597                 1.990769   \n",
       "Albanie                            -0.259247                -0.341778   \n",
       "Algérie                            -0.259247                -0.518189   \n",
       "Allemagne                           0.998398                 3.598070   \n",
       "Angola                             -0.259247                 0.829395   \n",
       "...                                      ...                      ...   \n",
       "Zambie                             -0.257300                -0.469186   \n",
       "Égypte                             -0.257300                 0.011044   \n",
       "Émirats arabes unis                -0.076246                 1.593844   \n",
       "Équateur                           -0.259247                -0.527990   \n",
       "Îles Salomon                       -0.259247                -0.498588   \n",
       "\n",
       "                     Production  Variation de stock  Population       PC1  \\\n",
       "Zone                                                                        \n",
       "Afrique du Sud         0.280981           -0.199216    0.042476  0.789773   \n",
       "Albanie               -0.317074           -0.151632   -0.273115 -0.645985   \n",
       "Algérie               -0.222340           -0.199216   -0.048604 -0.680452   \n",
       "Allemagne              0.225659           -0.544205    0.192025  1.589711   \n",
       "Angola                -0.306589           -0.199216   -0.116079 -0.364385   \n",
       "...                         ...                 ...         ...       ...   \n",
       "Zambie                -0.304057           -0.199216   -0.191663 -0.820585   \n",
       "Égypte                 0.082473           -0.472828    0.272397 -0.149123   \n",
       "Émirats arabes unis   -0.304419           -0.508517   -0.234615  0.315902   \n",
       "Équateur              -0.198837           -0.211113   -0.192061 -0.547359   \n",
       "Îles Salomon          -0.321775           -0.163528   -0.286223 -0.862306   \n",
       "\n",
       "                          PC2       PC3  g_kmeans  \n",
       "Zone                                               \n",
       "Afrique du Sud       1.190863  0.107708         4  \n",
       "Albanie             -0.277406  0.062608         1  \n",
       "Algérie             -0.766670  0.532526         1  \n",
       "Allemagne            1.326158  1.057439         5  \n",
       "Angola               0.080980  0.809838         6  \n",
       "...                       ...       ...       ...  \n",
       "Zambie              -0.749331  0.626484         1  \n",
       "Égypte              -0.667389  0.452677         3  \n",
       "Émirats arabes unis  1.197121 -0.642061         4  \n",
       "Équateur            -0.384152 -0.131528         1  \n",
       "Îles Salomon        -0.674175  0.542510         1  \n",
       "\n",
       "[129 rows x 10 columns]"
      ]
     },
     "execution_count": 391,
     "metadata": {},
     "output_type": "execute_result"
    }
   ],
   "source": [
    "groups=kmean.labels_+1\n",
    "df_T_chicken['g_kmeans']=groups\n",
    "df_T_chicken"
   ]
  },
  {
   "cell_type": "markdown",
   "id": "efbb7f6f",
   "metadata": {},
   "source": [
    "#### Plot"
   ]
  },
  {
   "cell_type": "code",
   "execution_count": 396,
   "id": "8354b52b",
   "metadata": {},
   "outputs": [
    {
     "data": {
      "text/plain": [
       "Text(0.5, 1.0, 'Countries  ')"
      ]
     },
     "execution_count": 396,
     "metadata": {},
     "output_type": "execute_result"
    },
    {
     "data": {
      "image/png": "[encoded data removed]",
      "text/plain": [
       "<Figure size 720x504 with 1 Axes>"
      ]
     },
     "metadata": {
      "needs_background": "light"
     },
     "output_type": "display_data"
    }
   ],
   "source": [
    "plt.figure(figsize=(10,7))\n",
    "sns.scatterplot(x=\"PC1\",\n",
    "                    y=\"PC2\",\n",
    "                    data=df_T_chicken,hue=\"g_kmeans\",palette=\"coolwarm\")\n",
    "plt.title(\"Countries  \")"
   ]
  },
  {
   "cell_type": "markdown",
   "id": "fa388b03",
   "metadata": {},
   "source": [
    "## As we saw on the circle of correlation, the countries that would be targeted would be the one in bottom left corner which would be then the ones of the group 1."
   ]
  },
  {
   "cell_type": "markdown",
   "id": "0d9cd084",
   "metadata": {},
   "source": [
    "## Kmeans PC1 and PC3"
   ]
  },
  {
   "cell_type": "code",
   "execution_count": 393,
   "id": "c12ca74e",
   "metadata": {},
   "outputs": [
    {
     "name": "stderr",
     "output_type": "stream",
     "text": [
      "C:\\Users\\phild\\anaconda3\\lib\\site-packages\\sklearn\\cluster\\_kmeans.py:881: UserWarning: KMeans is known to have a memory leak on Windows with MKL, when there are less chunks than available threads. You can avoid it by setting the environment variable OMP_NUM_THREADS=1.\n",
      "  warnings.warn(\n"
     ]
    },
    {
     "data": {
      "image/png": "[encoded data removed]",
      "text/plain": [
       "<Figure size 720x360 with 1 Axes>"
      ]
     },
     "metadata": {
      "needs_background": "light"
     },
     "output_type": "display_data"
    }
   ],
   "source": [
    "inertia_per_group(df_T_chicken[['PC1','PC3']],10)"
   ]
  },
  {
   "cell_type": "markdown",
   "id": "5319d946",
   "metadata": {},
   "source": [
    "As for the the first Kmean, I choose 6 groups"
   ]
  },
  {
   "cell_type": "markdown",
   "id": "0cb487fd",
   "metadata": {},
   "source": [
    "### Creating the groups and adding them to the dataframe"
   ]
  },
  {
   "cell_type": "code",
   "execution_count": 394,
   "id": "c30e666f",
   "metadata": {},
   "outputs": [
    {
     "data": {
      "text/html": [
       "<div>\n",
       "<style scoped>\n",
       "    .dataframe tbody tr th:only-of-type {\n",
       "        vertical-align: middle;\n",
       "    }\n",
       "\n",
       "    .dataframe tbody tr th {\n",
       "        vertical-align: top;\n",
       "    }\n",
       "\n",
       "    .dataframe thead th {\n",
       "        text-align: right;\n",
       "    }\n",
       "</style>\n",
       "<table border=\"1\" class=\"dataframe\">\n",
       "  <thead>\n",
       "    <tr style=\"text-align: right;\">\n",
       "      <th></th>\n",
       "      <th>Disponibilité alimentaire en quantité (kg/personne/an)</th>\n",
       "      <th>Exportations - Quantité</th>\n",
       "      <th>Importations - Quantité</th>\n",
       "      <th>Production</th>\n",
       "      <th>Variation de stock</th>\n",
       "      <th>Population</th>\n",
       "      <th>PC1</th>\n",
       "      <th>PC2</th>\n",
       "      <th>PC3</th>\n",
       "      <th>g_kmeans</th>\n",
       "      <th>g_PC3_kmeans</th>\n",
       "    </tr>\n",
       "    <tr>\n",
       "      <th>Zone</th>\n",
       "      <th></th>\n",
       "      <th></th>\n",
       "      <th></th>\n",
       "      <th></th>\n",
       "      <th></th>\n",
       "      <th></th>\n",
       "      <th></th>\n",
       "      <th></th>\n",
       "      <th></th>\n",
       "      <th></th>\n",
       "      <th></th>\n",
       "    </tr>\n",
       "  </thead>\n",
       "  <tbody>\n",
       "    <tr>\n",
       "      <th>Afrique du Sud</th>\n",
       "      <td>0.892940</td>\n",
       "      <td>-0.136597</td>\n",
       "      <td>1.990769</td>\n",
       "      <td>0.280981</td>\n",
       "      <td>-0.199216</td>\n",
       "      <td>0.042476</td>\n",
       "      <td>0.789773</td>\n",
       "      <td>1.190863</td>\n",
       "      <td>0.107708</td>\n",
       "      <td>4</td>\n",
       "      <td>6</td>\n",
       "    </tr>\n",
       "    <tr>\n",
       "      <th>Albanie</th>\n",
       "      <td>-0.421378</td>\n",
       "      <td>-0.259247</td>\n",
       "      <td>-0.341778</td>\n",
       "      <td>-0.317074</td>\n",
       "      <td>-0.151632</td>\n",
       "      <td>-0.273115</td>\n",
       "      <td>-0.645985</td>\n",
       "      <td>-0.277406</td>\n",
       "      <td>0.062608</td>\n",
       "      <td>1</td>\n",
       "      <td>1</td>\n",
       "    </tr>\n",
       "    <tr>\n",
       "      <th>Algérie</th>\n",
       "      <td>-1.099955</td>\n",
       "      <td>-0.259247</td>\n",
       "      <td>-0.518189</td>\n",
       "      <td>-0.222340</td>\n",
       "      <td>-0.199216</td>\n",
       "      <td>-0.048604</td>\n",
       "      <td>-0.680452</td>\n",
       "      <td>-0.766670</td>\n",
       "      <td>0.532526</td>\n",
       "      <td>1</td>\n",
       "      <td>5</td>\n",
       "    </tr>\n",
       "    <tr>\n",
       "      <th>Allemagne</th>\n",
       "      <td>-0.209918</td>\n",
       "      <td>0.998398</td>\n",
       "      <td>3.598070</td>\n",
       "      <td>0.225659</td>\n",
       "      <td>-0.544205</td>\n",
       "      <td>0.192025</td>\n",
       "      <td>1.589711</td>\n",
       "      <td>1.326158</td>\n",
       "      <td>1.057439</td>\n",
       "      <td>5</td>\n",
       "      <td>3</td>\n",
       "    </tr>\n",
       "    <tr>\n",
       "      <th>Angola</th>\n",
       "      <td>-0.815741</td>\n",
       "      <td>-0.259247</td>\n",
       "      <td>0.829395</td>\n",
       "      <td>-0.306589</td>\n",
       "      <td>-0.199216</td>\n",
       "      <td>-0.116079</td>\n",
       "      <td>-0.364385</td>\n",
       "      <td>0.080980</td>\n",
       "      <td>0.809838</td>\n",
       "      <td>6</td>\n",
       "      <td>2</td>\n",
       "    </tr>\n",
       "    <tr>\n",
       "      <th>...</th>\n",
       "      <td>...</td>\n",
       "      <td>...</td>\n",
       "      <td>...</td>\n",
       "      <td>...</td>\n",
       "      <td>...</td>\n",
       "      <td>...</td>\n",
       "      <td>...</td>\n",
       "      <td>...</td>\n",
       "      <td>...</td>\n",
       "      <td>...</td>\n",
       "      <td>...</td>\n",
       "    </tr>\n",
       "    <tr>\n",
       "      <th>Zambie</th>\n",
       "      <td>-1.301216</td>\n",
       "      <td>-0.257300</td>\n",
       "      <td>-0.469186</td>\n",
       "      <td>-0.304057</td>\n",
       "      <td>-0.199216</td>\n",
       "      <td>-0.191663</td>\n",
       "      <td>-0.820585</td>\n",
       "      <td>-0.749331</td>\n",
       "      <td>0.626484</td>\n",
       "      <td>1</td>\n",
       "      <td>5</td>\n",
       "    </tr>\n",
       "    <tr>\n",
       "      <th>Égypte</th>\n",
       "      <td>-0.652557</td>\n",
       "      <td>-0.257300</td>\n",
       "      <td>0.011044</td>\n",
       "      <td>0.082473</td>\n",
       "      <td>-0.472828</td>\n",
       "      <td>0.272397</td>\n",
       "      <td>-0.149123</td>\n",
       "      <td>-0.667389</td>\n",
       "      <td>0.452677</td>\n",
       "      <td>3</td>\n",
       "      <td>2</td>\n",
       "    </tr>\n",
       "    <tr>\n",
       "      <th>Émirats arabes unis</th>\n",
       "      <td>1.421930</td>\n",
       "      <td>-0.076246</td>\n",
       "      <td>1.593844</td>\n",
       "      <td>-0.304419</td>\n",
       "      <td>-0.508517</td>\n",
       "      <td>-0.234615</td>\n",
       "      <td>0.315902</td>\n",
       "      <td>1.197121</td>\n",
       "      <td>-0.642061</td>\n",
       "      <td>4</td>\n",
       "      <td>6</td>\n",
       "    </tr>\n",
       "    <tr>\n",
       "      <th>Équateur</th>\n",
       "      <td>-0.220797</td>\n",
       "      <td>-0.259247</td>\n",
       "      <td>-0.527990</td>\n",
       "      <td>-0.198837</td>\n",
       "      <td>-0.211113</td>\n",
       "      <td>-0.192061</td>\n",
       "      <td>-0.547359</td>\n",
       "      <td>-0.384152</td>\n",
       "      <td>-0.131528</td>\n",
       "      <td>1</td>\n",
       "      <td>1</td>\n",
       "    </tr>\n",
       "    <tr>\n",
       "      <th>Îles Salomon</th>\n",
       "      <td>-1.231183</td>\n",
       "      <td>-0.259247</td>\n",
       "      <td>-0.498588</td>\n",
       "      <td>-0.321775</td>\n",
       "      <td>-0.163528</td>\n",
       "      <td>-0.286223</td>\n",
       "      <td>-0.862306</td>\n",
       "      <td>-0.674175</td>\n",
       "      <td>0.542510</td>\n",
       "      <td>1</td>\n",
       "      <td>5</td>\n",
       "    </tr>\n",
       "  </tbody>\n",
       "</table>\n",
       "<p>129 rows × 11 columns</p>\n",
       "</div>"
      ],
      "text/plain": [
       "                     Disponibilité alimentaire en quantité (kg/personne/an)  \\\n",
       "Zone                                                                          \n",
       "Afrique du Sud                                                0.892940        \n",
       "Albanie                                                      -0.421378        \n",
       "Algérie                                                      -1.099955        \n",
       "Allemagne                                                    -0.209918        \n",
       "Angola                                                       -0.815741        \n",
       "...                                                                ...        \n",
       "Zambie                                                       -1.301216        \n",
       "Égypte                                                       -0.652557        \n",
       "Émirats arabes unis                                           1.421930        \n",
       "Équateur                                                     -0.220797        \n",
       "Îles Salomon                                                 -1.231183        \n",
       "\n",
       "                     Exportations - Quantité  Importations - Quantité  \\\n",
       "Zone                                                                    \n",
       "Afrique du Sud                     -0.136597                 1.990769   \n",
       "Albanie                            -0.259247                -0.341778   \n",
       "Algérie                            -0.259247                -0.518189   \n",
       "Allemagne                           0.998398                 3.598070   \n",
       "Angola                             -0.259247                 0.829395   \n",
       "...                                      ...                      ...   \n",
       "Zambie                             -0.257300                -0.469186   \n",
       "Égypte                             -0.257300                 0.011044   \n",
       "Émirats arabes unis                -0.076246                 1.593844   \n",
       "Équateur                           -0.259247                -0.527990   \n",
       "Îles Salomon                       -0.259247                -0.498588   \n",
       "\n",
       "                     Production  Variation de stock  Population       PC1  \\\n",
       "Zone                                                                        \n",
       "Afrique du Sud         0.280981           -0.199216    0.042476  0.789773   \n",
       "Albanie               -0.317074           -0.151632   -0.273115 -0.645985   \n",
       "Algérie               -0.222340           -0.199216   -0.048604 -0.680452   \n",
       "Allemagne              0.225659           -0.544205    0.192025  1.589711   \n",
       "Angola                -0.306589           -0.199216   -0.116079 -0.364385   \n",
       "...                         ...                 ...         ...       ...   \n",
       "Zambie                -0.304057           -0.199216   -0.191663 -0.820585   \n",
       "Égypte                 0.082473           -0.472828    0.272397 -0.149123   \n",
       "Émirats arabes unis   -0.304419           -0.508517   -0.234615  0.315902   \n",
       "Équateur              -0.198837           -0.211113   -0.192061 -0.547359   \n",
       "Îles Salomon          -0.321775           -0.163528   -0.286223 -0.862306   \n",
       "\n",
       "                          PC2       PC3  g_kmeans  g_PC3_kmeans  \n",
       "Zone                                                             \n",
       "Afrique du Sud       1.190863  0.107708         4             6  \n",
       "Albanie             -0.277406  0.062608         1             1  \n",
       "Algérie             -0.766670  0.532526         1             5  \n",
       "Allemagne            1.326158  1.057439         5             3  \n",
       "Angola               0.080980  0.809838         6             2  \n",
       "...                       ...       ...       ...           ...  \n",
       "Zambie              -0.749331  0.626484         1             5  \n",
       "Égypte              -0.667389  0.452677         3             2  \n",
       "Émirats arabes unis  1.197121 -0.642061         4             6  \n",
       "Équateur            -0.384152 -0.131528         1             1  \n",
       "Îles Salomon        -0.674175  0.542510         1             5  \n",
       "\n",
       "[129 rows x 11 columns]"
      ]
     },
     "execution_count": 394,
     "metadata": {},
     "output_type": "execute_result"
    }
   ],
   "source": [
    "kmean=KMeans(n_clusters=6)\n",
    "kmean.fit(df_T_chicken[['PC1','PC3']]) \n",
    "groups_bis=kmean.labels_+1\n",
    "df_T_chicken['g_PC3_kmeans']=groups_bis\n",
    "df_T_chicken"
   ]
  },
  {
   "cell_type": "markdown",
   "id": "5c2db60e",
   "metadata": {},
   "source": [
    "### Plot"
   ]
  },
  {
   "cell_type": "code",
   "execution_count": 397,
   "id": "b0a585c4",
   "metadata": {},
   "outputs": [
    {
     "data": {
      "text/plain": [
       "Text(0.5, 1.0, 'Countries  ')"
      ]
     },
     "execution_count": 397,
     "metadata": {},
     "output_type": "execute_result"
    },
    {
     "data": {
      "image/png": "[encoded data removed]",
      "text/plain": [
       "<Figure size 720x504 with 1 Axes>"
      ]
     },
     "metadata": {
      "needs_background": "light"
     },
     "output_type": "display_data"
    }
   ],
   "source": [
    "plt.figure(figsize=(10,7))\n",
    "sns.scatterplot(x=\"PC1\",\n",
    "                    y=\"PC3\",\n",
    "                    data=df_T_chicken,hue=\"g_PC3_kmeans\",palette=\"icefire\")\n",
    "plt.title(\"Countries  \")"
   ]
  },
  {
   "cell_type": "markdown",
   "id": "55505cdd",
   "metadata": {},
   "source": [
    "## Here as we saw on the second circle of correlation, on this graph it would be the countries on the upper left it, therfore the countries of the group 5 "
   ]
  },
  {
   "cell_type": "markdown",
   "id": "157c61e5",
   "metadata": {},
   "source": [
    "# Conclusion and list of target countries for exporting chicken "
   ]
  },
  {
   "cell_type": "markdown",
   "id": "9d3b4900",
   "metadata": {},
   "source": [
    "## After performing the PCA and analysing the weights of each variables for each principal components, I have selected the variables \"Production\", \"Disponibilité alimentaire en quantité (kg/personne/an)\" and \"Population\" to identify areas on PC1PC2 and PC1PC3 graphs. As the goal is to find interesting countries for exporting, the ones with low production, low food availibility (disponibilité alimentaire) and the highest populations are the ones targeted. The kmean method was used to then find (on the graphs) the groups that corresponds to those criteria.   \n",
    "## Below the list of the countries selected:"
   ]
  },
  {
   "cell_type": "code",
   "execution_count": 399,
   "id": "16f2c33f",
   "metadata": {},
   "outputs": [
    {
     "data": {
      "text/plain": [
       "Index(['Albanie', 'Algérie', 'Arménie', 'Azerbaïdjan', 'Bosnie-Herzégovine',\n",
       "       'Botswana', 'Bénin', 'Cameroun', 'Croatie', 'Côte d'Ivoire', 'Eswatini',\n",
       "       'Ghana', 'Géorgie', 'Kazakhstan', 'Kenya', 'Kirghizistan', 'Lesotho',\n",
       "       'Liban', 'Libéria', 'Luxembourg', 'Monténégro', 'Namibie', 'Niger',\n",
       "       'Norvège', 'Ouganda', 'Paraguay', 'Rwanda', 'République de Moldova',\n",
       "       'République populaire démocratique de Corée', 'Serbie', 'Sierra Leone',\n",
       "       'Slovaquie', 'Sri Lanka', 'Suisse', 'Suède', 'Sénégal', 'Tchad', 'Togo',\n",
       "       'Tunisie', 'Uruguay', 'Yémen', 'Zambie', 'Équateur', 'Îles Salomon'],\n",
       "      dtype='object', name='Zone')"
      ]
     },
     "execution_count": 399,
     "metadata": {},
     "output_type": "execute_result"
    }
   ],
   "source": [
    "df_T_chicken[(df_T_chicken.g_kmeans==1) | (df_T_chicken.g_PC3_kmeans==5)].index"
   ]
  },
  {
   "cell_type": "code",
   "execution_count": null,
   "id": "18531ece",
   "metadata": {},
   "outputs": [],
   "source": []
  }
 ],
 "metadata": {
  "kernelspec": {
   "display_name": "Python 3 (ipykernel)",
   "language": "python",
   "name": "python3"
  },
  "language_info": {
   "codemirror_mode": {
    "name": "ipython",
    "version": 3
   },
   "file_extension": ".py",
   "mimetype": "text/x-python",
   "name": "python",
   "nbconvert_exporter": "python",
   "pygments_lexer": "ipython3",
   "version": "3.9.7"
  }
 },
 "nbformat": 4,
 "nbformat_minor": 5
}
