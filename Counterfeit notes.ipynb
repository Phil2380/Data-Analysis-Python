{
 "cells": [
  {
   "cell_type": "markdown",
   "id": "1c50534a",
   "metadata": {},
   "source": [
    "#  COUNTERFEIT NOTES DETECTION PROJECT"
   ]
  },
  {
   "cell_type": "code",
   "execution_count": 1,
   "id": "94dd5b98",
   "metadata": {},
   "outputs": [],
   "source": [
    "import pandas as pd\n",
    "import matplotlib.pyplot as plt\n",
    "import numpy as np\n",
    "import seaborn as sns\n",
    "from scipy.stats import stats,shapiro,normaltest,t\n",
    "from statistics import mean"
   ]
  },
  {
   "cell_type": "markdown",
   "id": "06322645",
   "metadata": {},
   "source": [
    "#### Data import (this is a fictive dataset made just for this project)"
   ]
  },
  {
   "cell_type": "code",
   "execution_count": 142,
   "id": "c4824819",
   "metadata": {},
   "outputs": [],
   "source": [
    "notes=pd.read_csv('billets.txt',sep=\";\")"
   ]
  },
  {
   "cell_type": "code",
   "execution_count": 143,
   "id": "9bc007a4",
   "metadata": {},
   "outputs": [
    {
     "data": {
      "text/html": [
       "<div>\n",
       "<style scoped>\n",
       "    .dataframe tbody tr th:only-of-type {\n",
       "        vertical-align: middle;\n",
       "    }\n",
       "\n",
       "    .dataframe tbody tr th {\n",
       "        vertical-align: top;\n",
       "    }\n",
       "\n",
       "    .dataframe thead th {\n",
       "        text-align: right;\n",
       "    }\n",
       "</style>\n",
       "<table border=\"1\" class=\"dataframe\">\n",
       "  <thead>\n",
       "    <tr style=\"text-align: right;\">\n",
       "      <th></th>\n",
       "      <th>is_genuine</th>\n",
       "      <th>diagonal</th>\n",
       "      <th>height_left</th>\n",
       "      <th>height_right</th>\n",
       "      <th>margin_low</th>\n",
       "      <th>margin_up</th>\n",
       "      <th>length</th>\n",
       "    </tr>\n",
       "  </thead>\n",
       "  <tbody>\n",
       "    <tr>\n",
       "      <th>0</th>\n",
       "      <td>True</td>\n",
       "      <td>171.81</td>\n",
       "      <td>104.86</td>\n",
       "      <td>104.95</td>\n",
       "      <td>4.52</td>\n",
       "      <td>2.89</td>\n",
       "      <td>112.83</td>\n",
       "    </tr>\n",
       "    <tr>\n",
       "      <th>1</th>\n",
       "      <td>True</td>\n",
       "      <td>171.46</td>\n",
       "      <td>103.36</td>\n",
       "      <td>103.66</td>\n",
       "      <td>3.77</td>\n",
       "      <td>2.99</td>\n",
       "      <td>113.09</td>\n",
       "    </tr>\n",
       "    <tr>\n",
       "      <th>2</th>\n",
       "      <td>True</td>\n",
       "      <td>172.69</td>\n",
       "      <td>104.48</td>\n",
       "      <td>103.50</td>\n",
       "      <td>4.40</td>\n",
       "      <td>2.94</td>\n",
       "      <td>113.16</td>\n",
       "    </tr>\n",
       "    <tr>\n",
       "      <th>3</th>\n",
       "      <td>True</td>\n",
       "      <td>171.36</td>\n",
       "      <td>103.91</td>\n",
       "      <td>103.94</td>\n",
       "      <td>3.62</td>\n",
       "      <td>3.01</td>\n",
       "      <td>113.51</td>\n",
       "    </tr>\n",
       "    <tr>\n",
       "      <th>4</th>\n",
       "      <td>True</td>\n",
       "      <td>171.73</td>\n",
       "      <td>104.28</td>\n",
       "      <td>103.46</td>\n",
       "      <td>4.04</td>\n",
       "      <td>3.48</td>\n",
       "      <td>112.54</td>\n",
       "    </tr>\n",
       "    <tr>\n",
       "      <th>...</th>\n",
       "      <td>...</td>\n",
       "      <td>...</td>\n",
       "      <td>...</td>\n",
       "      <td>...</td>\n",
       "      <td>...</td>\n",
       "      <td>...</td>\n",
       "      <td>...</td>\n",
       "    </tr>\n",
       "    <tr>\n",
       "      <th>1495</th>\n",
       "      <td>False</td>\n",
       "      <td>171.75</td>\n",
       "      <td>104.38</td>\n",
       "      <td>104.17</td>\n",
       "      <td>4.42</td>\n",
       "      <td>3.09</td>\n",
       "      <td>111.28</td>\n",
       "    </tr>\n",
       "    <tr>\n",
       "      <th>1496</th>\n",
       "      <td>False</td>\n",
       "      <td>172.19</td>\n",
       "      <td>104.63</td>\n",
       "      <td>104.44</td>\n",
       "      <td>5.27</td>\n",
       "      <td>3.37</td>\n",
       "      <td>110.97</td>\n",
       "    </tr>\n",
       "    <tr>\n",
       "      <th>1497</th>\n",
       "      <td>False</td>\n",
       "      <td>171.80</td>\n",
       "      <td>104.01</td>\n",
       "      <td>104.12</td>\n",
       "      <td>5.51</td>\n",
       "      <td>3.36</td>\n",
       "      <td>111.95</td>\n",
       "    </tr>\n",
       "    <tr>\n",
       "      <th>1498</th>\n",
       "      <td>False</td>\n",
       "      <td>172.06</td>\n",
       "      <td>104.28</td>\n",
       "      <td>104.06</td>\n",
       "      <td>5.17</td>\n",
       "      <td>3.46</td>\n",
       "      <td>112.25</td>\n",
       "    </tr>\n",
       "    <tr>\n",
       "      <th>1499</th>\n",
       "      <td>False</td>\n",
       "      <td>171.47</td>\n",
       "      <td>104.15</td>\n",
       "      <td>103.82</td>\n",
       "      <td>4.63</td>\n",
       "      <td>3.37</td>\n",
       "      <td>112.07</td>\n",
       "    </tr>\n",
       "  </tbody>\n",
       "</table>\n",
       "<p>1500 rows × 7 columns</p>\n",
       "</div>"
      ],
      "text/plain": [
       "      is_genuine  diagonal  height_left  height_right  margin_low  margin_up  \\\n",
       "0           True    171.81       104.86        104.95        4.52       2.89   \n",
       "1           True    171.46       103.36        103.66        3.77       2.99   \n",
       "2           True    172.69       104.48        103.50        4.40       2.94   \n",
       "3           True    171.36       103.91        103.94        3.62       3.01   \n",
       "4           True    171.73       104.28        103.46        4.04       3.48   \n",
       "...          ...       ...          ...           ...         ...        ...   \n",
       "1495       False    171.75       104.38        104.17        4.42       3.09   \n",
       "1496       False    172.19       104.63        104.44        5.27       3.37   \n",
       "1497       False    171.80       104.01        104.12        5.51       3.36   \n",
       "1498       False    172.06       104.28        104.06        5.17       3.46   \n",
       "1499       False    171.47       104.15        103.82        4.63       3.37   \n",
       "\n",
       "      length  \n",
       "0     112.83  \n",
       "1     113.09  \n",
       "2     113.16  \n",
       "3     113.51  \n",
       "4     112.54  \n",
       "...      ...  \n",
       "1495  111.28  \n",
       "1496  110.97  \n",
       "1497  111.95  \n",
       "1498  112.25  \n",
       "1499  112.07  \n",
       "\n",
       "[1500 rows x 7 columns]"
      ]
     },
     "execution_count": 143,
     "metadata": {},
     "output_type": "execute_result"
    }
   ],
   "source": [
    "notes "
   ]
  },
  {
   "cell_type": "markdown",
   "id": "755f00fe",
   "metadata": {},
   "source": [
    "### First let's observe our quantitative variables"
   ]
  },
  {
   "cell_type": "code",
   "execution_count": 144,
   "id": "5183c9d5",
   "metadata": {},
   "outputs": [
    {
     "data": {
      "text/html": [
       "<div>\n",
       "<style scoped>\n",
       "    .dataframe tbody tr th:only-of-type {\n",
       "        vertical-align: middle;\n",
       "    }\n",
       "\n",
       "    .dataframe tbody tr th {\n",
       "        vertical-align: top;\n",
       "    }\n",
       "\n",
       "    .dataframe thead th {\n",
       "        text-align: right;\n",
       "    }\n",
       "</style>\n",
       "<table border=\"1\" class=\"dataframe\">\n",
       "  <thead>\n",
       "    <tr style=\"text-align: right;\">\n",
       "      <th></th>\n",
       "      <th>diagonal</th>\n",
       "      <th>height_left</th>\n",
       "      <th>height_right</th>\n",
       "      <th>margin_low</th>\n",
       "      <th>margin_up</th>\n",
       "      <th>length</th>\n",
       "    </tr>\n",
       "  </thead>\n",
       "  <tbody>\n",
       "    <tr>\n",
       "      <th>count</th>\n",
       "      <td>1500.000000</td>\n",
       "      <td>1500.000000</td>\n",
       "      <td>1500.000000</td>\n",
       "      <td>1463.000000</td>\n",
       "      <td>1500.000000</td>\n",
       "      <td>1500.00000</td>\n",
       "    </tr>\n",
       "    <tr>\n",
       "      <th>mean</th>\n",
       "      <td>171.958440</td>\n",
       "      <td>104.029533</td>\n",
       "      <td>103.920307</td>\n",
       "      <td>4.485967</td>\n",
       "      <td>3.151473</td>\n",
       "      <td>112.67850</td>\n",
       "    </tr>\n",
       "    <tr>\n",
       "      <th>std</th>\n",
       "      <td>0.305195</td>\n",
       "      <td>0.299462</td>\n",
       "      <td>0.325627</td>\n",
       "      <td>0.663813</td>\n",
       "      <td>0.231813</td>\n",
       "      <td>0.87273</td>\n",
       "    </tr>\n",
       "    <tr>\n",
       "      <th>min</th>\n",
       "      <td>171.040000</td>\n",
       "      <td>103.140000</td>\n",
       "      <td>102.820000</td>\n",
       "      <td>2.980000</td>\n",
       "      <td>2.270000</td>\n",
       "      <td>109.49000</td>\n",
       "    </tr>\n",
       "    <tr>\n",
       "      <th>25%</th>\n",
       "      <td>171.750000</td>\n",
       "      <td>103.820000</td>\n",
       "      <td>103.710000</td>\n",
       "      <td>4.015000</td>\n",
       "      <td>2.990000</td>\n",
       "      <td>112.03000</td>\n",
       "    </tr>\n",
       "    <tr>\n",
       "      <th>50%</th>\n",
       "      <td>171.960000</td>\n",
       "      <td>104.040000</td>\n",
       "      <td>103.920000</td>\n",
       "      <td>4.310000</td>\n",
       "      <td>3.140000</td>\n",
       "      <td>112.96000</td>\n",
       "    </tr>\n",
       "    <tr>\n",
       "      <th>75%</th>\n",
       "      <td>172.170000</td>\n",
       "      <td>104.230000</td>\n",
       "      <td>104.150000</td>\n",
       "      <td>4.870000</td>\n",
       "      <td>3.310000</td>\n",
       "      <td>113.34000</td>\n",
       "    </tr>\n",
       "    <tr>\n",
       "      <th>max</th>\n",
       "      <td>173.010000</td>\n",
       "      <td>104.880000</td>\n",
       "      <td>104.950000</td>\n",
       "      <td>6.900000</td>\n",
       "      <td>3.910000</td>\n",
       "      <td>114.44000</td>\n",
       "    </tr>\n",
       "  </tbody>\n",
       "</table>\n",
       "</div>"
      ],
      "text/plain": [
       "          diagonal  height_left  height_right   margin_low    margin_up  \\\n",
       "count  1500.000000  1500.000000   1500.000000  1463.000000  1500.000000   \n",
       "mean    171.958440   104.029533    103.920307     4.485967     3.151473   \n",
       "std       0.305195     0.299462      0.325627     0.663813     0.231813   \n",
       "min     171.040000   103.140000    102.820000     2.980000     2.270000   \n",
       "25%     171.750000   103.820000    103.710000     4.015000     2.990000   \n",
       "50%     171.960000   104.040000    103.920000     4.310000     3.140000   \n",
       "75%     172.170000   104.230000    104.150000     4.870000     3.310000   \n",
       "max     173.010000   104.880000    104.950000     6.900000     3.910000   \n",
       "\n",
       "           length  \n",
       "count  1500.00000  \n",
       "mean    112.67850  \n",
       "std       0.87273  \n",
       "min     109.49000  \n",
       "25%     112.03000  \n",
       "50%     112.96000  \n",
       "75%     113.34000  \n",
       "max     114.44000  "
      ]
     },
     "execution_count": 144,
     "metadata": {},
     "output_type": "execute_result"
    }
   ],
   "source": [
    "notes.describe()"
   ]
  },
  {
   "cell_type": "code",
   "execution_count": 145,
   "id": "a2966d37",
   "metadata": {},
   "outputs": [
    {
     "data": {
      "text/plain": [
       "is_genuine       0\n",
       "diagonal         0\n",
       "height_left      0\n",
       "height_right     0\n",
       "margin_low      37\n",
       "margin_up        0\n",
       "length           0\n",
       "dtype: int64"
      ]
     },
     "execution_count": 145,
     "metadata": {},
     "output_type": "execute_result"
    }
   ],
   "source": [
    "notes.isnull().sum()"
   ]
  },
  {
   "cell_type": "markdown",
   "id": "9a1e4265",
   "metadata": {},
   "source": [
    "##### We have 37 missing values for the variable margin_low"
   ]
  },
  {
   "cell_type": "markdown",
   "id": "c819c54f",
   "metadata": {},
   "source": [
    "#### Let's retrieve them with a linear regression"
   ]
  },
  {
   "cell_type": "markdown",
   "id": "fec78b6b",
   "metadata": {},
   "source": [
    "### Linear regression"
   ]
  },
  {
   "cell_type": "markdown",
   "id": "72144bb4",
   "metadata": {},
   "source": [
    "First we only select the rows without nulls"
   ]
  },
  {
   "cell_type": "code",
   "execution_count": 146,
   "id": "0ebe46a4",
   "metadata": {},
   "outputs": [],
   "source": [
    "notes_copy=notes.dropna()"
   ]
  },
  {
   "cell_type": "markdown",
   "id": "d5bb7be7",
   "metadata": {},
   "source": [
    "Let's see the correlations with our dependant variable \"margin_low\" and the other variables (with their p-values)"
   ]
  },
  {
   "cell_type": "code",
   "execution_count": 147,
   "id": "458f7095",
   "metadata": {},
   "outputs": [],
   "source": [
    "from scipy.stats.stats import pearsonr"
   ]
  },
  {
   "cell_type": "code",
   "execution_count": 148,
   "id": "18142165",
   "metadata": {},
   "outputs": [],
   "source": [
    "def corr_list(data):\n",
    "    corr=list()\n",
    "    for i in range(data.shape[1]-1):\n",
    "        x_ind=data.iloc[:,i+1]\n",
    "        x_dep=data[\"margin_low\"]\n",
    "        cor,pv=pearsonr(x_ind,x_dep)\n",
    "        corr.append([cor,pv])\n",
    "    index=data.columns[1:]\n",
    "    corr=pd.DataFrame(corr,index=index,columns=['correlations','pvalues'])\n",
    "    return corr"
   ]
  },
  {
   "cell_type": "code",
   "execution_count": 149,
   "id": "512939fd",
   "metadata": {},
   "outputs": [
    {
     "data": {
      "text/html": [
       "<div>\n",
       "<style scoped>\n",
       "    .dataframe tbody tr th:only-of-type {\n",
       "        vertical-align: middle;\n",
       "    }\n",
       "\n",
       "    .dataframe tbody tr th {\n",
       "        vertical-align: top;\n",
       "    }\n",
       "\n",
       "    .dataframe thead th {\n",
       "        text-align: right;\n",
       "    }\n",
       "</style>\n",
       "<table border=\"1\" class=\"dataframe\">\n",
       "  <thead>\n",
       "    <tr style=\"text-align: right;\">\n",
       "      <th></th>\n",
       "      <th>correlations</th>\n",
       "      <th>pvalues</th>\n",
       "    </tr>\n",
       "  </thead>\n",
       "  <tbody>\n",
       "    <tr>\n",
       "      <th>diagonal</th>\n",
       "      <td>-0.111534</td>\n",
       "      <td>1.904626e-05</td>\n",
       "    </tr>\n",
       "    <tr>\n",
       "      <th>height_left</th>\n",
       "      <td>0.302643</td>\n",
       "      <td>2.289195e-32</td>\n",
       "    </tr>\n",
       "    <tr>\n",
       "      <th>height_right</th>\n",
       "      <td>0.391085</td>\n",
       "      <td>1.159047e-54</td>\n",
       "    </tr>\n",
       "    <tr>\n",
       "      <th>margin_low</th>\n",
       "      <td>1.000000</td>\n",
       "      <td>0.000000e+00</td>\n",
       "    </tr>\n",
       "    <tr>\n",
       "      <th>margin_up</th>\n",
       "      <td>0.431606</td>\n",
       "      <td>1.921604e-67</td>\n",
       "    </tr>\n",
       "    <tr>\n",
       "      <th>length</th>\n",
       "      <td>-0.666753</td>\n",
       "      <td>8.975567e-189</td>\n",
       "    </tr>\n",
       "  </tbody>\n",
       "</table>\n",
       "</div>"
      ],
      "text/plain": [
       "              correlations        pvalues\n",
       "diagonal         -0.111534   1.904626e-05\n",
       "height_left       0.302643   2.289195e-32\n",
       "height_right      0.391085   1.159047e-54\n",
       "margin_low        1.000000   0.000000e+00\n",
       "margin_up         0.431606   1.921604e-67\n",
       "length           -0.666753  8.975567e-189"
      ]
     },
     "execution_count": 149,
     "metadata": {},
     "output_type": "execute_result"
    }
   ],
   "source": [
    "corr_list(notes_copy)"
   ]
  },
  {
   "cell_type": "markdown",
   "id": "34cea776",
   "metadata": {},
   "source": [
    "The highest correlation is for the variable \"length\" with a correlaion -0.66 and then the variable \"margin_up\" with 0.43 correlation"
   ]
  },
  {
   "cell_type": "markdown",
   "id": "7fd154a6",
   "metadata": {},
   "source": [
    "#### Let's see now the coefficient of determination R² for each variable"
   ]
  },
  {
   "cell_type": "code",
   "execution_count": 150,
   "id": "677a02a7",
   "metadata": {},
   "outputs": [],
   "source": [
    "#Instanciation de l'oblet LinearRegression\n",
    "model_linear=LinearRegression()"
   ]
  },
  {
   "cell_type": "code",
   "execution_count": 151,
   "id": "e3d0922c",
   "metadata": {},
   "outputs": [],
   "source": [
    "#Calcul du coeficient de determination pour chaque variables explicatives\n",
    "def det_list(model,datas):\n",
    "    det=list()\n",
    "    for i in range(datas.shape[1]-1):\n",
    "            x=datas.iloc[:,i+1].values.reshape((-1,1))\n",
    "            y=datas[\"margin_low\"]\n",
    "            model.fit(x,y)\n",
    "            det.append(model.score(x,y))\n",
    "    index=datas.columns[1:]\n",
    "    det=pd.DataFrame(det,index=index,columns=['coef_determination(R²)'])\n",
    "    return det"
   ]
  },
  {
   "cell_type": "code",
   "execution_count": 152,
   "id": "7f2f4436",
   "metadata": {},
   "outputs": [
    {
     "data": {
      "text/html": [
       "<div>\n",
       "<style scoped>\n",
       "    .dataframe tbody tr th:only-of-type {\n",
       "        vertical-align: middle;\n",
       "    }\n",
       "\n",
       "    .dataframe tbody tr th {\n",
       "        vertical-align: top;\n",
       "    }\n",
       "\n",
       "    .dataframe thead th {\n",
       "        text-align: right;\n",
       "    }\n",
       "</style>\n",
       "<table border=\"1\" class=\"dataframe\">\n",
       "  <thead>\n",
       "    <tr style=\"text-align: right;\">\n",
       "      <th></th>\n",
       "      <th>coef_determination(R²)</th>\n",
       "    </tr>\n",
       "  </thead>\n",
       "  <tbody>\n",
       "    <tr>\n",
       "      <th>diagonal</th>\n",
       "      <td>0.012440</td>\n",
       "    </tr>\n",
       "    <tr>\n",
       "      <th>height_left</th>\n",
       "      <td>0.091593</td>\n",
       "    </tr>\n",
       "    <tr>\n",
       "      <th>height_right</th>\n",
       "      <td>0.152948</td>\n",
       "    </tr>\n",
       "    <tr>\n",
       "      <th>margin_low</th>\n",
       "      <td>1.000000</td>\n",
       "    </tr>\n",
       "    <tr>\n",
       "      <th>margin_up</th>\n",
       "      <td>0.186284</td>\n",
       "    </tr>\n",
       "    <tr>\n",
       "      <th>length</th>\n",
       "      <td>0.444559</td>\n",
       "    </tr>\n",
       "  </tbody>\n",
       "</table>\n",
       "</div>"
      ],
      "text/plain": [
       "              coef_determination(R²)\n",
       "diagonal                    0.012440\n",
       "height_left                 0.091593\n",
       "height_right                0.152948\n",
       "margin_low                  1.000000\n",
       "margin_up                   0.186284\n",
       "length                      0.444559"
      ]
     },
     "execution_count": 152,
     "metadata": {},
     "output_type": "execute_result"
    }
   ],
   "source": [
    "det_list(model_linear,notes_copy)"
   ]
  },
  {
   "cell_type": "markdown",
   "id": "45a276ea",
   "metadata": {},
   "source": [
    "The variable \"length\" represent the highest variance explained with 44,4% ."
   ]
  },
  {
   "cell_type": "markdown",
   "id": "d391ea32",
   "metadata": {},
   "source": [
    "#### Let's check now the distribution of the residuals "
   ]
  },
  {
   "cell_type": "code",
   "execution_count": 153,
   "id": "52d65fda",
   "metadata": {},
   "outputs": [],
   "source": [
    "#Function for the residuals\n",
    "def res(model,x_exp,y_dep):\n",
    "    #equation de la droite\n",
    "    a=model.coef_\n",
    "    b=model.intercept_\n",
    "    r=list()\n",
    "    \n",
    "    for idx,x in x_exp.iteritems():\n",
    "        r.append((y_dep[idx]-(a*x+b)))\n",
    "    r=pd.DataFrame(r,columns=['Residuals'])\n",
    "    return r"
   ]
  },
  {
   "cell_type": "code",
   "execution_count": 154,
   "id": "c2dce779",
   "metadata": {},
   "outputs": [],
   "source": [
    "list_residuals=res(model_linear,notes_copy[\"length\"],notes_copy[\"margin_low\"])"
   ]
  },
  {
   "cell_type": "code",
   "execution_count": 155,
   "id": "b5a0e00e",
   "metadata": {
    "scrolled": false
   },
   "outputs": [
    {
     "name": "stderr",
     "output_type": "stream",
     "text": [
      "C:\\Users\\phild\\anaconda3\\lib\\site-packages\\seaborn\\distributions.py:2619: FutureWarning: `distplot` is a deprecated function and will be removed in a future version. Please adapt your code to use either `displot` (a figure-level function with similar flexibility) or `histplot` (an axes-level function for histograms).\n",
      "  warnings.warn(msg, FutureWarning)\n"
     ]
    },
    {
     "data": {
      "image/png": "[encoded data removed]",
      "text/plain": [
       "<Figure size 864x576 with 1 Axes>"
      ]
     },
     "metadata": {
      "needs_background": "light"
     },
     "output_type": "display_data"
    }
   ],
   "source": [
    "#Plot\n",
    "plt.figure(figsize=(12,8))\n",
    "sns.distplot(list_residuals,hist=True)\n",
    "plt.show()"
   ]
  },
  {
   "cell_type": "code",
   "execution_count": 156,
   "id": "dcb4299a",
   "metadata": {},
   "outputs": [
    {
     "data": {
      "image/png": "[encoded data removed]",
      "text/plain": [
       "<Figure size 864x576 with 1 Axes>"
      ]
     },
     "metadata": {
      "needs_background": "light"
     },
     "output_type": "display_data"
    }
   ],
   "source": [
    "#box plot\n",
    "plt.figure(figsize=(12,8))\n",
    "plt.boxplot(list_residuals)\n",
    "plt.show()"
   ]
  },
  {
   "cell_type": "markdown",
   "id": "5adcb954",
   "metadata": {},
   "source": [
    "The distributions is a bit skewed on the left. Let's perform a normality check"
   ]
  },
  {
   "cell_type": "markdown",
   "id": "62b812a1",
   "metadata": {},
   "source": [
    "#### Normality test"
   ]
  },
  {
   "cell_type": "code",
   "execution_count": 157,
   "id": "89856e1c",
   "metadata": {},
   "outputs": [
    {
     "data": {
      "text/plain": [
       "ShapiroResult(statistic=0.9824789762496948, pvalue=2.3925759377180222e-12)"
      ]
     },
     "execution_count": 157,
     "metadata": {},
     "output_type": "execute_result"
    }
   ],
   "source": [
    "shapiro(list_residuals)"
   ]
  },
  {
   "cell_type": "code",
   "execution_count": 158,
   "id": "097d9ec5",
   "metadata": {},
   "outputs": [
    {
     "data": {
      "text/plain": [
       "NormaltestResult(statistic=array([95.15576063]), pvalue=array([2.17364751e-21]))"
      ]
     },
     "execution_count": 158,
     "metadata": {},
     "output_type": "execute_result"
    }
   ],
   "source": [
    "normaltest(list_residuals)"
   ]
  },
  {
   "cell_type": "markdown",
   "id": "925a51d7",
   "metadata": {},
   "source": [
    "The 2 tests performed with p-values below 0.05 indicate that we can reject the null hypothesis and state that the residuals does not follow a normal distribution"
   ]
  },
  {
   "cell_type": "markdown",
   "id": "bf4949cc",
   "metadata": {},
   "source": [
    "#### Let's use a model that can handle non-normally distributed"
   ]
  },
  {
   "cell_type": "code",
   "execution_count": 159,
   "id": "dd261d9e",
   "metadata": {},
   "outputs": [],
   "source": [
    "from sklearn.linear_model import RANSACRegressor"
   ]
  },
  {
   "cell_type": "code",
   "execution_count": 160,
   "id": "3926324f",
   "metadata": {},
   "outputs": [],
   "source": [
    "model_robust = RANSACRegressor()"
   ]
  },
  {
   "cell_type": "code",
   "execution_count": 161,
   "id": "fe8f160b",
   "metadata": {},
   "outputs": [
    {
     "data": {
      "text/plain": [
       "RANSACRegressor()"
      ]
     },
     "execution_count": 161,
     "metadata": {},
     "output_type": "execute_result"
    }
   ],
   "source": [
    "model_robust.fit(notes_copy.length.values.reshape((-1,1)), notes_copy.margin_low)"
   ]
  },
  {
   "cell_type": "markdown",
   "id": "a5666951",
   "metadata": {},
   "source": [
    "#### Let's check the homoscedasticity"
   ]
  },
  {
   "cell_type": "code",
   "execution_count": 162,
   "id": "77cc8d91",
   "metadata": {},
   "outputs": [
    {
     "data": {
      "image/png": "[encoded data removed]",
      "text/plain": [
       "<Figure size 1008x504 with 1 Axes>"
      ]
     },
     "metadata": {
      "needs_background": "light"
     },
     "output_type": "display_data"
    }
   ],
   "source": [
    "y_pred = model_robust.predict(notes_copy.length.values.reshape((-1,1)))\n",
    "residuals = notes_copy.margin_low - y_pred\n",
    "\n",
    "# plot residuals vs predicted values\n",
    "fig = plt.figure(figsize=(14, 7))\n",
    "plt.scatter(y_pred, residuals)\n",
    "plt.axhline(y=0, color='r', linestyle='-')\n",
    "plt.title(\"Homoscedasticity Plot\")\n",
    "plt.xlabel(\"Predicted Values\")\n",
    "plt.ylabel(\"Residuals\")\n",
    "plt.show()"
   ]
  },
  {
   "cell_type": "markdown",
   "id": "978c6f2e",
   "metadata": {},
   "source": [
    "Even if the residuals are not perfectly distributed along the line, I decide to continue with this model."
   ]
  },
  {
   "cell_type": "markdown",
   "id": "63b8df4d",
   "metadata": {},
   "source": [
    "### Let's check now if the estimate coefficient is significant"
   ]
  },
  {
   "cell_type": "code",
   "execution_count": 163,
   "id": "98f00ab7",
   "metadata": {},
   "outputs": [],
   "source": [
    "coef=model_robust.estimator_.coef_"
   ]
  },
  {
   "cell_type": "code",
   "execution_count": 164,
   "id": "5ff1fef7",
   "metadata": {},
   "outputs": [],
   "source": [
    "#Standard error of residuals:\n",
    "sum_res=0\n",
    "for x in residuals:\n",
    "    sum_res=sum_res+(x)**2\n",
    "std_err_res=np.sqrt(sum_res/(len(notes_copy.length)-2))\n",
    "\n",
    "# Calculate the standard error of the coefficients    \n",
    "sum_x=0\n",
    "for x in notes_copy.length:\n",
    "    sum_x=sum_x+(x-mean(notes_copy.length))**2\n",
    "\n",
    "std_err_slope=std_err_res/np.sqrt(sum_x)\n"
   ]
  },
  {
   "cell_type": "code",
   "execution_count": 165,
   "id": "6d79594c",
   "metadata": {},
   "outputs": [
    {
     "data": {
      "text/html": [
       "<div>\n",
       "<style scoped>\n",
       "    .dataframe tbody tr th:only-of-type {\n",
       "        vertical-align: middle;\n",
       "    }\n",
       "\n",
       "    .dataframe tbody tr th {\n",
       "        vertical-align: top;\n",
       "    }\n",
       "\n",
       "    .dataframe thead th {\n",
       "        text-align: right;\n",
       "    }\n",
       "</style>\n",
       "<table border=\"1\" class=\"dataframe\">\n",
       "  <thead>\n",
       "    <tr style=\"text-align: right;\">\n",
       "      <th></th>\n",
       "      <th>Result</th>\n",
       "    </tr>\n",
       "  </thead>\n",
       "  <tbody>\n",
       "    <tr>\n",
       "      <th>T stat</th>\n",
       "      <td>-3.295192e+01</td>\n",
       "    </tr>\n",
       "    <tr>\n",
       "      <th>P value</th>\n",
       "      <td>6.936047e-179</td>\n",
       "    </tr>\n",
       "  </tbody>\n",
       "</table>\n",
       "</div>"
      ],
      "text/plain": [
       "                Result\n",
       "T stat   -3.295192e+01\n",
       "P value  6.936047e-179"
      ]
     },
     "execution_count": 165,
     "metadata": {},
     "output_type": "execute_result"
    }
   ],
   "source": [
    "# Ttest\n",
    "#H0 The coefficient of the regression line is not significant\n",
    "#H1 The coefficient of the regression line is significant\n",
    "\n",
    "a=coef\n",
    "a0=0\n",
    "\n",
    "t_stat=float((a-a0)/std_err_slope)\n",
    "p_val=t.sf(abs(t_stat),df=len(notes_copy.length-2))\n",
    "result=pd.DataFrame([t_stat,p_val],index=['T stat','P value'],columns=['Result'])\n",
    "result"
   ]
  },
  {
   "cell_type": "markdown",
   "id": "b157e3ed",
   "metadata": {},
   "source": [
    "#### The pvalue being largly inferior to 0.05, we can reject Ho and admit that the coefficient of the slope is significant"
   ]
  },
  {
   "cell_type": "markdown",
   "id": "94fe0483",
   "metadata": {},
   "source": [
    "#### Let's plot the regression line"
   ]
  },
  {
   "cell_type": "code",
   "execution_count": 166,
   "id": "2b180bb2",
   "metadata": {},
   "outputs": [
    {
     "data": {
      "image/png": "[encoded data removed]",
      "text/plain": [
       "<Figure size 1008x720 with 1 Axes>"
      ]
     },
     "metadata": {
      "needs_background": "light"
     },
     "output_type": "display_data"
    }
   ],
   "source": [
    "#equation de la droite\n",
    "a=model_robust.estimator_.coef_\n",
    "b=model_robust.estimator_.intercept_\n",
    "x=notes_copy[\"length\"]\n",
    "y_model=a*x + b\n",
    "\n",
    "\n",
    "#Affichage\n",
    "plt.figure(figsize=(14,10))\n",
    "plt.plot(x,y_model,color=\"g\")\n",
    "plt.scatter(notes_copy.length,notes_copy.margin_low)\n",
    "plt.title(\"Linear regression line\")\n",
    "plt.xlabel(\"Length\")\n",
    "plt.ylabel('Margin_low')\n",
    "plt.show()"
   ]
  },
  {
   "cell_type": "markdown",
   "id": "d9a4cecb",
   "metadata": {},
   "source": [
    "#### Let's predict now the missing values"
   ]
  },
  {
   "cell_type": "code",
   "execution_count": 168,
   "id": "970ca901",
   "metadata": {},
   "outputs": [],
   "source": [
    "#storing the corresponding \"length\" values\n",
    "x_length=notes[notes['margin_low'].isnull()].length"
   ]
  },
  {
   "cell_type": "code",
   "execution_count": 169,
   "id": "9c0cb583",
   "metadata": {},
   "outputs": [],
   "source": [
    "#Prediction of the missing values\n",
    "y_pred = model_linear.predict(x_length.values.reshape((-1,1)))"
   ]
  },
  {
   "cell_type": "code",
   "execution_count": 170,
   "id": "5c93238b",
   "metadata": {
    "scrolled": false
   },
   "outputs": [
    {
     "data": {
      "text/plain": [
       "array([4.42755559, 4.28056693, 4.35659555, 4.18426401, 4.6455043 ,\n",
       "       4.20960688, 4.17412686, 4.13864684, 4.3464584 , 4.3464584 ,\n",
       "       4.33632125, 3.81932664, 3.99165818, 4.40221272, 4.42755559,\n",
       "       4.18426401, 4.49851564, 4.62016143, 4.2856355 , 4.11330397,\n",
       "       3.59124078, 4.14371541, 4.0068639 , 4.18426401, 3.90549241,\n",
       "       3.97645245, 4.43262417, 4.48330991, 4.13357827, 4.89386446,\n",
       "       4.63029858, 5.18784178, 5.22839038, 4.68098432, 5.6845621 ,\n",
       "       5.09660744, 5.08647029])"
      ]
     },
     "execution_count": 170,
     "metadata": {},
     "output_type": "execute_result"
    }
   ],
   "source": [
    "y_pred"
   ]
  },
  {
   "cell_type": "markdown",
   "id": "33393631",
   "metadata": {},
   "source": [
    "#### Replacing the missing values by the predicted ones"
   ]
  },
  {
   "cell_type": "code",
   "execution_count": 171,
   "id": "89ea0e22",
   "metadata": {},
   "outputs": [],
   "source": [
    "#First getting the corresponding indexes\n",
    "index_na=notes[notes[\"margin_low\"].isnull()].index"
   ]
  },
  {
   "cell_type": "code",
   "execution_count": 172,
   "id": "fcbff765",
   "metadata": {
    "scrolled": true
   },
   "outputs": [
    {
     "data": {
      "text/plain": [
       "Int64Index([  72,   99,  151,  197,  241,  251,  284,  334,  410,  413,  445,\n",
       "             481,  505,  611,  654,  675,  710,  739,  742,  780,  798,  844,\n",
       "             845,  871,  895,  919,  945,  946,  981, 1076, 1121, 1176, 1303,\n",
       "            1315, 1347, 1435, 1438],\n",
       "           dtype='int64')"
      ]
     },
     "execution_count": 172,
     "metadata": {},
     "output_type": "execute_result"
    }
   ],
   "source": [
    "index_na"
   ]
  },
  {
   "cell_type": "code",
   "execution_count": 173,
   "id": "defc017f",
   "metadata": {},
   "outputs": [],
   "source": [
    "#Loop for replacing\n",
    "j=0\n",
    "for i in index_na:\n",
    "    notes.loc[i,\"margin_low\"]=y_pred[j]\n",
    "    j=j+1"
   ]
  },
  {
   "cell_type": "code",
   "execution_count": 174,
   "id": "8fc755b8",
   "metadata": {
    "scrolled": true
   },
   "outputs": [
    {
     "name": "stdout",
     "output_type": "stream",
     "text": [
      "4.427555592663467\n",
      "4.280566928958422\n",
      "4.3565955481162035\n",
      "4.1842640113585645\n",
      "4.645504300915775\n",
      "4.2096068844111585\n",
      "4.17412686213752\n",
      "4.138646839863895\n",
      "4.346458398895166\n",
      "4.346458398895166\n",
      "4.336321249674128\n",
      "3.8193266394012113\n",
      "3.991658176158843\n",
      "4.402212719610873\n",
      "4.427555592663467\n",
      "4.1842640113585645\n",
      "4.49851563721073\n",
      "4.620161427863188\n",
      "4.28563550356894\n",
      "4.113303966811301\n",
      "3.5912407819278656\n",
      "4.143715414474414\n",
      "4.0068638999904\n",
      "4.1842640113585645\n",
      "3.905492407780031\n",
      "3.976452452327287\n",
      "4.4326241672739854\n",
      "4.483309913379173\n",
      "4.133578265253377\n",
      "4.893864456831196\n",
      "4.630298577084218\n",
      "5.187841784241286\n",
      "5.228390381125443\n",
      "4.680984323189406\n",
      "5.684562096072135\n",
      "5.096607441251955\n",
      "5.086470292030917\n"
     ]
    }
   ],
   "source": [
    "#Checking\n",
    "for i in index_na:\n",
    "    print(notes.loc[i,\"margin_low\"])"
   ]
  },
  {
   "cell_type": "code",
   "execution_count": 176,
   "id": "bdae04bb",
   "metadata": {
    "scrolled": true
   },
   "outputs": [
    {
     "data": {
      "text/plain": [
       "is_genuine      0\n",
       "diagonal        0\n",
       "height_left     0\n",
       "height_right    0\n",
       "margin_low      0\n",
       "margin_up       0\n",
       "length          0\n",
       "dtype: int64"
      ]
     },
     "execution_count": 176,
     "metadata": {},
     "output_type": "execute_result"
    }
   ],
   "source": [
    "notes.isnull().sum()"
   ]
  },
  {
   "cell_type": "markdown",
   "id": "55fdefae",
   "metadata": {},
   "source": [
    "### Now we can start the second phase which a logistic regression to create a model that would identify counterfeit notes"
   ]
  },
  {
   "cell_type": "markdown",
   "id": "fbc96f9d",
   "metadata": {},
   "source": [
    "## Logistic regression"
   ]
  },
  {
   "cell_type": "code",
   "execution_count": 177,
   "id": "18307675",
   "metadata": {},
   "outputs": [],
   "source": [
    "from sklearn.model_selection import train_test_split\n",
    "from sklearn.preprocessing import StandardScaler\n",
    "from sklearn.linear_model import LinearRegression,LogisticRegression\n",
    "from sklearn.metrics import confusion_matrix"
   ]
  },
  {
   "cell_type": "markdown",
   "id": "a52b24cb",
   "metadata": {},
   "source": [
    "#### Splis of of independants and dependants variables"
   ]
  },
  {
   "cell_type": "code",
   "execution_count": 178,
   "id": "44604a7a",
   "metadata": {},
   "outputs": [
    {
     "data": {
      "text/html": [
       "<div>\n",
       "<style scoped>\n",
       "    .dataframe tbody tr th:only-of-type {\n",
       "        vertical-align: middle;\n",
       "    }\n",
       "\n",
       "    .dataframe tbody tr th {\n",
       "        vertical-align: top;\n",
       "    }\n",
       "\n",
       "    .dataframe thead th {\n",
       "        text-align: right;\n",
       "    }\n",
       "</style>\n",
       "<table border=\"1\" class=\"dataframe\">\n",
       "  <thead>\n",
       "    <tr style=\"text-align: right;\">\n",
       "      <th></th>\n",
       "      <th>diagonal</th>\n",
       "      <th>height_left</th>\n",
       "      <th>height_right</th>\n",
       "      <th>margin_low</th>\n",
       "      <th>margin_up</th>\n",
       "      <th>length</th>\n",
       "    </tr>\n",
       "  </thead>\n",
       "  <tbody>\n",
       "    <tr>\n",
       "      <th>0</th>\n",
       "      <td>171.81</td>\n",
       "      <td>104.86</td>\n",
       "      <td>104.95</td>\n",
       "      <td>4.52</td>\n",
       "      <td>2.89</td>\n",
       "      <td>112.83</td>\n",
       "    </tr>\n",
       "    <tr>\n",
       "      <th>1</th>\n",
       "      <td>171.46</td>\n",
       "      <td>103.36</td>\n",
       "      <td>103.66</td>\n",
       "      <td>3.77</td>\n",
       "      <td>2.99</td>\n",
       "      <td>113.09</td>\n",
       "    </tr>\n",
       "    <tr>\n",
       "      <th>2</th>\n",
       "      <td>172.69</td>\n",
       "      <td>104.48</td>\n",
       "      <td>103.50</td>\n",
       "      <td>4.40</td>\n",
       "      <td>2.94</td>\n",
       "      <td>113.16</td>\n",
       "    </tr>\n",
       "    <tr>\n",
       "      <th>3</th>\n",
       "      <td>171.36</td>\n",
       "      <td>103.91</td>\n",
       "      <td>103.94</td>\n",
       "      <td>3.62</td>\n",
       "      <td>3.01</td>\n",
       "      <td>113.51</td>\n",
       "    </tr>\n",
       "    <tr>\n",
       "      <th>4</th>\n",
       "      <td>171.73</td>\n",
       "      <td>104.28</td>\n",
       "      <td>103.46</td>\n",
       "      <td>4.04</td>\n",
       "      <td>3.48</td>\n",
       "      <td>112.54</td>\n",
       "    </tr>\n",
       "    <tr>\n",
       "      <th>...</th>\n",
       "      <td>...</td>\n",
       "      <td>...</td>\n",
       "      <td>...</td>\n",
       "      <td>...</td>\n",
       "      <td>...</td>\n",
       "      <td>...</td>\n",
       "    </tr>\n",
       "    <tr>\n",
       "      <th>1495</th>\n",
       "      <td>171.75</td>\n",
       "      <td>104.38</td>\n",
       "      <td>104.17</td>\n",
       "      <td>4.42</td>\n",
       "      <td>3.09</td>\n",
       "      <td>111.28</td>\n",
       "    </tr>\n",
       "    <tr>\n",
       "      <th>1496</th>\n",
       "      <td>172.19</td>\n",
       "      <td>104.63</td>\n",
       "      <td>104.44</td>\n",
       "      <td>5.27</td>\n",
       "      <td>3.37</td>\n",
       "      <td>110.97</td>\n",
       "    </tr>\n",
       "    <tr>\n",
       "      <th>1497</th>\n",
       "      <td>171.80</td>\n",
       "      <td>104.01</td>\n",
       "      <td>104.12</td>\n",
       "      <td>5.51</td>\n",
       "      <td>3.36</td>\n",
       "      <td>111.95</td>\n",
       "    </tr>\n",
       "    <tr>\n",
       "      <th>1498</th>\n",
       "      <td>172.06</td>\n",
       "      <td>104.28</td>\n",
       "      <td>104.06</td>\n",
       "      <td>5.17</td>\n",
       "      <td>3.46</td>\n",
       "      <td>112.25</td>\n",
       "    </tr>\n",
       "    <tr>\n",
       "      <th>1499</th>\n",
       "      <td>171.47</td>\n",
       "      <td>104.15</td>\n",
       "      <td>103.82</td>\n",
       "      <td>4.63</td>\n",
       "      <td>3.37</td>\n",
       "      <td>112.07</td>\n",
       "    </tr>\n",
       "  </tbody>\n",
       "</table>\n",
       "<p>1500 rows × 6 columns</p>\n",
       "</div>"
      ],
      "text/plain": [
       "      diagonal  height_left  height_right  margin_low  margin_up  length\n",
       "0       171.81       104.86        104.95        4.52       2.89  112.83\n",
       "1       171.46       103.36        103.66        3.77       2.99  113.09\n",
       "2       172.69       104.48        103.50        4.40       2.94  113.16\n",
       "3       171.36       103.91        103.94        3.62       3.01  113.51\n",
       "4       171.73       104.28        103.46        4.04       3.48  112.54\n",
       "...        ...          ...           ...         ...        ...     ...\n",
       "1495    171.75       104.38        104.17        4.42       3.09  111.28\n",
       "1496    172.19       104.63        104.44        5.27       3.37  110.97\n",
       "1497    171.80       104.01        104.12        5.51       3.36  111.95\n",
       "1498    172.06       104.28        104.06        5.17       3.46  112.25\n",
       "1499    171.47       104.15        103.82        4.63       3.37  112.07\n",
       "\n",
       "[1500 rows x 6 columns]"
      ]
     },
     "execution_count": 178,
     "metadata": {},
     "output_type": "execute_result"
    }
   ],
   "source": [
    "#Independant variables\n",
    "X=notes.drop(columns=\"is_genuine\")\n",
    "X"
   ]
  },
  {
   "cell_type": "code",
   "execution_count": 179,
   "id": "485138a4",
   "metadata": {},
   "outputs": [
    {
     "data": {
      "text/plain": [
       "0        True\n",
       "1        True\n",
       "2        True\n",
       "3        True\n",
       "4        True\n",
       "        ...  \n",
       "1495    False\n",
       "1496    False\n",
       "1497    False\n",
       "1498    False\n",
       "1499    False\n",
       "Name: is_genuine, Length: 1500, dtype: bool"
      ]
     },
     "execution_count": 179,
     "metadata": {},
     "output_type": "execute_result"
    }
   ],
   "source": [
    "#VDependant variable\n",
    "Y=notes[\"is_genuine\"]\n",
    "Y"
   ]
  },
  {
   "cell_type": "markdown",
   "id": "7f774cef",
   "metadata": {},
   "source": [
    "#### Spliting our variables for training and test (85%-15%)"
   ]
  },
  {
   "cell_type": "code",
   "execution_count": 180,
   "id": "955bc7d6",
   "metadata": {},
   "outputs": [],
   "source": [
    "x_train,x_test,y_train,y_test=train_test_split(X,Y,test_size=0.15)"
   ]
  },
  {
   "cell_type": "code",
   "execution_count": 181,
   "id": "a1ac79d4",
   "metadata": {},
   "outputs": [
    {
     "data": {
      "text/plain": [
       "1275"
      ]
     },
     "execution_count": 181,
     "metadata": {},
     "output_type": "execute_result"
    }
   ],
   "source": [
    "x_train.shape[0]"
   ]
  },
  {
   "cell_type": "code",
   "execution_count": 182,
   "id": "946e5f31",
   "metadata": {},
   "outputs": [
    {
     "data": {
      "text/plain": [
       "225"
      ]
     },
     "execution_count": 182,
     "metadata": {},
     "output_type": "execute_result"
    }
   ],
   "source": [
    "x_test.shape[0]"
   ]
  },
  {
   "cell_type": "code",
   "execution_count": 183,
   "id": "0d642160",
   "metadata": {},
   "outputs": [
    {
     "data": {
      "text/plain": [
       "405      True\n",
       "27       True\n",
       "1151    False\n",
       "1452    False\n",
       "728      True\n",
       "        ...  \n",
       "1332    False\n",
       "344      True\n",
       "797      True\n",
       "1229    False\n",
       "169      True\n",
       "Name: is_genuine, Length: 225, dtype: bool"
      ]
     },
     "execution_count": 183,
     "metadata": {},
     "output_type": "execute_result"
    }
   ],
   "source": [
    "y_test"
   ]
  },
  {
   "cell_type": "markdown",
   "id": "88015a13",
   "metadata": {},
   "source": [
    "#### Ceating the model with x_train  et y_train"
   ]
  },
  {
   "cell_type": "code",
   "execution_count": 184,
   "id": "93f3ffd6",
   "metadata": {},
   "outputs": [],
   "source": [
    "model_log=LogisticRegression()"
   ]
  },
  {
   "cell_type": "code",
   "execution_count": 185,
   "id": "133368d1",
   "metadata": {},
   "outputs": [
    {
     "data": {
      "text/plain": [
       "LogisticRegression()"
      ]
     },
     "execution_count": 185,
     "metadata": {},
     "output_type": "execute_result"
    }
   ],
   "source": [
    "#Fitting the data\n",
    "model_log.fit(x_train,y_train)"
   ]
  },
  {
   "cell_type": "markdown",
   "id": "17cbc12c",
   "metadata": {},
   "source": [
    "#### Coefficient for each variables"
   ]
  },
  {
   "cell_type": "code",
   "execution_count": 186,
   "id": "746570eb",
   "metadata": {
    "scrolled": true
   },
   "outputs": [
    {
     "data": {
      "text/html": [
       "<div>\n",
       "<style scoped>\n",
       "    .dataframe tbody tr th:only-of-type {\n",
       "        vertical-align: middle;\n",
       "    }\n",
       "\n",
       "    .dataframe tbody tr th {\n",
       "        vertical-align: top;\n",
       "    }\n",
       "\n",
       "    .dataframe thead th {\n",
       "        text-align: right;\n",
       "    }\n",
       "</style>\n",
       "<table border=\"1\" class=\"dataframe\">\n",
       "  <thead>\n",
       "    <tr style=\"text-align: right;\">\n",
       "      <th></th>\n",
       "      <th>Coefficients</th>\n",
       "    </tr>\n",
       "  </thead>\n",
       "  <tbody>\n",
       "    <tr>\n",
       "      <th>diagonal</th>\n",
       "      <td>-0.075036</td>\n",
       "    </tr>\n",
       "    <tr>\n",
       "      <th>height_left</th>\n",
       "      <td>-1.467023</td>\n",
       "    </tr>\n",
       "    <tr>\n",
       "      <th>height_right</th>\n",
       "      <td>-2.295189</td>\n",
       "    </tr>\n",
       "    <tr>\n",
       "      <th>margin_low</th>\n",
       "      <td>-3.479015</td>\n",
       "    </tr>\n",
       "    <tr>\n",
       "      <th>margin_up</th>\n",
       "      <td>-3.217139</td>\n",
       "    </tr>\n",
       "    <tr>\n",
       "      <th>length</th>\n",
       "      <td>3.828819</td>\n",
       "    </tr>\n",
       "  </tbody>\n",
       "</table>\n",
       "</div>"
      ],
      "text/plain": [
       "              Coefficients\n",
       "diagonal         -0.075036\n",
       "height_left      -1.467023\n",
       "height_right     -2.295189\n",
       "margin_low       -3.479015\n",
       "margin_up        -3.217139\n",
       "length            3.828819"
      ]
     },
     "execution_count": 186,
     "metadata": {},
     "output_type": "execute_result"
    }
   ],
   "source": [
    "pd.DataFrame(model_log.coef_,index=['Coefficients'],columns=X.columns).T"
   ]
  },
  {
   "cell_type": "markdown",
   "id": "8ae3062c",
   "metadata": {},
   "source": [
    "#### Prediction"
   ]
  },
  {
   "cell_type": "code",
   "execution_count": 187,
   "id": "5b157577",
   "metadata": {
    "scrolled": false
   },
   "outputs": [],
   "source": [
    "y_pred=model_log.predict(x_test)"
   ]
  },
  {
   "cell_type": "code",
   "execution_count": 188,
   "id": "67473a89",
   "metadata": {},
   "outputs": [
    {
     "data": {
      "text/plain": [
       "0.9866666666666667"
      ]
     },
     "execution_count": 188,
     "metadata": {},
     "output_type": "execute_result"
    }
   ],
   "source": [
    "#Score of the model \n",
    "model_log.score(x_test,y_test)"
   ]
  },
  {
   "cell_type": "markdown",
   "id": "7e15783d",
   "metadata": {},
   "source": [
    "Disclaimer: in the \"real life\" we wouldn't almost never such a high prediction score..."
   ]
  },
  {
   "cell_type": "markdown",
   "id": "40c3f1eb",
   "metadata": {},
   "source": [
    "#### Let's evaluate the model"
   ]
  },
  {
   "cell_type": "code",
   "execution_count": 189,
   "id": "e86b6463",
   "metadata": {},
   "outputs": [],
   "source": [
    "\n",
    "def evaluate_model(y_pred, y_test):\n",
    "    \n",
    "    #valuate the logistic regression model by comparing the predicted values\n",
    "\n",
    "    correct_true = 0\n",
    "    correct_false = 0\n",
    "    incorrect_true = 0\n",
    "    incorrect_false = 0\n",
    "\n",
    "    for pred, test in zip(y_pred, y_test):\n",
    "        if pred == True:\n",
    "            if test== True:\n",
    "                correct_true += 1\n",
    "            else:\n",
    "                incorrect_false += 1\n",
    "        else:\n",
    "            if test== False:\n",
    "                correct_false += 1\n",
    "            else:\n",
    "                incorrect_false += 1\n",
    "\n",
    "    total_correct = correct_true + correct_false\n",
    "    total_predictions = len(y_pred)\n",
    "    accuracy = total_correct / total_predictions * 100\n",
    "\n",
    "    return correct_true, correct_false, incorrect_true, incorrect_false, accuracy\n"
   ]
  },
  {
   "cell_type": "code",
   "execution_count": 190,
   "id": "e90b300f",
   "metadata": {},
   "outputs": [],
   "source": [
    "correct_T,correct_F,incorrect_T,incorrect_F,score_=evaluate_model(y_pred,y_test)"
   ]
  },
  {
   "cell_type": "code",
   "execution_count": 191,
   "id": "17a9481f",
   "metadata": {},
   "outputs": [
    {
     "name": "stdout",
     "output_type": "stream",
     "text": [
      "Correct predictions of true notes: 150\n",
      "Correct predictions of false notes: 72\n",
      "Incorrect predictions of true notes: 0\n",
      "Incorrect predictions of false notes: 3\n",
      "Percentage of correct predictions: 98.67 %\n"
     ]
    }
   ],
   "source": [
    "print(\"Correct predictions of true notes:\", correct_T)\n",
    "print(\"Correct predictions of false notes:\", correct_F)\n",
    "print(\"Incorrect predictions of true notes:\", incorrect_T)\n",
    "print(\"Incorrect predictions of false notes:\", incorrect_F)\n",
    "print(\"Percentage of correct predictions:\", round(score_,2), \"%\")"
   ]
  },
  {
   "cell_type": "markdown",
   "id": "e1671fbd",
   "metadata": {},
   "source": [
    "#### Heat map"
   ]
  },
  {
   "cell_type": "code",
   "execution_count": 192,
   "id": "1859f1ac",
   "metadata": {},
   "outputs": [
    {
     "data": {
      "image/png": "[encoded data removed]",
      "text/plain": [
       "<Figure size 432x288 with 2 Axes>"
      ]
     },
     "metadata": {
      "needs_background": "light"
     },
     "output_type": "display_data"
    }
   ],
   "source": [
    "matrice=pd.DataFrame({'True notes':np.array([correct_T,incorrect_T]),'Fake notes':np.array([correct_F,incorrect_F])},index=['Correct prediction','Incorrect prediction'])\n",
    "sns.heatmap(matrice,cmap=\"OrRd\")\n",
    "plt.show()"
   ]
  },
  {
   "cell_type": "markdown",
   "id": "7219e290",
   "metadata": {},
   "source": [
    "#### 3D graph with lenght, margin_low and margin_up "
   ]
  },
  {
   "cell_type": "code",
   "execution_count": 193,
   "id": "3e07aa37",
   "metadata": {},
   "outputs": [],
   "source": [
    "from mpl_toolkits.mplot3d import Axes3D"
   ]
  },
  {
   "cell_type": "code",
   "execution_count": 194,
   "id": "27ec07e4",
   "metadata": {},
   "outputs": [
    {
     "data": {
      "image/png": "[encoded data removed]",
      "text/plain": [
       "<Figure size 1008x720 with 1 Axes>"
      ]
     },
     "metadata": {
      "needs_background": "light"
     },
     "output_type": "display_data"
    }
   ],
   "source": [
    "fig=plt.figure(figsize=(14,10))\n",
    "ax = Axes3D(fig,auto_add_to_figure=False)\n",
    "fig.add_axes(ax)\n",
    "\n",
    "x = notes['length']\n",
    "y = notes['margin_low']\n",
    "z = notes['margin_up']\n",
    "colors={False:\"red\",True:\"blue\"}\n",
    "\n",
    "ax.scatter(x, y, z, c=notes['is_genuine'].map(colors), marker='o')\n",
    "ax.set_xlabel('length')\n",
    "ax.set_ylabel('margin_low')\n",
    "ax.set_zlabel('margin_up')\n",
    "\n",
    "plt.show()"
   ]
  },
  {
   "cell_type": "markdown",
   "id": "e90a8939",
   "metadata": {},
   "source": [
    "#### Prediction out of another file"
   ]
  },
  {
   "cell_type": "code",
   "execution_count": 195,
   "id": "c5205823",
   "metadata": {},
   "outputs": [
    {
     "data": {
      "text/html": [
       "<div>\n",
       "<style scoped>\n",
       "    .dataframe tbody tr th:only-of-type {\n",
       "        vertical-align: middle;\n",
       "    }\n",
       "\n",
       "    .dataframe tbody tr th {\n",
       "        vertical-align: top;\n",
       "    }\n",
       "\n",
       "    .dataframe thead th {\n",
       "        text-align: right;\n",
       "    }\n",
       "</style>\n",
       "<table border=\"1\" class=\"dataframe\">\n",
       "  <thead>\n",
       "    <tr style=\"text-align: right;\">\n",
       "      <th></th>\n",
       "      <th>diagonal</th>\n",
       "      <th>height_left</th>\n",
       "      <th>height_right</th>\n",
       "      <th>margin_low</th>\n",
       "      <th>margin_up</th>\n",
       "      <th>length</th>\n",
       "      <th>id</th>\n",
       "    </tr>\n",
       "  </thead>\n",
       "  <tbody>\n",
       "    <tr>\n",
       "      <th>0</th>\n",
       "      <td>171.76</td>\n",
       "      <td>104.01</td>\n",
       "      <td>103.54</td>\n",
       "      <td>5.21</td>\n",
       "      <td>3.30</td>\n",
       "      <td>111.42</td>\n",
       "      <td>A_1</td>\n",
       "    </tr>\n",
       "    <tr>\n",
       "      <th>1</th>\n",
       "      <td>171.87</td>\n",
       "      <td>104.17</td>\n",
       "      <td>104.13</td>\n",
       "      <td>6.00</td>\n",
       "      <td>3.31</td>\n",
       "      <td>112.09</td>\n",
       "      <td>A_2</td>\n",
       "    </tr>\n",
       "    <tr>\n",
       "      <th>2</th>\n",
       "      <td>172.00</td>\n",
       "      <td>104.58</td>\n",
       "      <td>104.29</td>\n",
       "      <td>4.99</td>\n",
       "      <td>3.39</td>\n",
       "      <td>111.57</td>\n",
       "      <td>A_3</td>\n",
       "    </tr>\n",
       "    <tr>\n",
       "      <th>3</th>\n",
       "      <td>172.49</td>\n",
       "      <td>104.55</td>\n",
       "      <td>104.34</td>\n",
       "      <td>4.44</td>\n",
       "      <td>3.03</td>\n",
       "      <td>113.20</td>\n",
       "      <td>A_4</td>\n",
       "    </tr>\n",
       "    <tr>\n",
       "      <th>4</th>\n",
       "      <td>171.65</td>\n",
       "      <td>103.63</td>\n",
       "      <td>103.56</td>\n",
       "      <td>3.77</td>\n",
       "      <td>3.16</td>\n",
       "      <td>113.33</td>\n",
       "      <td>A_5</td>\n",
       "    </tr>\n",
       "  </tbody>\n",
       "</table>\n",
       "</div>"
      ],
      "text/plain": [
       "   diagonal  height_left  height_right  margin_low  margin_up  length   id\n",
       "0    171.76       104.01        103.54        5.21       3.30  111.42  A_1\n",
       "1    171.87       104.17        104.13        6.00       3.31  112.09  A_2\n",
       "2    172.00       104.58        104.29        4.99       3.39  111.57  A_3\n",
       "3    172.49       104.55        104.34        4.44       3.03  113.20  A_4\n",
       "4    171.65       103.63        103.56        3.77       3.16  113.33  A_5"
      ]
     },
     "execution_count": 195,
     "metadata": {},
     "output_type": "execute_result"
    }
   ],
   "source": [
    "notes_prod=pd.read_csv('billets_production.csv',sep=\",\")\n",
    "notes_prod"
   ]
  },
  {
   "cell_type": "code",
   "execution_count": 196,
   "id": "432aa03b",
   "metadata": {},
   "outputs": [],
   "source": [
    "#splitting the index column\n",
    "X_prod=notes_prod.drop(columns=\"id\")\n",
    "id_prod=notes_prod.id"
   ]
  },
  {
   "cell_type": "code",
   "execution_count": 197,
   "id": "640bb583",
   "metadata": {},
   "outputs": [],
   "source": [
    "pred_prod=model_log.predict(X_prod)"
   ]
  },
  {
   "cell_type": "code",
   "execution_count": 198,
   "id": "95be3005",
   "metadata": {},
   "outputs": [
    {
     "name": "stdout",
     "output_type": "stream",
     "text": [
      "The note with the ID: A_1 is False \n",
      "The note with the ID: A_2 is False \n",
      "The note with the ID: A_3 is False \n",
      "The note with the ID: A_4 is True \n",
      "The note with the ID: A_5 is True \n"
     ]
    }
   ],
   "source": [
    "for i in range(5):\n",
    "    print(\"The note with the ID: {} is {} \".format(id_prod[i],pred_prod[i]))"
   ]
  },
  {
   "cell_type": "markdown",
   "id": "a94a0671",
   "metadata": {},
   "source": [
    "### Kmeans prediction"
   ]
  },
  {
   "cell_type": "code",
   "execution_count": 199,
   "id": "d8643e9d",
   "metadata": {},
   "outputs": [],
   "source": [
    "from sklearn.cluster import KMeans"
   ]
  },
  {
   "cell_type": "markdown",
   "id": "9deb3347",
   "metadata": {},
   "source": [
    "#### Instanciation of kmean object for 2 groups"
   ]
  },
  {
   "cell_type": "code",
   "execution_count": 200,
   "id": "6024505f",
   "metadata": {},
   "outputs": [
    {
     "data": {
      "text/plain": [
       "KMeans(n_clusters=2)"
      ]
     },
     "execution_count": 200,
     "metadata": {},
     "output_type": "execute_result"
    }
   ],
   "source": [
    "kmean=KMeans(n_clusters=2)\n",
    "kmean.fit(x_train)"
   ]
  },
  {
   "cell_type": "markdown",
   "id": "7de84ee1",
   "metadata": {},
   "source": [
    "#### Addidng groups to the training matrix"
   ]
  },
  {
   "cell_type": "code",
   "execution_count": 201,
   "id": "1bfb1b11",
   "metadata": {},
   "outputs": [],
   "source": [
    "train_notes=pd.DataFrame(x_train)\n",
    "train_notes['group']=kmean.labels_\n",
    "train_notes['Is_genuine']=y_train"
   ]
  },
  {
   "cell_type": "code",
   "execution_count": 202,
   "id": "43d7a0c3",
   "metadata": {},
   "outputs": [
    {
     "data": {
      "text/html": [
       "<div>\n",
       "<style scoped>\n",
       "    .dataframe tbody tr th:only-of-type {\n",
       "        vertical-align: middle;\n",
       "    }\n",
       "\n",
       "    .dataframe tbody tr th {\n",
       "        vertical-align: top;\n",
       "    }\n",
       "\n",
       "    .dataframe thead th {\n",
       "        text-align: right;\n",
       "    }\n",
       "</style>\n",
       "<table border=\"1\" class=\"dataframe\">\n",
       "  <thead>\n",
       "    <tr style=\"text-align: right;\">\n",
       "      <th></th>\n",
       "      <th>diagonal</th>\n",
       "      <th>height_left</th>\n",
       "      <th>height_right</th>\n",
       "      <th>margin_low</th>\n",
       "      <th>margin_up</th>\n",
       "      <th>length</th>\n",
       "      <th>group</th>\n",
       "      <th>Is_genuine</th>\n",
       "    </tr>\n",
       "  </thead>\n",
       "  <tbody>\n",
       "    <tr>\n",
       "      <th>205</th>\n",
       "      <td>172.16</td>\n",
       "      <td>104.04</td>\n",
       "      <td>104.02</td>\n",
       "      <td>4.06</td>\n",
       "      <td>3.08</td>\n",
       "      <td>113.02</td>\n",
       "      <td>0</td>\n",
       "      <td>True</td>\n",
       "    </tr>\n",
       "    <tr>\n",
       "      <th>755</th>\n",
       "      <td>171.62</td>\n",
       "      <td>104.12</td>\n",
       "      <td>103.81</td>\n",
       "      <td>4.38</td>\n",
       "      <td>3.13</td>\n",
       "      <td>112.64</td>\n",
       "      <td>0</td>\n",
       "      <td>True</td>\n",
       "    </tr>\n",
       "    <tr>\n",
       "      <th>162</th>\n",
       "      <td>172.09</td>\n",
       "      <td>104.05</td>\n",
       "      <td>104.26</td>\n",
       "      <td>4.10</td>\n",
       "      <td>2.95</td>\n",
       "      <td>113.68</td>\n",
       "      <td>0</td>\n",
       "      <td>True</td>\n",
       "    </tr>\n",
       "    <tr>\n",
       "      <th>1287</th>\n",
       "      <td>171.31</td>\n",
       "      <td>103.95</td>\n",
       "      <td>104.07</td>\n",
       "      <td>5.14</td>\n",
       "      <td>3.41</td>\n",
       "      <td>112.44</td>\n",
       "      <td>1</td>\n",
       "      <td>False</td>\n",
       "    </tr>\n",
       "    <tr>\n",
       "      <th>1145</th>\n",
       "      <td>171.79</td>\n",
       "      <td>103.81</td>\n",
       "      <td>103.97</td>\n",
       "      <td>5.86</td>\n",
       "      <td>3.20</td>\n",
       "      <td>111.04</td>\n",
       "      <td>1</td>\n",
       "      <td>False</td>\n",
       "    </tr>\n",
       "    <tr>\n",
       "      <th>1360</th>\n",
       "      <td>171.98</td>\n",
       "      <td>104.44</td>\n",
       "      <td>104.26</td>\n",
       "      <td>5.75</td>\n",
       "      <td>3.20</td>\n",
       "      <td>110.93</td>\n",
       "      <td>1</td>\n",
       "      <td>False</td>\n",
       "    </tr>\n",
       "    <tr>\n",
       "      <th>1431</th>\n",
       "      <td>172.52</td>\n",
       "      <td>104.11</td>\n",
       "      <td>104.35</td>\n",
       "      <td>5.30</td>\n",
       "      <td>3.31</td>\n",
       "      <td>111.55</td>\n",
       "      <td>1</td>\n",
       "      <td>False</td>\n",
       "    </tr>\n",
       "    <tr>\n",
       "      <th>926</th>\n",
       "      <td>172.15</td>\n",
       "      <td>103.98</td>\n",
       "      <td>103.89</td>\n",
       "      <td>4.21</td>\n",
       "      <td>3.08</td>\n",
       "      <td>113.61</td>\n",
       "      <td>0</td>\n",
       "      <td>True</td>\n",
       "    </tr>\n",
       "    <tr>\n",
       "      <th>132</th>\n",
       "      <td>171.84</td>\n",
       "      <td>103.77</td>\n",
       "      <td>103.98</td>\n",
       "      <td>4.61</td>\n",
       "      <td>2.99</td>\n",
       "      <td>113.59</td>\n",
       "      <td>0</td>\n",
       "      <td>True</td>\n",
       "    </tr>\n",
       "    <tr>\n",
       "      <th>687</th>\n",
       "      <td>172.02</td>\n",
       "      <td>104.23</td>\n",
       "      <td>104.26</td>\n",
       "      <td>4.92</td>\n",
       "      <td>2.89</td>\n",
       "      <td>113.49</td>\n",
       "      <td>0</td>\n",
       "      <td>True</td>\n",
       "    </tr>\n",
       "  </tbody>\n",
       "</table>\n",
       "</div>"
      ],
      "text/plain": [
       "      diagonal  height_left  height_right  margin_low  margin_up  length  \\\n",
       "205     172.16       104.04        104.02        4.06       3.08  113.02   \n",
       "755     171.62       104.12        103.81        4.38       3.13  112.64   \n",
       "162     172.09       104.05        104.26        4.10       2.95  113.68   \n",
       "1287    171.31       103.95        104.07        5.14       3.41  112.44   \n",
       "1145    171.79       103.81        103.97        5.86       3.20  111.04   \n",
       "1360    171.98       104.44        104.26        5.75       3.20  110.93   \n",
       "1431    172.52       104.11        104.35        5.30       3.31  111.55   \n",
       "926     172.15       103.98        103.89        4.21       3.08  113.61   \n",
       "132     171.84       103.77        103.98        4.61       2.99  113.59   \n",
       "687     172.02       104.23        104.26        4.92       2.89  113.49   \n",
       "\n",
       "      group  Is_genuine  \n",
       "205       0        True  \n",
       "755       0        True  \n",
       "162       0        True  \n",
       "1287      1       False  \n",
       "1145      1       False  \n",
       "1360      1       False  \n",
       "1431      1       False  \n",
       "926       0        True  \n",
       "132       0        True  \n",
       "687       0        True  "
      ]
     },
     "execution_count": 202,
     "metadata": {},
     "output_type": "execute_result"
    }
   ],
   "source": [
    "train_notes.head(10)"
   ]
  },
  {
   "cell_type": "markdown",
   "id": "fa1d5013",
   "metadata": {},
   "source": [
    "#### From this kmean algortithm, the groups 0 would be for the \"True\" notes and group 1 for tha \"False\" notes"
   ]
  },
  {
   "cell_type": "markdown",
   "id": "5d1ecfa2",
   "metadata": {},
   "source": [
    "### Let's create a function to predict the notes based on the their distance from the centroids"
   ]
  },
  {
   "cell_type": "code",
   "execution_count": 206,
   "id": "7f430be3",
   "metadata": {},
   "outputs": [],
   "source": [
    "def pred_notes_kmean (kmean,data):\n",
    "    centroid_true=kmean.cluster_centers_[0]\n",
    "    centroid_false=kmean.cluster_centers_[1]\n",
    "    prediction=list()\n",
    "    #calcul of the distance of each notes from both centroids.\n",
    "    for row in data.itertuples(): \n",
    "        #with True note centroid\n",
    "        d1=(row[1]-centroid_true[0])**2\n",
    "        d2=(row[2]-centroid_true[1])**2\n",
    "        d3=(row[3]-centroid_true[2])**2\n",
    "        d4=(row[4]-centroid_true[3])**2\n",
    "        d5=(row[5]-centroid_true[4])**2\n",
    "        d6=(row[6]-centroid_true[5])**2\n",
    "        \n",
    "        d_true=d1+d2+d3+d4+d5+d6\n",
    "        \n",
    "        #with False note centroid\n",
    "        d1=(row[1]-centroid_false[0])**2\n",
    "        d2=(row[2]-centroid_false[1])**2\n",
    "        d3=(row[3]-centroid_false[2])**2\n",
    "        d4=(row[4]-centroid_false[3])**2\n",
    "        d5=(row[5]-centroid_false[4])**2\n",
    "        d6=(row[6]-centroid_false[5])**2\n",
    "        \n",
    "        d_false=d1+d2+d3+d4+d5+d6\n",
    "        \n",
    "        #Result\n",
    "        if d_true<=d_false:\n",
    "            prediction.append(True)\n",
    "        else:\n",
    "            prediction.append(False)\n",
    "    \n",
    "    return prediction"
   ]
  },
  {
   "cell_type": "markdown",
   "id": "cbe56c53",
   "metadata": {},
   "source": [
    "#### Let see now with our x_test matrix"
   ]
  },
  {
   "cell_type": "markdown",
   "id": "5a346d89",
   "metadata": {},
   "source": [
    "#### Let's compare with our y_test values"
   ]
  },
  {
   "cell_type": "code",
   "execution_count": 208,
   "id": "7590976c",
   "metadata": {},
   "outputs": [
    {
     "data": {
      "text/html": [
       "<div>\n",
       "<style scoped>\n",
       "    .dataframe tbody tr th:only-of-type {\n",
       "        vertical-align: middle;\n",
       "    }\n",
       "\n",
       "    .dataframe tbody tr th {\n",
       "        vertical-align: top;\n",
       "    }\n",
       "\n",
       "    .dataframe thead th {\n",
       "        text-align: right;\n",
       "    }\n",
       "</style>\n",
       "<table border=\"1\" class=\"dataframe\">\n",
       "  <thead>\n",
       "    <tr style=\"text-align: right;\">\n",
       "      <th></th>\n",
       "      <th>Test values)</th>\n",
       "      <th>predicted values</th>\n",
       "    </tr>\n",
       "  </thead>\n",
       "  <tbody>\n",
       "    <tr>\n",
       "      <th>405</th>\n",
       "      <td>True</td>\n",
       "      <td>True</td>\n",
       "    </tr>\n",
       "    <tr>\n",
       "      <th>27</th>\n",
       "      <td>True</td>\n",
       "      <td>True</td>\n",
       "    </tr>\n",
       "    <tr>\n",
       "      <th>1151</th>\n",
       "      <td>False</td>\n",
       "      <td>False</td>\n",
       "    </tr>\n",
       "    <tr>\n",
       "      <th>1452</th>\n",
       "      <td>False</td>\n",
       "      <td>True</td>\n",
       "    </tr>\n",
       "    <tr>\n",
       "      <th>728</th>\n",
       "      <td>True</td>\n",
       "      <td>False</td>\n",
       "    </tr>\n",
       "    <tr>\n",
       "      <th>...</th>\n",
       "      <td>...</td>\n",
       "      <td>...</td>\n",
       "    </tr>\n",
       "    <tr>\n",
       "      <th>1332</th>\n",
       "      <td>False</td>\n",
       "      <td>False</td>\n",
       "    </tr>\n",
       "    <tr>\n",
       "      <th>344</th>\n",
       "      <td>True</td>\n",
       "      <td>True</td>\n",
       "    </tr>\n",
       "    <tr>\n",
       "      <th>797</th>\n",
       "      <td>True</td>\n",
       "      <td>True</td>\n",
       "    </tr>\n",
       "    <tr>\n",
       "      <th>1229</th>\n",
       "      <td>False</td>\n",
       "      <td>False</td>\n",
       "    </tr>\n",
       "    <tr>\n",
       "      <th>169</th>\n",
       "      <td>True</td>\n",
       "      <td>True</td>\n",
       "    </tr>\n",
       "  </tbody>\n",
       "</table>\n",
       "<p>225 rows × 2 columns</p>\n",
       "</div>"
      ],
      "text/plain": [
       "      Test values)  predicted values\n",
       "405           True              True\n",
       "27            True              True\n",
       "1151         False             False\n",
       "1452         False              True\n",
       "728           True             False\n",
       "...            ...               ...\n",
       "1332         False             False\n",
       "344           True              True\n",
       "797           True              True\n",
       "1229         False             False\n",
       "169           True              True\n",
       "\n",
       "[225 rows x 2 columns]"
      ]
     },
     "execution_count": 208,
     "metadata": {},
     "output_type": "execute_result"
    }
   ],
   "source": [
    "y_pred=pred_notes_kmean(kmean,x_test)\n",
    "data={'Test values)':y_test,'predicted values':y_pred}\n",
    "matrice_true_false_K=pd.DataFrame(data)\n",
    "matrice_true_false_K"
   ]
  },
  {
   "cell_type": "markdown",
   "id": "8ee813d2",
   "metadata": {},
   "source": [
    "#### Model evaluation"
   ]
  },
  {
   "cell_type": "code",
   "execution_count": 209,
   "id": "dda8b49c",
   "metadata": {},
   "outputs": [
    {
     "name": "stdout",
     "output_type": "stream",
     "text": [
      "Correct predictions of true notes: 151\n",
      "Correct predictions of false notes: 68\n",
      "Incorrect predictions of true notes: 0\n",
      "Incorrect predictions of false notes: 6\n",
      "Percentage of correct predictions: 97.33 %\n"
     ]
    }
   ],
   "source": [
    "correct_T,correct_F,incorrect_T,incorrect_F,score_=evaluate_model(y_pred,y_test)\n",
    "print(\"Correct predictions of true notes:\", correct_T)\n",
    "print(\"Correct predictions of false notes:\", correct_F)\n",
    "print(\"Incorrect predictions of true notes:\", incorrect_T)\n",
    "print(\"Incorrect predictions of false notes:\", incorrect_F)\n",
    "print(\"Percentage of correct predictions:\", round(score_,2), \"%\")"
   ]
  },
  {
   "cell_type": "markdown",
   "id": "cde96b5a",
   "metadata": {},
   "source": [
    "#### Heat map"
   ]
  },
  {
   "cell_type": "code",
   "execution_count": 210,
   "id": "58b03e05",
   "metadata": {},
   "outputs": [
    {
     "data": {
      "image/png": "[encoded data removed]",
      "text/plain": [
       "<Figure size 432x288 with 2 Axes>"
      ]
     },
     "metadata": {
      "needs_background": "light"
     },
     "output_type": "display_data"
    }
   ],
   "source": [
    "matrice=pd.DataFrame({'True notes':np.array([correct_T,incorrect_T]),'Fake notes':np.array([correct_F,incorrect_F])},index=['Correct prediction','Incorrect prediction'])\n",
    "sns.heatmap(matrice,cmap=\"OrRd\")\n",
    "plt.show()"
   ]
  },
  {
   "cell_type": "markdown",
   "id": "b80ea9c3",
   "metadata": {},
   "source": [
    "#### Prediction out of another file with this kmean methode"
   ]
  },
  {
   "cell_type": "code",
   "execution_count": 211,
   "id": "9cba3642",
   "metadata": {
    "scrolled": false
   },
   "outputs": [
    {
     "data": {
      "text/html": [
       "<div>\n",
       "<style scoped>\n",
       "    .dataframe tbody tr th:only-of-type {\n",
       "        vertical-align: middle;\n",
       "    }\n",
       "\n",
       "    .dataframe tbody tr th {\n",
       "        vertical-align: top;\n",
       "    }\n",
       "\n",
       "    .dataframe thead th {\n",
       "        text-align: right;\n",
       "    }\n",
       "</style>\n",
       "<table border=\"1\" class=\"dataframe\">\n",
       "  <thead>\n",
       "    <tr style=\"text-align: right;\">\n",
       "      <th></th>\n",
       "      <th>diagonal</th>\n",
       "      <th>height_left</th>\n",
       "      <th>height_right</th>\n",
       "      <th>margin_low</th>\n",
       "      <th>margin_up</th>\n",
       "      <th>length</th>\n",
       "      <th>id</th>\n",
       "    </tr>\n",
       "  </thead>\n",
       "  <tbody>\n",
       "    <tr>\n",
       "      <th>0</th>\n",
       "      <td>171.76</td>\n",
       "      <td>104.01</td>\n",
       "      <td>103.54</td>\n",
       "      <td>5.21</td>\n",
       "      <td>3.30</td>\n",
       "      <td>111.42</td>\n",
       "      <td>A_1</td>\n",
       "    </tr>\n",
       "    <tr>\n",
       "      <th>1</th>\n",
       "      <td>171.87</td>\n",
       "      <td>104.17</td>\n",
       "      <td>104.13</td>\n",
       "      <td>6.00</td>\n",
       "      <td>3.31</td>\n",
       "      <td>112.09</td>\n",
       "      <td>A_2</td>\n",
       "    </tr>\n",
       "    <tr>\n",
       "      <th>2</th>\n",
       "      <td>172.00</td>\n",
       "      <td>104.58</td>\n",
       "      <td>104.29</td>\n",
       "      <td>4.99</td>\n",
       "      <td>3.39</td>\n",
       "      <td>111.57</td>\n",
       "      <td>A_3</td>\n",
       "    </tr>\n",
       "    <tr>\n",
       "      <th>3</th>\n",
       "      <td>172.49</td>\n",
       "      <td>104.55</td>\n",
       "      <td>104.34</td>\n",
       "      <td>4.44</td>\n",
       "      <td>3.03</td>\n",
       "      <td>113.20</td>\n",
       "      <td>A_4</td>\n",
       "    </tr>\n",
       "    <tr>\n",
       "      <th>4</th>\n",
       "      <td>171.65</td>\n",
       "      <td>103.63</td>\n",
       "      <td>103.56</td>\n",
       "      <td>3.77</td>\n",
       "      <td>3.16</td>\n",
       "      <td>113.33</td>\n",
       "      <td>A_5</td>\n",
       "    </tr>\n",
       "  </tbody>\n",
       "</table>\n",
       "</div>"
      ],
      "text/plain": [
       "   diagonal  height_left  height_right  margin_low  margin_up  length   id\n",
       "0    171.76       104.01        103.54        5.21       3.30  111.42  A_1\n",
       "1    171.87       104.17        104.13        6.00       3.31  112.09  A_2\n",
       "2    172.00       104.58        104.29        4.99       3.39  111.57  A_3\n",
       "3    172.49       104.55        104.34        4.44       3.03  113.20  A_4\n",
       "4    171.65       103.63        103.56        3.77       3.16  113.33  A_5"
      ]
     },
     "execution_count": 211,
     "metadata": {},
     "output_type": "execute_result"
    }
   ],
   "source": [
    "notes_prod"
   ]
  },
  {
   "cell_type": "code",
   "execution_count": 212,
   "id": "113d137b",
   "metadata": {},
   "outputs": [],
   "source": [
    "y_pred_prod=pred_notes_kmean(kmean,X_prod)"
   ]
  },
  {
   "cell_type": "code",
   "execution_count": 213,
   "id": "d0429c28",
   "metadata": {},
   "outputs": [
    {
     "name": "stdout",
     "output_type": "stream",
     "text": [
      "Le billet avec l'id: A_1 est False \n",
      "Le billet avec l'id: A_2 est False \n",
      "Le billet avec l'id: A_3 est False \n",
      "Le billet avec l'id: A_4 est True \n",
      "Le billet avec l'id: A_5 est True \n"
     ]
    }
   ],
   "source": [
    "for i in range(5):\n",
    "    print(\"Le billet avec l'id: {} est {} \".format(id_prod[i],y_pred_prod[i]))"
   ]
  },
  {
   "cell_type": "markdown",
   "id": "a5e45c76",
   "metadata": {},
   "source": [
    "### Graphique representation with 'length' and 'margin_low'"
   ]
  },
  {
   "cell_type": "code",
   "execution_count": 214,
   "id": "6eaf5058",
   "metadata": {},
   "outputs": [],
   "source": [
    "test_notes=pd.DataFrame(x_test)\n",
    "test_notes['groups']=y_pred\n",
    "test_notes['is_genuine']=y_test"
   ]
  },
  {
   "cell_type": "code",
   "execution_count": 215,
   "id": "3aa99087",
   "metadata": {},
   "outputs": [
    {
     "data": {
      "image/png": "[encoded data removed]",
      "text/plain": [
       "<Figure size 1008x720 with 1 Axes>"
      ]
     },
     "metadata": {
      "needs_background": "light"
     },
     "output_type": "display_data"
    }
   ],
   "source": [
    "fig=plt.figure(figsize=(14,10))\n",
    "sns.scatterplot(data=test_notes, x=\"length\", y=\"margin_low\", hue=\"is_genuine\", style=\"groups\")\n",
    "\n",
    "plt.show()"
   ]
  },
  {
   "cell_type": "code",
   "execution_count": null,
   "id": "38356aa6",
   "metadata": {},
   "outputs": [],
   "source": []
  }
 ],
 "metadata": {
  "kernelspec": {
   "display_name": "Python 3 (ipykernel)",
   "language": "python",
   "name": "python3"
  },
  "language_info": {
   "codemirror_mode": {
    "name": "ipython",
    "version": 3
   },
   "file_extension": ".py",
   "mimetype": "text/x-python",
   "name": "python",
   "nbconvert_exporter": "python",
   "pygments_lexer": "ipython3",
   "version": "3.9.7"
  }
 },
 "nbformat": 4,
 "nbformat_minor": 5
}
